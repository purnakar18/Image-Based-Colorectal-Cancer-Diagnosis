{
  "nbformat": 4,
  "nbformat_minor": 0,
  "metadata": {
    "colab": {
      "name": "Haralick.ipynb",
      "provenance": []
    },
    "kernelspec": {
      "name": "python3",
      "display_name": "Python 3"
    },
    "language_info": {
      "name": "python"
    },
    "accelerator": "GPU",
    "gpuClass": "standard"
  },
  "cells": [
    {
      "cell_type": "code",
      "execution_count": 1,
      "metadata": {
        "colab": {
          "base_uri": "https://localhost:8080/"
        },
        "id": "Bg1jOiHQIRzt",
        "outputId": "2bd565d3-b122-4153-dd61-1075e37f3ea7"
      },
      "outputs": [
        {
          "output_type": "stream",
          "name": "stdout",
          "text": [
            "Mounted at /content/drive\n"
          ]
        }
      ],
      "source": [
        "import os\n",
        "from google.colab import drive\n",
        "drive.mount('/content/drive')"
      ]
    },
    {
      "cell_type": "code",
      "source": [
        "!cp \"/content/drive/My Drive/Histopathology data/smalldata.zip\" \"smalldata.zip\""
      ],
      "metadata": {
        "id": "JEwwHZ5tIegE"
      },
      "execution_count": 2,
      "outputs": []
    },
    {
      "cell_type": "code",
      "source": [
        "!unzip -q smalldata.zip"
      ],
      "metadata": {
        "id": "AOug3V9PIgSs"
      },
      "execution_count": 3,
      "outputs": []
    },
    {
      "cell_type": "code",
      "source": [
        "import numpy as np\n",
        "from sklearn.model_selection import train_test_split\n",
        "with open('smalldata/files_list.txt', 'r') as fp:\n",
        "    files = fp.read().splitlines()\n",
        "classes_str = [file.split('/')[0] for file in files]\n",
        "classes_str, classes = np.unique(classes_str, return_inverse=True)\n",
        "print(classes_str)\n",
        "train_files, test_files, train_classes, test_classes = train_test_split(files, classes, train_size=0.7, test_size=0.3, stratify=classes)"
      ],
      "metadata": {
        "colab": {
          "base_uri": "https://localhost:8080/"
        },
        "id": "DnHBb3y0IgVt",
        "outputId": "19d9d515-55bc-446c-d9ad-7ad6af590f9a"
      },
      "execution_count": 4,
      "outputs": [
        {
          "output_type": "stream",
          "name": "stdout",
          "text": [
            "['NORM' 'TUM']\n"
          ]
        }
      ]
    },
    {
      "cell_type": "code",
      "source": [
        "import matplotlib.pyplot as plt\n",
        "import cv2, os \n",
        "import numpy as np\n",
        "dir_images = \"smalldata/\"\n",
        "train_imgs=[]\n",
        "for f in train_files:\n",
        "  s=dir_images+f\n",
        "  train_imgs.append(s)\n",
        "test_imgs=[]\n",
        "for f in test_files:\n",
        "  s=dir_images+f\n",
        "  test_imgs.append(s)"
      ],
      "metadata": {
        "id": "GtZHa9JzIgYe"
      },
      "execution_count": 5,
      "outputs": []
    },
    {
      "cell_type": "code",
      "source": [
        "print(len(train_files))\n",
        "print(len(train_imgs))\n",
        "print(len(test_files))\n",
        "print(len(test_imgs))"
      ],
      "metadata": {
        "colab": {
          "base_uri": "https://localhost:8080/"
        },
        "id": "EsDmYjSjIgbF",
        "outputId": "0e6ce36d-8480-484a-90ae-044b7c0954f6"
      },
      "execution_count": 6,
      "outputs": [
        {
          "output_type": "stream",
          "name": "stdout",
          "text": [
            "2240\n",
            "2240\n",
            "960\n",
            "960\n"
          ]
        }
      ]
    },
    {
      "cell_type": "code",
      "source": [
        "pip install mahotas"
      ],
      "metadata": {
        "colab": {
          "base_uri": "https://localhost:8080/"
        },
        "id": "FWBBhNlgJftL",
        "outputId": "d6bb5f78-b162-4e9b-c929-40eb97a20397"
      },
      "execution_count": 7,
      "outputs": [
        {
          "output_type": "stream",
          "name": "stdout",
          "text": [
            "Looking in indexes: https://pypi.org/simple, https://us-python.pkg.dev/colab-wheels/public/simple/\n",
            "Collecting mahotas\n",
            "  Downloading mahotas-1.4.13-cp37-cp37m-manylinux_2_12_x86_64.manylinux2010_x86_64.whl (5.7 MB)\n",
            "\u001b[K     |████████████████████████████████| 5.7 MB 15.7 MB/s \n",
            "\u001b[?25hRequirement already satisfied: numpy in /usr/local/lib/python3.7/dist-packages (from mahotas) (1.21.6)\n",
            "Installing collected packages: mahotas\n",
            "Successfully installed mahotas-1.4.13\n"
          ]
        }
      ]
    },
    {
      "cell_type": "code",
      "source": [
        "import cv2\n",
        "import numpy as np\n",
        "import os\n",
        "import glob\n",
        "import mahotas as mt\n",
        "from sklearn.svm import LinearSVC\n",
        "\n",
        "\n",
        "def extract_features(image):\n",
        "        # calculate the haralick texture features for 4 types of adjacency\n",
        "        textures = mt.features.haralick(image)\n",
        "\n",
        "        # find the mean of the features\n",
        "        ht_mean = textures.mean(axis=0)\n",
        "        return ht_mean"
      ],
      "metadata": {
        "id": "S3VEUlAdI2x9"
      },
      "execution_count": 8,
      "outputs": []
    },
    {
      "cell_type": "code",
      "source": [
        "import pandas as pd\n",
        "\n",
        "\n",
        "hist_list=[]\n",
        "labels=[]\n",
        "i=0\n",
        "for imgnm in train_imgs:\n",
        "    \n",
        "    i+=1\n",
        "    if i%500==0:\n",
        "      print(i)\n",
        "    image = plt.imread(imgnm)\n",
        "    \n",
        "    ht_mean = extract_features(image)\n",
        "    \n",
        "    \n",
        "    hist_list.append(ht_mean)\n",
        "    \n",
        "hist=np.array(hist_list)\n",
        "print(np.shape(hist))  \n",
        "\n",
        "df = pd.DataFrame(hist)  "
      ],
      "metadata": {
        "colab": {
          "base_uri": "https://localhost:8080/"
        },
        "id": "jZoh8wtoI20s",
        "outputId": "1df69d53-45c0-4f41-bf72-0b79ad7e1922"
      },
      "execution_count": 9,
      "outputs": [
        {
          "output_type": "stream",
          "name": "stdout",
          "text": [
            "500\n",
            "1000\n",
            "1500\n",
            "2000\n",
            "(2240, 13)\n"
          ]
        }
      ]
    },
    {
      "cell_type": "code",
      "source": [
        "hist_list=[]\n",
        "labels=[]\n",
        "i=0\n",
        "for imgnm in test_imgs:\n",
        "    \n",
        "    i+=1\n",
        "    if i%500==0:\n",
        "      print(i)\n",
        "    image = plt.imread(imgnm)\n",
        "    \n",
        "    ht_mean = extract_features(image)\n",
        "    \n",
        "    \n",
        "    hist_list.append(ht_mean)\n",
        "    \n",
        "hist=np.array(hist_list)\n",
        "print(np.shape(hist))  \n",
        "\n",
        "df1 = pd.DataFrame(hist) "
      ],
      "metadata": {
        "colab": {
          "base_uri": "https://localhost:8080/"
        },
        "id": "Olw2glnbI23r",
        "outputId": "a434bce9-4642-48d1-ac08-b2affa93f4b5"
      },
      "execution_count": 10,
      "outputs": [
        {
          "output_type": "stream",
          "name": "stdout",
          "text": [
            "500\n",
            "(960, 13)\n"
          ]
        }
      ]
    },
    {
      "cell_type": "code",
      "source": [
        "Y=[]\n",
        "for c in train_classes:\n",
        "  Y.append(c)\n",
        "Y=np.array(Y)\n",
        "\n",
        "y=[]\n",
        "for c in test_classes:\n",
        "  y.append(c)\n",
        "y=np.array(y)\n",
        "\n"
      ],
      "metadata": {
        "id": "LmAk_PhqL68c"
      },
      "execution_count": 11,
      "outputs": []
    },
    {
      "cell_type": "code",
      "source": [
        "from sklearn import svm\n",
        "clf = svm.SVC(kernel='linear')\n",
        "clf.fit(df, Y)"
      ],
      "metadata": {
        "colab": {
          "base_uri": "https://localhost:8080/"
        },
        "id": "DeJgbIxBL6_p",
        "outputId": "1a511b3b-6946-4756-f3c6-c73c1a96ac66"
      },
      "execution_count": 12,
      "outputs": [
        {
          "output_type": "execute_result",
          "data": {
            "text/plain": [
              "SVC(kernel='linear')"
            ]
          },
          "metadata": {},
          "execution_count": 12
        }
      ]
    },
    {
      "cell_type": "code",
      "source": [
        "y_pred = clf.predict(df1)"
      ],
      "metadata": {
        "id": "FjRaFj4TI26T"
      },
      "execution_count": 13,
      "outputs": []
    },
    {
      "cell_type": "code",
      "source": [
        "from sklearn.metrics import confusion_matrix\n",
        "cf_matrix=confusion_matrix(y, y_pred)"
      ],
      "metadata": {
        "id": "ZYOIjp4BMGtM"
      },
      "execution_count": 14,
      "outputs": []
    },
    {
      "cell_type": "code",
      "source": [
        "import seaborn as sns\n",
        "sns.set(rc={\"figure.figsize\":(8, 8)})\n",
        "sns.heatmap(cf_matrix/np.sum(cf_matrix,axis=1), annot=True, fmt='.2%', cmap='Blues')"
      ],
      "metadata": {
        "colab": {
          "base_uri": "https://localhost:8080/",
          "height": 502
        },
        "id": "Pkix0B3lMGwR",
        "outputId": "8e2d97f1-f083-4eee-9d70-d807e5c231b3"
      },
      "execution_count": 15,
      "outputs": [
        {
          "output_type": "execute_result",
          "data": {
            "text/plain": [
              "<matplotlib.axes._subplots.AxesSubplot at 0x7fa739f11810>"
            ]
          },
          "metadata": {},
          "execution_count": 15
        },
        {
          "output_type": "display_data",
          "data": {
            "text/plain": [
              "<Figure size 576x576 with 2 Axes>"
            ],
            "image/png": "[encoded data removed]"
          },
          "metadata": {}
        }
      ]
    },
    {
      "cell_type": "code",
      "source": [
        "from sklearn.metrics import accuracy_score\n",
        "acc_score=accuracy_score(y, y_pred)\n",
        "print(acc_score)"
      ],
      "metadata": {
        "colab": {
          "base_uri": "https://localhost:8080/"
        },
        "id": "m4LWuSlGMMga",
        "outputId": "8e2d6b35-c4b4-4cbd-db2c-4726f6d06748"
      },
      "execution_count": null,
      "outputs": [
        {
          "output_type": "stream",
          "name": "stdout",
          "text": [
            "0.7520833333333333\n"
          ]
        }
      ]
    }
  ]
}