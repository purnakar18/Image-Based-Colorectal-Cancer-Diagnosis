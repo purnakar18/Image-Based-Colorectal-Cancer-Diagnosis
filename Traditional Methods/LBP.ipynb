{
  "nbformat": 4,
  "nbformat_minor": 0,
  "metadata": {
    "colab": {
      "name": "LBP.ipynb",
      "provenance": [],
      "collapsed_sections": []
    },
    "kernelspec": {
      "name": "python3",
      "display_name": "Python 3"
    },
    "language_info": {
      "name": "python"
    },
    "accelerator": "GPU",
    "gpuClass": "standard"
  },
  "cells": [
    {
      "cell_type": "code",
      "execution_count": 1,
      "metadata": {
        "id": "2T16-Ke1hIhe"
      },
      "outputs": [],
      "source": [
        "import os\n",
        "import cv2\n",
        "import time\n",
        "import matplotlib.pyplot as plt\n",
        "plt.rcParams['figure.figsize'] = (20.0, 10.0)\n",
        "import numpy as np\n",
        "import torch\n",
        "from skimage import feature\n",
        "\n",
        "\n",
        "#from termcolor import colored\n",
        "from torch.utils.data import TensorDataset, Dataset, DataLoader\n"
      ]
    },
    {
      "cell_type": "code",
      "source": [
        "import os\n",
        "from google.colab import drive\n",
        "drive.mount('/content/drive')"
      ],
      "metadata": {
        "colab": {
          "base_uri": "https://localhost:8080/"
        },
        "id": "GXQ2N6GIvV9W",
        "outputId": "756d5072-91b6-40a5-ee83-806664a3e3da"
      },
      "execution_count": 3,
      "outputs": [
        {
          "output_type": "stream",
          "name": "stdout",
          "text": [
            "Mounted at /content/drive\n"
          ]
        }
      ]
    },
    {
      "cell_type": "code",
      "source": [
        "!cp \"/content/drive/My Drive/Histopathology data/smalldata.zip\" \"smalldata.zip\""
      ],
      "metadata": {
        "id": "-_BGU0vbvWDb"
      },
      "execution_count": 4,
      "outputs": []
    },
    {
      "cell_type": "code",
      "source": [
        "!unzip -q smalldata.zip"
      ],
      "metadata": {
        "id": "aAse2ywovWF7"
      },
      "execution_count": 5,
      "outputs": []
    },
    {
      "cell_type": "code",
      "source": [
        "import numpy as np\n",
        "from sklearn.model_selection import train_test_split\n",
        "with open('smalldata/files_list.txt', 'r') as fp:\n",
        "    files = fp.read().splitlines()\n",
        "classes_str = [file.split('/')[0] for file in files]\n",
        "classes_str, classes = np.unique(classes_str, return_inverse=True)\n",
        "print(classes_str)\n",
        "train_files, test_files, train_classes, test_classes = train_test_split(files, classes, train_size=0.7, test_size=0.3, stratify=classes)"
      ],
      "metadata": {
        "colab": {
          "base_uri": "https://localhost:8080/"
        },
        "id": "ici5SFxuv53-",
        "outputId": "06f4e242-a47e-41cb-af7d-0fecd2de162f"
      },
      "execution_count": 6,
      "outputs": [
        {
          "output_type": "stream",
          "name": "stdout",
          "text": [
            "['NORM' 'TUM']\n"
          ]
        }
      ]
    },
    {
      "cell_type": "code",
      "source": [
        "import matplotlib.pyplot as plt\n",
        "import cv2, os \n",
        "import numpy as np\n",
        "dir_images = \"smalldata/\"\n",
        "imgs=[]\n",
        "for f in train_files:\n",
        "  s=dir_images+f\n",
        "  imgs.append(s)\n",
        "imgs1=[]\n",
        "for f in test_files:\n",
        "  s=dir_images+f\n",
        "  imgs1.append(s)"
      ],
      "metadata": {
        "id": "zkZ7IOMJok-o"
      },
      "execution_count": 7,
      "outputs": []
    },
    {
      "cell_type": "code",
      "source": [
        "print(len(train_files))\n",
        "print(len(imgs))\n",
        "print(len(test_files))"
      ],
      "metadata": {
        "colab": {
          "base_uri": "https://localhost:8080/"
        },
        "id": "hIpbKT-KxY2e",
        "outputId": "86fac917-36bf-490c-c624-9779563f6920"
      },
      "execution_count": 8,
      "outputs": [
        {
          "output_type": "stream",
          "name": "stdout",
          "text": [
            "2240\n",
            "2240\n",
            "960\n"
          ]
        }
      ]
    },
    {
      "cell_type": "code",
      "source": [
        "def getLBPimage(image):\n",
        "\n",
        "    #Convert an image to grayscale\n",
        "    gray_image = cv2.cvtColor(image, cv2.COLOR_BGR2GRAY)\n",
        "    imgLBP = np.zeros_like(gray_image)\n",
        "    neighboor = 3 \n",
        "    for ih in range(0,image.shape[0] - neighboor):\n",
        "        for iw in range(0,image.shape[1] - neighboor):\n",
        "            # 3 by 3 pixel\n",
        "            img          = gray_image[ih:ih+neighboor,iw:iw+neighboor]\n",
        "            center       = img[1,1]\n",
        "            img01        = (img >= center)*1.0\n",
        "            img01_vector = img01.T.flatten()\n",
        "\n",
        "            #Binary operation\n",
        "            img01_vector = np.delete(img01_vector,4)\n",
        "            #Decimal: Convert the binary operated values to a digit.\n",
        "            where_img01_vector = np.where(img01_vector)[0]\n",
        "            if len(where_img01_vector) >= 1:\n",
        "                num = np.sum(2**where_img01_vector)\n",
        "            else:\n",
        "                num = 0\n",
        "            imgLBP[ih+1,iw+1] = num\n",
        "    return(imgLBP)"
      ],
      "metadata": {
        "id": "XnePRRFsolIJ"
      },
      "execution_count": 9,
      "outputs": []
    },
    {
      "cell_type": "code",
      "source": [
        "import pandas as pd\n",
        "\n",
        "\n",
        "hist_list=[]\n",
        "labels=[]\n",
        "i=0\n",
        "for imgnm in imgs:\n",
        "    i+=1\n",
        "    if i%500==0:\n",
        "      print(i)\n",
        "    image = plt.imread(imgnm)\n",
        "    \n",
        "    imgLBP    = getLBPimage(image)\n",
        "    vecimgLBP = imgLBP.flatten() \n",
        "    hist,bins=np.histogram(vecimgLBP,bins=2**8)\n",
        "    hist_list.append(hist)\n",
        "    \n",
        "hist=np.array(hist_list)\n",
        "print(np.shape(hist))  \n",
        "\n",
        "df = pd.DataFrame(hist)  \n"
      ],
      "metadata": {
        "id": "E4ttL2tKolMG",
        "colab": {
          "base_uri": "https://localhost:8080/"
        },
        "outputId": "6da2546d-a7b6-4392-86a5-d653f2f14643"
      },
      "execution_count": 10,
      "outputs": [
        {
          "output_type": "stream",
          "name": "stdout",
          "text": [
            "500\n",
            "1000\n",
            "1500\n",
            "2000\n",
            "(2240, 256)\n"
          ]
        }
      ]
    },
    {
      "cell_type": "code",
      "source": [
        "Y=[]\n",
        "for c in train_classes:\n",
        "  Y.append(c)\n",
        "Y=np.array(Y)\n",
        "\n",
        "y=[]\n",
        "for c in test_classes:\n",
        "  y.append(c)\n",
        "y=np.array(y)\n",
        "\n",
        "print(Y)"
      ],
      "metadata": {
        "id": "--dVLbf52UzM",
        "colab": {
          "base_uri": "https://localhost:8080/"
        },
        "outputId": "b16024ea-19ed-4d0c-9d7a-3a233fefc75a"
      },
      "execution_count": 11,
      "outputs": [
        {
          "output_type": "stream",
          "name": "stdout",
          "text": [
            "[1 0 1 ... 0 1 1]\n"
          ]
        }
      ]
    },
    {
      "cell_type": "code",
      "source": [
        "\n",
        "hist_list=[]\n",
        "labels1=[]\n",
        "for imgnm in imgs1:\n",
        "    image = plt.imread(imgnm)\n",
        "    \n",
        "    imgLBP    = getLBPimage(image)\n",
        "    vecimgLBP = imgLBP.flatten() \n",
        "    hist,bins=np.histogram(vecimgLBP,bins=2**8)\n",
        "    hist_list.append(hist)\n",
        "hist1=np.array(hist_list)\n",
        "print(np.shape(hist1))  \n",
        "df1 = pd.DataFrame(hist1)  \n"
      ],
      "metadata": {
        "id": "vPJt0EtnolO_",
        "colab": {
          "base_uri": "https://localhost:8080/"
        },
        "outputId": "6bd048f9-c393-4dea-b401-e6d812746c6f"
      },
      "execution_count": 12,
      "outputs": [
        {
          "output_type": "stream",
          "name": "stdout",
          "text": [
            "(960, 256)\n"
          ]
        }
      ]
    },
    {
      "cell_type": "code",
      "source": [
        "from sklearn import svm\n",
        "clf = svm.SVC(kernel='linear')\n",
        "clf.fit(df, Y)"
      ],
      "metadata": {
        "id": "1Wg5UfKjinlH",
        "colab": {
          "base_uri": "https://localhost:8080/"
        },
        "outputId": "848d1488-1b7f-47db-f85d-2ff9a1c73d78"
      },
      "execution_count": 13,
      "outputs": [
        {
          "output_type": "execute_result",
          "data": {
            "text/plain": [
              "SVC(kernel='linear')"
            ]
          },
          "metadata": {},
          "execution_count": 13
        }
      ]
    },
    {
      "cell_type": "code",
      "source": [
        "y_pred = clf.predict(df1)"
      ],
      "metadata": {
        "id": "mANWowYjinvs"
      },
      "execution_count": 14,
      "outputs": []
    },
    {
      "cell_type": "code",
      "source": [
        "from sklearn.metrics import confusion_matrix\n",
        "cf_matrix=confusion_matrix(y, y_pred)"
      ],
      "metadata": {
        "id": "AqeLQHjTkG0s"
      },
      "execution_count": 15,
      "outputs": []
    },
    {
      "cell_type": "code",
      "source": [
        "import seaborn as sns\n",
        "sns.set(rc={\"figure.figsize\":(8, 8)})\n",
        "sns.heatmap(cf_matrix/np.sum(cf_matrix,axis=1), annot=True, fmt='.2%', cmap='Blues')"
      ],
      "metadata": {
        "id": "Yp8PUq42kG3w",
        "colab": {
          "base_uri": "https://localhost:8080/",
          "height": 502
        },
        "outputId": "31400656-7fa5-4220-e808-216e5cc4eb17"
      },
      "execution_count": 16,
      "outputs": [
        {
          "output_type": "execute_result",
          "data": {
            "text/plain": [
              "<matplotlib.axes._subplots.AxesSubplot at 0x7f2733585950>"
            ]
          },
          "metadata": {},
          "execution_count": 16
        },
        {
          "output_type": "display_data",
          "data": {
            "text/plain": [
              "<Figure size 576x576 with 2 Axes>"
            ],
            "image/png": "[encoded data removed]"
          },
          "metadata": {}
        }
      ]
    },
    {
      "cell_type": "code",
      "source": [
        "from sklearn.metrics import accuracy_score\n",
        "acc_score=accuracy_score(y, y_pred)\n",
        "print(acc_score)"
      ],
      "metadata": {
        "id": "WPf12034kG-V",
        "colab": {
          "base_uri": "https://localhost:8080/"
        },
        "outputId": "6b3773e8-b0b4-4350-c53b-f2b958c45ff7"
      },
      "execution_count": null,
      "outputs": [
        {
          "output_type": "stream",
          "name": "stdout",
          "text": [
            "0.7645833333333333\n"
          ]
        }
      ]
    }
  ]
}