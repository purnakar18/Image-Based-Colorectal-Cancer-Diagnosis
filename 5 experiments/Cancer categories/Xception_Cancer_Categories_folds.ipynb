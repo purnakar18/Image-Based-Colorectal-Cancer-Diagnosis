{
  "cells": [
    {
      "cell_type": "code",
      "execution_count": null,
      "metadata": {
        "colab": {
          "base_uri": "https://localhost:8080/"
        },
        "id": "3e9XV577qy1E",
        "outputId": "f4e5df94-1773-425d-da1d-db1c7e4f7d7e"
      },
      "outputs": [
        {
          "name": "stdout",
          "output_type": "stream",
          "text": [
            "Mounted at /content/drive\n"
          ]
        }
      ],
      "source": [
        "import torch\n",
        "import torchvision\n",
        "import os\n",
        "from google.colab import drive\n",
        "drive.mount('/content/drive')"
      ]
    },
    {
      "cell_type": "code",
      "execution_count": null,
      "metadata": {
        "id": "HDqmPhZJrJFI"
      },
      "outputs": [],
      "source": [
        "!cp \"/content/drive/My Drive/Image based Colorectal Cancer diagnosis/dataset.zip\" \"dataset.zip\""
      ]
    },
    {
      "cell_type": "code",
      "execution_count": null,
      "metadata": {
        "id": "xB6Zef_OrJIC"
      },
      "outputs": [],
      "source": [
        "!unzip -q dataset.zip\n",
        "!unzip -q dataset/converted.zip\n",
        "!unzip -q dataset/test9classes.zip"
      ]
    },
    {
      "cell_type": "code",
      "execution_count": null,
      "metadata": {
        "id": "4KBhDs2vVpeA"
      },
      "outputs": [],
      "source": [
        "import torch\n",
        "import torch.nn as nn\n",
        "from torch.nn import functional as F\n",
        "import math\n",
        "\n",
        "\n",
        "\n",
        "class SeparableConvolution(nn.Module):\n",
        "    def __init__(self, input_channel, output_channel, kernel_size=1, stride=1, padding=0, dilation=1, bias=False):\n",
        "        super().__init__()\n",
        "        self.dwc = nn.Sequential(\n",
        "            nn.Conv2d(input_channel, input_channel, kernel_size, stride, padding, dilation, groups=input_channel, bias=bias),\n",
        "            nn.Conv2d(input_channel, output_channel, 1, 1, 0, 1, 1, bias=bias)\n",
        "        )\n",
        "    \n",
        "    def forward(self, X):\n",
        "        return self.dwc(X)\n",
        "\n",
        "class Block(nn.Module):\n",
        "    def __init__(self, input_channel, out_channel, reps, strides=1, relu=True, grow_first=True):\n",
        "        super().__init__()\n",
        "        if out_channel != input_channel or strides!=1:\n",
        "            self.skipConnections = nn.Sequential(\n",
        "                nn.Conv2d(input_channel, out_channel, 1, stride=strides, bias=False),\n",
        "                nn.BatchNorm2d(out_channel)\n",
        "            )\n",
        "        else:\n",
        "            self.skipConnections = None\n",
        "        self.relu = nn.ReLU(inplace=True)\n",
        "        rep = []\n",
        "\n",
        "        filters = input_channel\n",
        "        if grow_first:\n",
        "            rep.append(self.relu)\n",
        "            rep.append(SeparableConvolution(input_channel, out_channel, 3, stride=1, padding=1, bias=False))\n",
        "            rep.append(nn.BatchNorm2d(out_channel))\n",
        "            filters = out_channel\n",
        "        \n",
        "        for _ in range(reps-1):\n",
        "            rep.append(self.relu)\n",
        "            rep.append(SeparableConvolution(filters, filters, 3, stride=1, padding=1, bias=False))\n",
        "            rep.append(nn.BatchNorm2d(filters))\n",
        "        \n",
        "        if not grow_first:\n",
        "            rep.append(self.relu)\n",
        "            rep.append(SeparableConvolution(input_channel, out_channel, 3, stride=1, padding=1, bias=False))\n",
        "            rep.append(nn.BatchNorm2d(out_channel))\n",
        "\n",
        "        if not relu:\n",
        "            rep = rep[1:]\n",
        "        else:\n",
        "            rep[0] = nn.ReLU(inplace=False)\n",
        "\n",
        "        if strides != 1:\n",
        "            rep.append(nn.MaxPool2d(3, strides, 1))\n",
        "\n",
        "        self.rep = nn.Sequential(*rep)\n",
        "\n",
        "    def forward(self, input):\n",
        "        X = self.rep(input)\n",
        "\n",
        "        if self.skipConnections:\n",
        "            skip = self.skipConnections(input)\n",
        "        else:\n",
        "            skip = input\n",
        "        \n",
        "        X += skip\n",
        "        return X\n",
        "\n",
        "class Xception(nn.Module):\n",
        "    def __init__(self, input_channel, n_classes):\n",
        "        super().__init__()\n",
        "        self.n_classes = n_classes\n",
        "        self.relu = nn.ReLU(inplace=True)\n",
        "\n",
        "        self.initBlock = nn.Sequential(\n",
        "            nn.Conv2d(input_channel, 32, 3, 2, 1, bias=False),\n",
        "            nn.BatchNorm2d(32),\n",
        "            nn.ReLU(inplace=True),\n",
        "\n",
        "            nn.Conv2d(32, 64, kernel_size = 3, padding=1, bias=False),\n",
        "            nn.BatchNorm2d(64),\n",
        "            nn.ReLU(inplace=True)\n",
        "        )\n",
        "\n",
        "        self.block1=Block(64,128,2,2,relu=False,grow_first=True)\n",
        "        self.block2=Block(128,256,2,2,relu=True,grow_first=True)\n",
        "        self.block3=Block(256,728,2,2,relu=True,grow_first=True)\n",
        "\n",
        "        self.block4=Block(728,728,3,1,relu=True,grow_first=True)\n",
        "        self.block5=Block(728,728,3,1,relu=True,grow_first=True)\n",
        "        self.block6=Block(728,728,3,1,relu=True,grow_first=True)\n",
        "        self.block7=Block(728,728,3,1,relu=True,grow_first=True)\n",
        "\n",
        "        self.block8=Block(728,728,3,1,relu=True,grow_first=True)\n",
        "        self.block9=Block(728,728,3,1,relu=True,grow_first=True)\n",
        "        self.block10=Block(728,728,3,1,relu=True,grow_first=True)\n",
        "        self.block11=Block(728,728,3,1,relu=True,grow_first=True)\n",
        "\n",
        "        self.block12=Block(728,1024,2,2,relu=True,grow_first=False)\n",
        "\n",
        "        self.convolution3 = SeparableConvolution(1024,1536,3,1,1)\n",
        "        self.batchnorm3 = nn.BatchNorm2d(1536)\n",
        "\n",
        "        #do relu here\n",
        "        self.convolution4 = SeparableConvolution(1536,2048,3,1,1)\n",
        "        self.batchnorm4 = nn.BatchNorm2d(2048)\n",
        "\n",
        "        self.fc = nn.Linear(2048, self.n_classes)\n",
        "\n",
        "        #weight initialization\n",
        "        for m in self.modules():\n",
        "            if isinstance(m, nn.Conv2d):\n",
        "                n = m.kernel_size[0] * m.kernel_size[1] * m.out_channels\n",
        "                m.weight.data.normal_(0, math.sqrt(2. / n))\n",
        "            elif isinstance(m, nn.BatchNorm2d):\n",
        "                m.weight.data.fill_(1)\n",
        "                m.bias.data.zero_()\n",
        "\n",
        "    def forward(self, x):\n",
        "        x = self.initBlock(x)\n",
        "        x = self.block1(x)\n",
        "        \n",
        "        x = self.block2(x)\n",
        "        x = self.block3(x)\n",
        "        x = self.block4(x)\n",
        "        x = self.block5(x)\n",
        "        x = self.block6(x)\n",
        "        x = self.block7(x)\n",
        "        x = self.block8(x)\n",
        "        x = self.block9(x)\n",
        "        x = self.block10(x)\n",
        "        x = self.block11(x)\n",
        "        x = self.block12(x)\n",
        "        \n",
        "        x = self.convolution3(x)\n",
        "        x = self.batchnorm3(x)\n",
        "        x = self.relu(x)\n",
        "        \n",
        "        x = self.convolution4(x)\n",
        "        x = self.batchnorm4(x)\n",
        "        x = self.relu(x)\n",
        "\n",
        "        x = F.adaptive_avg_pool2d(x, (1, 1))\n",
        "        x = x.view(x.size(0), -1)\n",
        "        x = self.fc(x)\n",
        "\n",
        "        return x\n",
        "        x = self.block11(x)\n",
        "        x = self.block12(x)\n",
        "        \n",
        "        x = self.conv3(x)\n",
        "        x = self.bn3(x)\n",
        "        x = self.relu(x)\n",
        "        \n",
        "        x = self.conv4(x)\n",
        "        x = self.bn4(x)\n",
        "        x = self.relu(x)\n",
        "\n",
        "        x = F.adaptive_avg_pool2d(x, (1, 1))\n",
        "        x = x.view(x.size(0), -1)\n",
        "        x = self.fc(x)\n",
        "\n",
        "        return x"
      ]
    },
    {
      "cell_type": "code",
      "execution_count": null,
      "metadata": {
        "id": "F0D6Q7cjV9Z8"
      },
      "outputs": [],
      "source": [
        "class AverageMeter(object):\n",
        "    \"\"\"Computes and stores the average and current value\"\"\"\n",
        "    def __init__(self):\n",
        "        self.reset()\n",
        "\n",
        "    def reset(self):\n",
        "        self.val = 0\n",
        "        self.avg = 0\n",
        "        self.sum = 0\n",
        "        self.count = 0\n",
        "\n",
        "    def update(self, val, n=1):\n",
        "        self.val = val\n",
        "        self.sum += val * n\n",
        "        self.count += n\n",
        "        self.avg = self.sum / self.count"
      ]
    },
    {
      "cell_type": "code",
      "execution_count": null,
      "metadata": {
        "id": "kTdf1PDmWBJU"
      },
      "outputs": [],
      "source": [
        "from tqdm import tqdm_notebook as tqdm\n",
        "##define train function\n",
        "def train(model, device, train_loader, optimizer):\n",
        "    # meter\n",
        "    loss = AverageMeter()\n",
        "    # switch to train mode\n",
        "    model.train()\n",
        "    tk0 = tqdm(train_loader, total=int(len(train_loader)))\n",
        "    for batch_idx, (data, target) in enumerate(tk0):\n",
        "        \n",
        "        data, target = data.to(device), target.to(device)  \n",
        "        \n",
        "        output = model(data) \n",
        "        # compute the loss function\n",
        "        loss_this = F.cross_entropy(output, target)\n",
        "        # initialize the optimizer\n",
        "        optimizer.zero_grad()\n",
        "        # compute the backward pass\n",
        "        loss_this.backward()\n",
        "        # update the parameters\n",
        "        optimizer.step()\n",
        "        # update the loss meter \n",
        "        loss.update(loss_this.item(), target.shape[0])\n",
        "    print('Train: Average loss: {:.4f}\\n'.format(loss.avg))\n",
        "    return loss.avg    \n",
        "\n",
        "\n",
        "def validate(model, device, val_loader):\n",
        "    # meters\n",
        "    loss = AverageMeter()\n",
        "    acc = AverageMeter()\n",
        "    correct = 0\n",
        "    # switch to test mode\n",
        "    model.eval()\n",
        "    for data, target in val_loader:\n",
        "      \n",
        "        data, target = data.to(device), target.to(device)  \n",
        "        with torch.no_grad():\n",
        "            \n",
        "            output = model(data)\n",
        "       \n",
        "        loss_this = F.cross_entropy(output, target) \n",
        "        # get the index of the max log-probability\n",
        "        pred = output.argmax(dim=1, keepdim=True) \n",
        "        # check which are correct\n",
        "        correct_this = pred.eq(target.view_as(pred)).sum().item()\n",
        "        # accumulate the correct ones\n",
        "        correct += correct_this\n",
        "        # compute accuracy\n",
        "        acc_this = correct_this/target.shape[0]*100.0\n",
        "        # update the loss and accuracy meter \n",
        "        acc.update(acc_this, target.shape[0])\n",
        "        loss.update(loss_this.item(), target.shape[0])\n",
        "    print('Test: Average loss: {:.4f}, Accuracy: {}/{} ({:.2f}%)\\n'.format(\n",
        "        loss.avg, correct, len(val_loader.dataset), acc.avg))\n",
        "    return loss.avg,acc.avg\n",
        "##define test function\n",
        "\n",
        "def test(model, device, test_loader):\n",
        "    # meters\n",
        "    loss = AverageMeter()\n",
        "    acc = AverageMeter()\n",
        "    correct = 0\n",
        "    # switch to test mode\n",
        "    model.eval()\n",
        "    for data, target in test_loader:\n",
        "      \n",
        "        data, target = data.to(device), target.to(device)  \n",
        "        with torch.no_grad():\n",
        "            \n",
        "            output = model(data)\n",
        "       \n",
        "        loss_this = F.cross_entropy(output, target) \n",
        "        # get the index of the max log-probability\n",
        "        pred = output.argmax(dim=1, keepdim=True) \n",
        "        # check which are correct\n",
        "        correct_this = pred.eq(target.view_as(pred)).sum().item()\n",
        "        # accumulate the correct ones\n",
        "        correct += correct_this\n",
        "        # compute accuracy\n",
        "        acc_this = correct_this/target.shape[0]*100.0\n",
        "        # update the loss and accuracy meter \n",
        "        acc.update(acc_this, target.shape[0])\n",
        "        loss.update(loss_this.item(), target.shape[0])\n",
        "    print('Test: Average loss: {:.4f}, Accuracy: {}/{} ({:.2f}%)\\n'.format(\n",
        "        loss.avg, correct, len(test_loader.dataset), acc.avg))\n",
        "    return loss.avg,acc.avg"
      ]
    },
    {
      "cell_type": "code",
      "execution_count": null,
      "metadata": {
        "colab": {
          "base_uri": "https://localhost:8080/"
        },
        "id": "xB9PjmPnrJKw",
        "outputId": "ada96ac4-d1a4-4dc6-e6af-014b672aef46"
      },
      "outputs": [
        {
          "name": "stdout",
          "output_type": "stream",
          "text": [
            "['ADI' 'BACK' 'DEB' 'LYM' 'MUC' 'MUS' 'NORM' 'STR' 'TUM']\n"
          ]
        }
      ],
      "source": [
        "import numpy as np\n",
        "from sklearn.model_selection import train_test_split\n",
        "with open('converted/files_list.txt', 'r') as fp:\n",
        "    files = fp.read().splitlines()\n",
        "classes_str = [file.split('/')[0] for file in files]\n",
        "classes_str, classes = np.unique(classes_str, return_inverse=True)\n",
        "print(classes_str)\n",
        "train_files, val_files, train_classes, val_classes = train_test_split(files, classes, train_size=0.7, test_size=0.3, stratify=classes)"
      ]
    },
    {
      "cell_type": "code",
      "execution_count": null,
      "metadata": {
        "colab": {
          "base_uri": "https://localhost:8080/"
        },
        "id": "UW4BoDouWFji",
        "outputId": "4fc8f19c-55c0-4dbc-ac27-55399b973077"
      },
      "outputs": [
        {
          "name": "stdout",
          "output_type": "stream",
          "text": [
            "['ADI' 'BACK' 'DEB' 'LYM' 'MUC' 'MUS' 'NORM' 'STR' 'TUM']\n",
            "4050\n",
            "4050\n"
          ]
        }
      ],
      "source": [
        "with open('test9classes/files_list.txt', 'r') as fp:\n",
        "    files = fp.read().splitlines()\n",
        "classes_str = [file.split('/')[0] for file in files]\n",
        "classes_str, classes = np.unique(classes_str, return_inverse=True)\n",
        "print(classes_str)\n",
        "test_files=files\n",
        "test_classes = classes\n",
        "print(len(test_files))\n",
        "print(len(test_classes))"
      ]
    },
    {
      "cell_type": "code",
      "execution_count": null,
      "metadata": {
        "id": "-2Kov8i9rJNx"
      },
      "outputs": [],
      "source": [
        "from PIL import Image\n",
        "import torch.utils.data as data\n",
        "class Hist(data.Dataset):\n",
        "    def __init__(self, root, files, classes, transforms=None):\n",
        "        self.root = root\n",
        "        self.files = files\n",
        "        self.classes = classes\n",
        "        self.transforms = transforms\n",
        "\n",
        "    def __getitem__(self, item):\n",
        "        image = Image.open(os.path.join(self.root, self.files[item])).convert(mode=\"RGB\")\n",
        "        class_ = self.classes[item]\n",
        "        if self.transforms:\n",
        "            image = self.transforms(image)\n",
        "        return image, class_\n",
        "\n",
        "    def __len__(self):\n",
        "        return len(self.files)"
      ]
    },
    {
      "cell_type": "code",
      "execution_count": null,
      "metadata": {
        "id": "mYA3Z4NErJQB"
      },
      "outputs": [],
      "source": [
        "batch_size_train = 10 # We use a small batch size here for training\n",
        "batch_size_test = 5 #\n",
        "batch_size_val = 5\n",
        "\n",
        "# define how image transformed\n",
        "image_transform = torchvision.transforms.Compose([\n",
        "                               torchvision.transforms.Resize((224, 224)),\n",
        "                               torchvision.transforms.ToTensor(),\n",
        "                               torchvision.transforms.Normalize(\n",
        "                                 (0.5, 0.5, 0.5), (0.5, 0.5, 0.5))])\n",
        "#image datasets\n",
        "train_dataset = Hist('converted/', train_files, train_classes, \n",
        "                         transforms=image_transform)\n",
        "val_dataset = Hist('converted/', val_files, val_classes, \n",
        "                         transforms=image_transform)\n",
        "test_dataset = Hist('test9classes/', test_files, test_classes, \n",
        "                        transforms=image_transform)\n",
        "#data loaders\n",
        "train_loader = torch.utils.data.DataLoader(train_dataset,\n",
        "                                           batch_size=batch_size_train, \n",
        "                                           shuffle=True, num_workers=2)\n",
        "val_loader = torch.utils.data.DataLoader(val_dataset,\n",
        "                                           batch_size=batch_size_val, \n",
        "                                           shuffle=True, num_workers=2)\n",
        "\n",
        "test_loader = torch.utils.data.DataLoader(test_dataset,\n",
        "                                          batch_size=batch_size_test, \n",
        "                                          shuffle=True, num_workers=2)"
      ]
    },
    {
      "cell_type": "code",
      "execution_count": null,
      "metadata": {
        "colab": {
          "base_uri": "https://localhost:8080/",
          "height": 304
        },
        "id": "2bN17QGfrJSz",
        "outputId": "2f580bc0-4b1f-4809-8ad9-e4bfa0544acd"
      },
      "outputs": [
        {
          "name": "stderr",
          "output_type": "stream",
          "text": [
            "WARNING:matplotlib.image:Clipping input data to the valid range for imshow with RGB data ([0..1] for floats or [0..255] for integers).\n"
          ]
        },
        {
          "name": "stdout",
          "output_type": "stream",
          "text": [
            "Label: STR\n"
          ]
        },
        {
          "data": {
            "image/png": "[encoded data removed]",
            "text/plain": [
              "<Figure size 432x288 with 1 Axes>"
            ]
          },
          "metadata": {},
          "output_type": "display_data"
        }
      ],
      "source": [
        "# import library\n",
        "import matplotlib.pyplot as plt\n",
        "# Checking the data loader\n",
        "_, (example_datas, labels) = next(enumerate(train_loader))\n",
        "sample = example_datas[0]\n",
        "# showing random image from dataloader\n",
        "plt.imshow(sample.permute(1, 2, 0));\n",
        "print(\"Label: \" + str(classes_str[labels[0]]))"
      ]
    },
    {
      "cell_type": "code",
      "execution_count": null,
      "metadata": {
        "id": "hCCIrn0LrJVa"
      },
      "outputs": [],
      "source": [
        "drive.flush_and_unmount()\n",
        "!rm -rf /content/drive"
      ]
    },
    {
      "cell_type": "code",
      "execution_count": null,
      "metadata": {
        "colab": {
          "background_save": true,
          "base_uri": "https://localhost:8080/",
          "height": 1000,
          "referenced_widgets": [
            "dca82ea0c9dc4cd7ae5b94ad4c7b6002",
            "651f95f321fc4a0f8dd456433f3ae005",
            "0d2ea8b9b3f34caa876e18d26ca55ea1",
            "2e074597242d4df4a5c7b9ba79d1c1c7",
            "b01d72e11fdb42afb0b88b8027ff041e",
            "1c2165cb6a3f48df80af39b938f2ecbf",
            "685a5dd3e4974323b8defcb42835df94",
            "aca3748dff3d499090a499108a84d049",
            "fdb277b2b0274bcb8420aeb3ec9ba53f",
            "d5136f382a0d4f57b085a533d442ec81",
            "9a4b2784865d418daa9ad9fa3ff5b23d",
            "48306a82a282482e826656e316601d3c",
            "41bf0a3f1c8c4f8e8c907d2f01964829",
            "300e45f186a140cfbba493baa7ef64c5",
            "4ec20a3a17834e69ae1c85b6c8d4405b",
            "e59f68add980479987b4f146aae0a8dd",
            "e5a48f8a26b64a92912786efd71ebc1a",
            "c2e4abba129945448a74a72863c57db9",
            "278d4f3bc8694993bdf357bb05d980dd",
            "8ed51ef89ae54139843526000ba4bec8",
            "bc8f4198e7214b5aa5192011e9c8e76a",
            "054e127b67fd44c2bdfc007060b3966d",
            "06ec7867ca374d318e67c5032ff9c168",
            "5b68f65380214b9db2341575057fa5aa",
            "ef368619184d41f9be478bd4233a57c7",
            "b741992eed234b7383dafee3328e8c32",
            "7d46a5c207264341934e712ba0ee889e",
            "598bdda0333f44fca21a47ec0e0eedc9",
            "02e195bbfe9340d99a6f70d311df9033",
            "620873f44f6f46a4b7cfb60a73dd6e3b",
            "e1469185149846da9fc157a141c3640b",
            "070cac5a97d943349ab8ed0eede69496",
            "f55a332b7daf4f9e8d85a11eccaffc51",
            "dc7f31be46074b7e9fe67aea1e226e65",
            "7df7dd7b1a994de9a5690244e3ec4050",
            "fa0283e7c40b4ea9941c10ba4b90bf3e",
            "3d7d662b25c64081981d9b49548317dc",
            "c29defcffd1d4d078c4995d928a6231f",
            "ddc3febf8afa47b2ac21301c0d6a5acb",
            "1aa0ba782937448d9008b68e737994ea",
            "a08dfdb5c064405e80f1c4f551ca8080",
            "61c2670019074f859229c3ee922e0127",
            "3df9fdee8b8e47e7b474bd54b8a535f7",
            "e1e1cdd666fa4f55b28ae48ea6417ffc",
            "f9179d7287cc430f916adc392b64a0be",
            "16e0d7e4caed4b27af73e9c01885ec20",
            "46079733d4bb42f1931eab4622b22c02",
            "187e86ea3a534817845f482279da2650",
            "3742f56aa9cd48d0b915dc2797d85fee",
            "38a90b33adb643519be53cf823dde9be",
            "6da8431b26c64bdea61f4662614120da",
            "47fc48accad74bd3a11e643528cfdcd0",
            "265265e1f1b44ffb94765180df64c185",
            "84320ffd46d04728bf3dc92c581f8f1e",
            "a04d76bc73f74f9bb249ac92dfcaaa83",
            "d2c2491b155045f8b350629d4c9c3fdc",
            "56bfd334048747569319331cd39d8a5c",
            "5419c2f6efef450e80b845675e012396",
            "610962a8a5de45a3ac0b71a23a4a91d0",
            "103d182d9ec04f6a907e0c0af0751346",
            "6e290c31dd5d410ea1dbe1493f69b347",
            "2413ec196d994aa1874ecb66c30250c5",
            "1a09cc6138764a0092df52ae34585759",
            "f3991c5fb6f4405d95ea97f73f18e0a5",
            "54dc934ac4f04958a6be0210ae1f2a53",
            "04637753f9424da999ef52addbb52748",
            "2736e68063ef450ea98bd114ea6d5d41",
            "7d756b42f18f43818b1b6617e1d49c52",
            "f2228bbcdfac4dad8dafec39c7b10dba",
            "2e51ed03e20e411aaf239486af8af9e1",
            "0466ee82e9394593aa1b6be1c6ec4783",
            "d08e5b2eb49e4990b510afa4ccbf24f8",
            "113e00eeac724225a81dbde99afb6b4e",
            "b4e4a03be75b4b1a9bc33c3673573cf2",
            "1580ffdf04ed4f29beac7dd5b0516716",
            "ba28b49123204f38a9f37075f0ccb81c",
            "0b2adac03f0246c98da257b85f4aa656",
            "df6640ebb5ed47c084d614f47e64b86f",
            "fcee53a8e1e747a9a7d6270bf08f4260",
            "f600193bcd9d47b29da6d493190378f7",
            "4775f9b2afa64f6eae7b2af394412091",
            "f054204d34d44103b1578a2330dbf14f",
            "cdb04f69346b4d8f9f1fdd415eeca98d",
            "58f713131c1a4600a8c2a125afcdc1ee",
            "acc10d8a35e941f384c1758ef006d35a",
            "9c7fd72229634577acfa2b0a0e47f8b4",
            "400917e6d20f4e319af2a97a4605f9e6",
            "f5b6474e7bdc41478f8a198b47ae6a44",
            "6cfea69ab9964d1db5e8585e69aadcfa",
            "aeeff22960ba4a68bc31b1e05fcbf1b6",
            "05d220e70b0a4687a5aa259397611238",
            "cb9bb47e06bc4ab1a6e77539c1e26682",
            "56474d788acc40f38ee2c68aa3ca59c8",
            "bc4edfe9c93749adbf80c656aa6aa9d8",
            "4a53599417224315895035c60b78dc13",
            "d03155f5b13b422085ef3445cb8b3c1f",
            "dc6dfda6ccbb4f6ab534d78d5317b226",
            "8e06876e8f5e4d9cb66fdb10be38772b",
            "462bbb36d6014c4981d7e214042199ad",
            "8de0b66db7b74d0490823151e4de2d8a",
            "0b058c795fb04917963cad8e328f64e2",
            "7379f933fd024b6194f714f156adcf74",
            "75617d2b34844c66b7aac0de3b36eb72",
            "9f264630d9e2423789d1d618e419b5c1",
            "aa5fb931659f47538841549216313ef2",
            "6f92d3c3b9e34a30b83811ff5000b129",
            "17f35475bc2d432cb71b19219e97d0ff",
            "38c5f5750675476c9d110e0a36909f4a",
            "c2ad6b6f5d7a4fedb2d6afd3531158e3",
            "571945d98ec6472f886379fd2f204c33",
            "562e2908b7bc47d2a3f61ab25010cfd0",
            "477e6d19a4644c28b0fd4c1d3b26bd10",
            "6719644ed71e4944b05c97f464077d29",
            "538270f34b3047d48b1b1fb7222abf59",
            "8e1fea4b25c744ffa6427761107f9047",
            "9899ca5edf6947c3a552ec869a241a00",
            "646cc358a52042c38bf4b30fc9504e40",
            "30a6390a3ae445d6bd92131f95b1480e",
            "cb95afea4a934df78126781f74949038",
            "e80a582e11684c3daab2d73a58470c4b",
            "3a3bbb24451f4b3d8bd317ebaed35b92",
            "7d16e29d9ab843adade5a9df1b03c55c",
            "38a0ae07d7d94c5782e6841b77aa1377",
            "88b7719ae1f542248dd18eaeef3e6e41",
            "25662ede86394768b2ed0fd063cc3bd6",
            "0f560a7d6c6949abbf417a19df296606",
            "5518032026d14c419ccff229a8a2b606",
            "5ed8ad87e7574fb196af90402e036af3",
            "c00615de5b974800ac159a45851d0a80",
            "6293063f7c1b47c988f0fd57b8da1985",
            "24c0733cf2df40f9bc5dcfa5c73d5a76",
            "9438323103e24a1093135fa6e61be957",
            "75d3a732ad2a428a9149ef6051cfdb68",
            "fb68f81af83145b7874c02526cfbd5b0",
            "2d8bfff912d144088a3fd008f9917488",
            "4ab81c4aac9a4822a8f78b75b1964ec8",
            "279517b740c64144a7ca9379ccf831dc",
            "5c15b80ae145480db00f84ce615a641f",
            "6f634702785848048eda5615a0603589",
            "6bb0ba37723242e687f65cee258dc735",
            "6bfddfd6045b46728dae68dc8bde5bc1",
            "ded0ebaab8df4be3a23228b90ffa46fb",
            "7c68281c7ca2418eac588059fb98e879",
            "5f017a89826c4c2889a7954ea6022ab4",
            "c2c2f6028c9543a1b09fa6951086358b",
            "2750860c0ffc4139ac5a4f954fd695b5",
            "918446f40557483b90326b8026942ddc",
            "cd313c17e0ee48ab9174e801951221a2",
            "112d843faedc4733b3351c91fad3d94d",
            "0cc5834efc324de7b0983010367787cb"
          ]
        },
        "id": "yq7hKOzAWXlf",
        "outputId": "d58f5791-39ad-415f-8b42-16bb7bdeb784"
      },
      "outputs": [
        {
          "name": "stdout",
          "output_type": "stream",
          "text": [
            "Experiment:  1\n",
            "1\n"
          ]
        },
        {
          "name": "stderr",
          "output_type": "stream",
          "text": [
            "<ipython-input-11-7ceae6cba87a>:8: TqdmDeprecationWarning: This function will be removed in tqdm==5.0.0\n",
            "Please use `tqdm.notebook.tqdm` instead of `tqdm.tqdm_notebook`\n",
            "  tk0 = tqdm(train_loader, total=int(len(train_loader)))\n"
          ]
        },
        {
          "data": {
            "application/vnd.jupyter.widget-view+json": {
              "model_id": "dca82ea0c9dc4cd7ae5b94ad4c7b6002",
              "version_major": 2,
              "version_minor": 0
            },
            "text/plain": [
              "  0%|          | 0/1260 [00:00<?, ?it/s]"
            ]
          },
          "metadata": {},
          "output_type": "display_data"
        },
        {
          "name": "stdout",
          "output_type": "stream",
          "text": [
            "Train: Average loss: 0.9357\n",
            "\n",
            "Test: Average loss: 0.4677, Accuracy: 4516/5400 (83.63%)\n",
            "\n",
            "2\n"
          ]
        },
        {
          "data": {
            "application/vnd.jupyter.widget-view+json": {
              "model_id": "651f95f321fc4a0f8dd456433f3ae005",
              "version_major": 2,
              "version_minor": 0
            },
            "text/plain": [
              "  0%|          | 0/1260 [00:00<?, ?it/s]"
            ]
          },
          "metadata": {},
          "output_type": "display_data"
        },
        {
          "name": "stdout",
          "output_type": "stream",
          "text": [
            "Train: Average loss: 0.5597\n",
            "\n",
            "Test: Average loss: 0.5141, Accuracy: 4450/5400 (82.41%)\n",
            "\n",
            "3\n"
          ]
        },
        {
          "data": {
            "application/vnd.jupyter.widget-view+json": {
              "model_id": "0d2ea8b9b3f34caa876e18d26ca55ea1",
              "version_major": 2,
              "version_minor": 0
            },
            "text/plain": [
              "  0%|          | 0/1260 [00:00<?, ?it/s]"
            ]
          },
          "metadata": {},
          "output_type": "display_data"
        },
        {
          "name": "stdout",
          "output_type": "stream",
          "text": [
            "Train: Average loss: 0.4315\n",
            "\n",
            "Test: Average loss: 0.2390, Accuracy: 4958/5400 (91.81%)\n",
            "\n",
            "4\n"
          ]
        },
        {
          "data": {
            "application/vnd.jupyter.widget-view+json": {
              "model_id": "2e074597242d4df4a5c7b9ba79d1c1c7",
              "version_major": 2,
              "version_minor": 0
            },
            "text/plain": [
              "  0%|          | 0/1260 [00:00<?, ?it/s]"
            ]
          },
          "metadata": {},
          "output_type": "display_data"
        },
        {
          "name": "stdout",
          "output_type": "stream",
          "text": [
            "Train: Average loss: 0.3631\n",
            "\n",
            "Test: Average loss: 0.3536, Accuracy: 4763/5400 (88.20%)\n",
            "\n",
            "5\n"
          ]
        },
        {
          "data": {
            "application/vnd.jupyter.widget-view+json": {
              "model_id": "b01d72e11fdb42afb0b88b8027ff041e",
              "version_major": 2,
              "version_minor": 0
            },
            "text/plain": [
              "  0%|          | 0/1260 [00:00<?, ?it/s]"
            ]
          },
          "metadata": {},
          "output_type": "display_data"
        },
        {
          "name": "stdout",
          "output_type": "stream",
          "text": [
            "Train: Average loss: 0.2905\n",
            "\n",
            "Test: Average loss: 0.2817, Accuracy: 4871/5400 (90.20%)\n",
            "\n",
            "6\n"
          ]
        },
        {
          "data": {
            "application/vnd.jupyter.widget-view+json": {
              "model_id": "1c2165cb6a3f48df80af39b938f2ecbf",
              "version_major": 2,
              "version_minor": 0
            },
            "text/plain": [
              "  0%|          | 0/1260 [00:00<?, ?it/s]"
            ]
          },
          "metadata": {},
          "output_type": "display_data"
        },
        {
          "name": "stdout",
          "output_type": "stream",
          "text": [
            "Train: Average loss: 0.2553\n",
            "\n",
            "Test: Average loss: 0.1846, Accuracy: 5055/5400 (93.61%)\n",
            "\n",
            "7\n"
          ]
        },
        {
          "data": {
            "application/vnd.jupyter.widget-view+json": {
              "model_id": "685a5dd3e4974323b8defcb42835df94",
              "version_major": 2,
              "version_minor": 0
            },
            "text/plain": [
              "  0%|          | 0/1260 [00:00<?, ?it/s]"
            ]
          },
          "metadata": {},
          "output_type": "display_data"
        },
        {
          "name": "stdout",
          "output_type": "stream",
          "text": [
            "Train: Average loss: 0.2236\n",
            "\n",
            "Test: Average loss: 0.1857, Accuracy: 5066/5400 (93.81%)\n",
            "\n",
            "8\n"
          ]
        },
        {
          "data": {
            "application/vnd.jupyter.widget-view+json": {
              "model_id": "aca3748dff3d499090a499108a84d049",
              "version_major": 2,
              "version_minor": 0
            },
            "text/plain": [
              "  0%|          | 0/1260 [00:00<?, ?it/s]"
            ]
          },
          "metadata": {},
          "output_type": "display_data"
        },
        {
          "name": "stdout",
          "output_type": "stream",
          "text": [
            "Train: Average loss: 0.2019\n",
            "\n",
            "Test: Average loss: 0.1475, Accuracy: 5113/5400 (94.69%)\n",
            "\n",
            "9\n"
          ]
        },
        {
          "data": {
            "application/vnd.jupyter.widget-view+json": {
              "model_id": "fdb277b2b0274bcb8420aeb3ec9ba53f",
              "version_major": 2,
              "version_minor": 0
            },
            "text/plain": [
              "  0%|          | 0/1260 [00:00<?, ?it/s]"
            ]
          },
          "metadata": {},
          "output_type": "display_data"
        },
        {
          "name": "stdout",
          "output_type": "stream",
          "text": [
            "Train: Average loss: 0.1757\n",
            "\n",
            "Test: Average loss: 0.1710, Accuracy: 5092/5400 (94.30%)\n",
            "\n",
            "10\n"
          ]
        },
        {
          "data": {
            "application/vnd.jupyter.widget-view+json": {
              "model_id": "d5136f382a0d4f57b085a533d442ec81",
              "version_major": 2,
              "version_minor": 0
            },
            "text/plain": [
              "  0%|          | 0/1260 [00:00<?, ?it/s]"
            ]
          },
          "metadata": {},
          "output_type": "display_data"
        },
        {
          "name": "stdout",
          "output_type": "stream",
          "text": [
            "Train: Average loss: 0.1628\n",
            "\n",
            "Test: Average loss: 0.1433, Accuracy: 5135/5400 (95.09%)\n",
            "\n",
            "11\n"
          ]
        },
        {
          "data": {
            "application/vnd.jupyter.widget-view+json": {
              "model_id": "9a4b2784865d418daa9ad9fa3ff5b23d",
              "version_major": 2,
              "version_minor": 0
            },
            "text/plain": [
              "  0%|          | 0/1260 [00:00<?, ?it/s]"
            ]
          },
          "metadata": {},
          "output_type": "display_data"
        },
        {
          "name": "stdout",
          "output_type": "stream",
          "text": [
            "Train: Average loss: 0.1480\n",
            "\n",
            "Test: Average loss: 0.1329, Accuracy: 5160/5400 (95.56%)\n",
            "\n",
            "12\n"
          ]
        },
        {
          "data": {
            "application/vnd.jupyter.widget-view+json": {
              "model_id": "48306a82a282482e826656e316601d3c",
              "version_major": 2,
              "version_minor": 0
            },
            "text/plain": [
              "  0%|          | 0/1260 [00:00<?, ?it/s]"
            ]
          },
          "metadata": {},
          "output_type": "display_data"
        },
        {
          "name": "stdout",
          "output_type": "stream",
          "text": [
            "Train: Average loss: 0.1387\n",
            "\n",
            "Test: Average loss: 0.1076, Accuracy: 5213/5400 (96.54%)\n",
            "\n",
            "13\n"
          ]
        },
        {
          "data": {
            "application/vnd.jupyter.widget-view+json": {
              "model_id": "41bf0a3f1c8c4f8e8c907d2f01964829",
              "version_major": 2,
              "version_minor": 0
            },
            "text/plain": [
              "  0%|          | 0/1260 [00:00<?, ?it/s]"
            ]
          },
          "metadata": {},
          "output_type": "display_data"
        },
        {
          "name": "stdout",
          "output_type": "stream",
          "text": [
            "Train: Average loss: 0.1306\n",
            "\n",
            "Test: Average loss: 0.1653, Accuracy: 5088/5400 (94.22%)\n",
            "\n",
            "14\n"
          ]
        },
        {
          "data": {
            "application/vnd.jupyter.widget-view+json": {
              "model_id": "300e45f186a140cfbba493baa7ef64c5",
              "version_major": 2,
              "version_minor": 0
            },
            "text/plain": [
              "  0%|          | 0/1260 [00:00<?, ?it/s]"
            ]
          },
          "metadata": {},
          "output_type": "display_data"
        },
        {
          "name": "stdout",
          "output_type": "stream",
          "text": [
            "Train: Average loss: 0.1224\n",
            "\n",
            "Test: Average loss: 0.1274, Accuracy: 5145/5400 (95.28%)\n",
            "\n",
            "15\n"
          ]
        },
        {
          "data": {
            "application/vnd.jupyter.widget-view+json": {
              "model_id": "4ec20a3a17834e69ae1c85b6c8d4405b",
              "version_major": 2,
              "version_minor": 0
            },
            "text/plain": [
              "  0%|          | 0/1260 [00:00<?, ?it/s]"
            ]
          },
          "metadata": {},
          "output_type": "display_data"
        },
        {
          "name": "stdout",
          "output_type": "stream",
          "text": [
            "Train: Average loss: 0.0940\n",
            "\n",
            "Test: Average loss: 0.0978, Accuracy: 5192/5400 (96.15%)\n",
            "\n",
            "16\n"
          ]
        },
        {
          "data": {
            "application/vnd.jupyter.widget-view+json": {
              "model_id": "e59f68add980479987b4f146aae0a8dd",
              "version_major": 2,
              "version_minor": 0
            },
            "text/plain": [
              "  0%|          | 0/1260 [00:00<?, ?it/s]"
            ]
          },
          "metadata": {},
          "output_type": "display_data"
        },
        {
          "name": "stdout",
          "output_type": "stream",
          "text": [
            "Train: Average loss: 0.1004\n",
            "\n",
            "Test: Average loss: 0.0793, Accuracy: 5258/5400 (97.37%)\n",
            "\n",
            "17\n"
          ]
        },
        {
          "data": {
            "application/vnd.jupyter.widget-view+json": {
              "model_id": "e5a48f8a26b64a92912786efd71ebc1a",
              "version_major": 2,
              "version_minor": 0
            },
            "text/plain": [
              "  0%|          | 0/1260 [00:00<?, ?it/s]"
            ]
          },
          "metadata": {},
          "output_type": "display_data"
        },
        {
          "name": "stdout",
          "output_type": "stream",
          "text": [
            "Train: Average loss: 0.0872\n",
            "\n",
            "Test: Average loss: 0.0848, Accuracy: 5252/5400 (97.26%)\n",
            "\n",
            "18\n"
          ]
        },
        {
          "data": {
            "application/vnd.jupyter.widget-view+json": {
              "model_id": "c2e4abba129945448a74a72863c57db9",
              "version_major": 2,
              "version_minor": 0
            },
            "text/plain": [
              "  0%|          | 0/1260 [00:00<?, ?it/s]"
            ]
          },
          "metadata": {},
          "output_type": "display_data"
        },
        {
          "name": "stdout",
          "output_type": "stream",
          "text": [
            "Train: Average loss: 0.0777\n",
            "\n",
            "Test: Average loss: 0.0830, Accuracy: 5262/5400 (97.44%)\n",
            "\n",
            "19\n"
          ]
        },
        {
          "data": {
            "application/vnd.jupyter.widget-view+json": {
              "model_id": "278d4f3bc8694993bdf357bb05d980dd",
              "version_major": 2,
              "version_minor": 0
            },
            "text/plain": [
              "  0%|          | 0/1260 [00:00<?, ?it/s]"
            ]
          },
          "metadata": {},
          "output_type": "display_data"
        },
        {
          "name": "stdout",
          "output_type": "stream",
          "text": [
            "Train: Average loss: 0.0750\n",
            "\n",
            "Test: Average loss: 0.0879, Accuracy: 5247/5400 (97.17%)\n",
            "\n",
            "20\n"
          ]
        },
        {
          "data": {
            "application/vnd.jupyter.widget-view+json": {
              "model_id": "8ed51ef89ae54139843526000ba4bec8",
              "version_major": 2,
              "version_minor": 0
            },
            "text/plain": [
              "  0%|          | 0/1260 [00:00<?, ?it/s]"
            ]
          },
          "metadata": {},
          "output_type": "display_data"
        },
        {
          "name": "stdout",
          "output_type": "stream",
          "text": [
            "Train: Average loss: 0.0660\n",
            "\n",
            "Test: Average loss: 0.1698, Accuracy: 5078/5400 (94.04%)\n",
            "\n",
            "21\n"
          ]
        },
        {
          "data": {
            "application/vnd.jupyter.widget-view+json": {
              "model_id": "bc8f4198e7214b5aa5192011e9c8e76a",
              "version_major": 2,
              "version_minor": 0
            },
            "text/plain": [
              "  0%|          | 0/1260 [00:00<?, ?it/s]"
            ]
          },
          "metadata": {},
          "output_type": "display_data"
        },
        {
          "name": "stdout",
          "output_type": "stream",
          "text": [
            "Train: Average loss: 0.0684\n",
            "\n",
            "Test: Average loss: 0.0963, Accuracy: 5231/5400 (96.87%)\n",
            "\n",
            "22\n"
          ]
        },
        {
          "data": {
            "application/vnd.jupyter.widget-view+json": {
              "model_id": "054e127b67fd44c2bdfc007060b3966d",
              "version_major": 2,
              "version_minor": 0
            },
            "text/plain": [
              "  0%|          | 0/1260 [00:00<?, ?it/s]"
            ]
          },
          "metadata": {},
          "output_type": "display_data"
        },
        {
          "name": "stdout",
          "output_type": "stream",
          "text": [
            "Train: Average loss: 0.0602\n",
            "\n",
            "Test: Average loss: 0.0628, Accuracy: 5287/5400 (97.91%)\n",
            "\n",
            "23\n"
          ]
        },
        {
          "data": {
            "application/vnd.jupyter.widget-view+json": {
              "model_id": "06ec7867ca374d318e67c5032ff9c168",
              "version_major": 2,
              "version_minor": 0
            },
            "text/plain": [
              "  0%|          | 0/1260 [00:00<?, ?it/s]"
            ]
          },
          "metadata": {},
          "output_type": "display_data"
        },
        {
          "name": "stdout",
          "output_type": "stream",
          "text": [
            "Train: Average loss: 0.0649\n",
            "\n",
            "Test: Average loss: 0.0671, Accuracy: 5267/5400 (97.54%)\n",
            "\n",
            "24\n"
          ]
        },
        {
          "data": {
            "application/vnd.jupyter.widget-view+json": {
              "model_id": "5b68f65380214b9db2341575057fa5aa",
              "version_major": 2,
              "version_minor": 0
            },
            "text/plain": [
              "  0%|          | 0/1260 [00:00<?, ?it/s]"
            ]
          },
          "metadata": {},
          "output_type": "display_data"
        },
        {
          "name": "stdout",
          "output_type": "stream",
          "text": [
            "Train: Average loss: 0.0611\n",
            "\n",
            "Test: Average loss: 0.0813, Accuracy: 5254/5400 (97.30%)\n",
            "\n",
            "25\n"
          ]
        },
        {
          "data": {
            "application/vnd.jupyter.widget-view+json": {
              "model_id": "ef368619184d41f9be478bd4233a57c7",
              "version_major": 2,
              "version_minor": 0
            },
            "text/plain": [
              "  0%|          | 0/1260 [00:00<?, ?it/s]"
            ]
          },
          "metadata": {},
          "output_type": "display_data"
        },
        {
          "name": "stdout",
          "output_type": "stream",
          "text": [
            "Train: Average loss: 0.0518\n",
            "\n",
            "Test: Average loss: 0.0804, Accuracy: 5266/5400 (97.52%)\n",
            "\n",
            "26\n"
          ]
        },
        {
          "data": {
            "application/vnd.jupyter.widget-view+json": {
              "model_id": "b741992eed234b7383dafee3328e8c32",
              "version_major": 2,
              "version_minor": 0
            },
            "text/plain": [
              "  0%|          | 0/1260 [00:00<?, ?it/s]"
            ]
          },
          "metadata": {},
          "output_type": "display_data"
        },
        {
          "name": "stdout",
          "output_type": "stream",
          "text": [
            "Train: Average loss: 0.0412\n",
            "\n",
            "Test: Average loss: 0.1102, Accuracy: 5213/5400 (96.54%)\n",
            "\n",
            "27\n"
          ]
        },
        {
          "data": {
            "application/vnd.jupyter.widget-view+json": {
              "model_id": "7d46a5c207264341934e712ba0ee889e",
              "version_major": 2,
              "version_minor": 0
            },
            "text/plain": [
              "  0%|          | 0/1260 [00:00<?, ?it/s]"
            ]
          },
          "metadata": {},
          "output_type": "display_data"
        },
        {
          "name": "stdout",
          "output_type": "stream",
          "text": [
            "Train: Average loss: 0.0362\n",
            "\n",
            "Test: Average loss: 0.0755, Accuracy: 5275/5400 (97.69%)\n",
            "\n",
            "28\n"
          ]
        },
        {
          "data": {
            "application/vnd.jupyter.widget-view+json": {
              "model_id": "598bdda0333f44fca21a47ec0e0eedc9",
              "version_major": 2,
              "version_minor": 0
            },
            "text/plain": [
              "  0%|          | 0/1260 [00:00<?, ?it/s]"
            ]
          },
          "metadata": {},
          "output_type": "display_data"
        },
        {
          "name": "stdout",
          "output_type": "stream",
          "text": [
            "Train: Average loss: 0.0391\n",
            "\n",
            "Test: Average loss: 0.1644, Accuracy: 5136/5400 (95.11%)\n",
            "\n",
            "29\n"
          ]
        },
        {
          "data": {
            "application/vnd.jupyter.widget-view+json": {
              "model_id": "02e195bbfe9340d99a6f70d311df9033",
              "version_major": 2,
              "version_minor": 0
            },
            "text/plain": [
              "  0%|          | 0/1260 [00:00<?, ?it/s]"
            ]
          },
          "metadata": {},
          "output_type": "display_data"
        },
        {
          "name": "stdout",
          "output_type": "stream",
          "text": [
            "Train: Average loss: 0.0471\n",
            "\n",
            "Test: Average loss: 0.0807, Accuracy: 5259/5400 (97.39%)\n",
            "\n",
            "30\n"
          ]
        },
        {
          "data": {
            "application/vnd.jupyter.widget-view+json": {
              "model_id": "620873f44f6f46a4b7cfb60a73dd6e3b",
              "version_major": 2,
              "version_minor": 0
            },
            "text/plain": [
              "  0%|          | 0/1260 [00:00<?, ?it/s]"
            ]
          },
          "metadata": {},
          "output_type": "display_data"
        },
        {
          "name": "stdout",
          "output_type": "stream",
          "text": [
            "Train: Average loss: 0.0374\n",
            "\n",
            "Test: Average loss: 0.0717, Accuracy: 5274/5400 (97.67%)\n",
            "\n",
            "Test: Average loss: 0.0929, Accuracy: 3940/4050 (97.28%)\n",
            "\n",
            "Experiment:  2\n",
            "1\n"
          ]
        },
        {
          "data": {
            "application/vnd.jupyter.widget-view+json": {
              "model_id": "e1469185149846da9fc157a141c3640b",
              "version_major": 2,
              "version_minor": 0
            },
            "text/plain": [
              "  0%|          | 0/1260 [00:00<?, ?it/s]"
            ]
          },
          "metadata": {},
          "output_type": "display_data"
        },
        {
          "name": "stdout",
          "output_type": "stream",
          "text": [
            "Train: Average loss: 0.9377\n",
            "\n",
            "Test: Average loss: 0.5471, Accuracy: 4411/5400 (81.69%)\n",
            "\n",
            "2\n"
          ]
        },
        {
          "data": {
            "application/vnd.jupyter.widget-view+json": {
              "model_id": "070cac5a97d943349ab8ed0eede69496",
              "version_major": 2,
              "version_minor": 0
            },
            "text/plain": [
              "  0%|          | 0/1260 [00:00<?, ?it/s]"
            ]
          },
          "metadata": {},
          "output_type": "display_data"
        },
        {
          "name": "stdout",
          "output_type": "stream",
          "text": [
            "Train: Average loss: 0.5551\n",
            "\n",
            "Test: Average loss: 0.5372, Accuracy: 4364/5400 (80.81%)\n",
            "\n",
            "3\n"
          ]
        },
        {
          "data": {
            "application/vnd.jupyter.widget-view+json": {
              "model_id": "f55a332b7daf4f9e8d85a11eccaffc51",
              "version_major": 2,
              "version_minor": 0
            },
            "text/plain": [
              "  0%|          | 0/1260 [00:00<?, ?it/s]"
            ]
          },
          "metadata": {},
          "output_type": "display_data"
        },
        {
          "name": "stdout",
          "output_type": "stream",
          "text": [
            "Train: Average loss: 0.4347\n",
            "\n",
            "Test: Average loss: 0.2198, Accuracy: 4988/5400 (92.37%)\n",
            "\n",
            "4\n"
          ]
        },
        {
          "data": {
            "application/vnd.jupyter.widget-view+json": {
              "model_id": "dc7f31be46074b7e9fe67aea1e226e65",
              "version_major": 2,
              "version_minor": 0
            },
            "text/plain": [
              "  0%|          | 0/1260 [00:00<?, ?it/s]"
            ]
          },
          "metadata": {},
          "output_type": "display_data"
        },
        {
          "name": "stdout",
          "output_type": "stream",
          "text": [
            "Train: Average loss: 0.3418\n",
            "\n",
            "Test: Average loss: 0.2613, Accuracy: 4903/5400 (90.80%)\n",
            "\n",
            "5\n"
          ]
        },
        {
          "data": {
            "application/vnd.jupyter.widget-view+json": {
              "model_id": "7df7dd7b1a994de9a5690244e3ec4050",
              "version_major": 2,
              "version_minor": 0
            },
            "text/plain": [
              "  0%|          | 0/1260 [00:00<?, ?it/s]"
            ]
          },
          "metadata": {},
          "output_type": "display_data"
        },
        {
          "name": "stdout",
          "output_type": "stream",
          "text": [
            "Train: Average loss: 0.2961\n",
            "\n",
            "Test: Average loss: 0.2139, Accuracy: 5012/5400 (92.81%)\n",
            "\n",
            "6\n"
          ]
        },
        {
          "data": {
            "application/vnd.jupyter.widget-view+json": {
              "model_id": "fa0283e7c40b4ea9941c10ba4b90bf3e",
              "version_major": 2,
              "version_minor": 0
            },
            "text/plain": [
              "  0%|          | 0/1260 [00:00<?, ?it/s]"
            ]
          },
          "metadata": {},
          "output_type": "display_data"
        },
        {
          "name": "stdout",
          "output_type": "stream",
          "text": [
            "Train: Average loss: 0.2593\n",
            "\n",
            "Test: Average loss: 0.2293, Accuracy: 4983/5400 (92.28%)\n",
            "\n",
            "7\n"
          ]
        },
        {
          "data": {
            "application/vnd.jupyter.widget-view+json": {
              "model_id": "3d7d662b25c64081981d9b49548317dc",
              "version_major": 2,
              "version_minor": 0
            },
            "text/plain": [
              "  0%|          | 0/1260 [00:00<?, ?it/s]"
            ]
          },
          "metadata": {},
          "output_type": "display_data"
        },
        {
          "name": "stdout",
          "output_type": "stream",
          "text": [
            "Train: Average loss: 0.2257\n",
            "\n",
            "Test: Average loss: 0.1405, Accuracy: 5164/5400 (95.63%)\n",
            "\n",
            "8\n"
          ]
        },
        {
          "data": {
            "application/vnd.jupyter.widget-view+json": {
              "model_id": "c29defcffd1d4d078c4995d928a6231f",
              "version_major": 2,
              "version_minor": 0
            },
            "text/plain": [
              "  0%|          | 0/1260 [00:00<?, ?it/s]"
            ]
          },
          "metadata": {},
          "output_type": "display_data"
        },
        {
          "name": "stdout",
          "output_type": "stream",
          "text": [
            "Train: Average loss: 0.1949\n",
            "\n",
            "Test: Average loss: 0.1611, Accuracy: 5112/5400 (94.67%)\n",
            "\n",
            "9\n"
          ]
        },
        {
          "data": {
            "application/vnd.jupyter.widget-view+json": {
              "model_id": "ddc3febf8afa47b2ac21301c0d6a5acb",
              "version_major": 2,
              "version_minor": 0
            },
            "text/plain": [
              "  0%|          | 0/1260 [00:00<?, ?it/s]"
            ]
          },
          "metadata": {},
          "output_type": "display_data"
        },
        {
          "name": "stdout",
          "output_type": "stream",
          "text": [
            "Train: Average loss: 0.1821\n",
            "\n",
            "Test: Average loss: 0.1263, Accuracy: 5172/5400 (95.78%)\n",
            "\n",
            "10\n"
          ]
        },
        {
          "data": {
            "application/vnd.jupyter.widget-view+json": {
              "model_id": "1aa0ba782937448d9008b68e737994ea",
              "version_major": 2,
              "version_minor": 0
            },
            "text/plain": [
              "  0%|          | 0/1260 [00:00<?, ?it/s]"
            ]
          },
          "metadata": {},
          "output_type": "display_data"
        },
        {
          "name": "stdout",
          "output_type": "stream",
          "text": [
            "Train: Average loss: 0.1607\n",
            "\n",
            "Test: Average loss: 0.1513, Accuracy: 5130/5400 (95.00%)\n",
            "\n",
            "11\n"
          ]
        },
        {
          "data": {
            "application/vnd.jupyter.widget-view+json": {
              "model_id": "a08dfdb5c064405e80f1c4f551ca8080",
              "version_major": 2,
              "version_minor": 0
            },
            "text/plain": [
              "  0%|          | 0/1260 [00:00<?, ?it/s]"
            ]
          },
          "metadata": {},
          "output_type": "display_data"
        },
        {
          "name": "stdout",
          "output_type": "stream",
          "text": [
            "Train: Average loss: 0.1342\n",
            "\n",
            "Test: Average loss: 0.1283, Accuracy: 5186/5400 (96.04%)\n",
            "\n",
            "12\n"
          ]
        },
        {
          "data": {
            "application/vnd.jupyter.widget-view+json": {
              "model_id": "61c2670019074f859229c3ee922e0127",
              "version_major": 2,
              "version_minor": 0
            },
            "text/plain": [
              "  0%|          | 0/1260 [00:00<?, ?it/s]"
            ]
          },
          "metadata": {},
          "output_type": "display_data"
        },
        {
          "name": "stdout",
          "output_type": "stream",
          "text": [
            "Train: Average loss: 0.1350\n",
            "\n",
            "Test: Average loss: 0.1249, Accuracy: 5186/5400 (96.04%)\n",
            "\n",
            "13\n"
          ]
        },
        {
          "data": {
            "application/vnd.jupyter.widget-view+json": {
              "model_id": "3df9fdee8b8e47e7b474bd54b8a535f7",
              "version_major": 2,
              "version_minor": 0
            },
            "text/plain": [
              "  0%|          | 0/1260 [00:00<?, ?it/s]"
            ]
          },
          "metadata": {},
          "output_type": "display_data"
        },
        {
          "name": "stdout",
          "output_type": "stream",
          "text": [
            "Train: Average loss: 0.1288\n",
            "\n",
            "Test: Average loss: 0.1217, Accuracy: 5163/5400 (95.61%)\n",
            "\n",
            "14\n"
          ]
        },
        {
          "data": {
            "application/vnd.jupyter.widget-view+json": {
              "model_id": "e1e1cdd666fa4f55b28ae48ea6417ffc",
              "version_major": 2,
              "version_minor": 0
            },
            "text/plain": [
              "  0%|          | 0/1260 [00:00<?, ?it/s]"
            ]
          },
          "metadata": {},
          "output_type": "display_data"
        },
        {
          "name": "stdout",
          "output_type": "stream",
          "text": [
            "Train: Average loss: 0.1179\n",
            "\n",
            "Test: Average loss: 0.0847, Accuracy: 5240/5400 (97.04%)\n",
            "\n",
            "15\n"
          ]
        },
        {
          "data": {
            "application/vnd.jupyter.widget-view+json": {
              "model_id": "f9179d7287cc430f916adc392b64a0be",
              "version_major": 2,
              "version_minor": 0
            },
            "text/plain": [
              "  0%|          | 0/1260 [00:00<?, ?it/s]"
            ]
          },
          "metadata": {},
          "output_type": "display_data"
        },
        {
          "name": "stdout",
          "output_type": "stream",
          "text": [
            "Train: Average loss: 0.0988\n",
            "\n",
            "Test: Average loss: 0.0926, Accuracy: 5245/5400 (97.13%)\n",
            "\n",
            "16\n"
          ]
        },
        {
          "data": {
            "application/vnd.jupyter.widget-view+json": {
              "model_id": "16e0d7e4caed4b27af73e9c01885ec20",
              "version_major": 2,
              "version_minor": 0
            },
            "text/plain": [
              "  0%|          | 0/1260 [00:00<?, ?it/s]"
            ]
          },
          "metadata": {},
          "output_type": "display_data"
        },
        {
          "name": "stdout",
          "output_type": "stream",
          "text": [
            "Train: Average loss: 0.1004\n",
            "\n",
            "Test: Average loss: 0.0931, Accuracy: 5217/5400 (96.61%)\n",
            "\n",
            "17\n"
          ]
        },
        {
          "data": {
            "application/vnd.jupyter.widget-view+json": {
              "model_id": "46079733d4bb42f1931eab4622b22c02",
              "version_major": 2,
              "version_minor": 0
            },
            "text/plain": [
              "  0%|          | 0/1260 [00:00<?, ?it/s]"
            ]
          },
          "metadata": {},
          "output_type": "display_data"
        },
        {
          "name": "stdout",
          "output_type": "stream",
          "text": [
            "Train: Average loss: 0.0936\n",
            "\n",
            "Test: Average loss: 0.1122, Accuracy: 5200/5400 (96.30%)\n",
            "\n",
            "18\n"
          ]
        },
        {
          "data": {
            "application/vnd.jupyter.widget-view+json": {
              "model_id": "187e86ea3a534817845f482279da2650",
              "version_major": 2,
              "version_minor": 0
            },
            "text/plain": [
              "  0%|          | 0/1260 [00:00<?, ?it/s]"
            ]
          },
          "metadata": {},
          "output_type": "display_data"
        },
        {
          "name": "stdout",
          "output_type": "stream",
          "text": [
            "Train: Average loss: 0.0800\n",
            "\n",
            "Test: Average loss: 0.0822, Accuracy: 5252/5400 (97.26%)\n",
            "\n",
            "19\n"
          ]
        },
        {
          "data": {
            "application/vnd.jupyter.widget-view+json": {
              "model_id": "3742f56aa9cd48d0b915dc2797d85fee",
              "version_major": 2,
              "version_minor": 0
            },
            "text/plain": [
              "  0%|          | 0/1260 [00:00<?, ?it/s]"
            ]
          },
          "metadata": {},
          "output_type": "display_data"
        },
        {
          "name": "stdout",
          "output_type": "stream",
          "text": [
            "Train: Average loss: 0.0764\n",
            "\n",
            "Test: Average loss: 0.0899, Accuracy: 5249/5400 (97.20%)\n",
            "\n",
            "20\n"
          ]
        },
        {
          "data": {
            "application/vnd.jupyter.widget-view+json": {
              "model_id": "38a90b33adb643519be53cf823dde9be",
              "version_major": 2,
              "version_minor": 0
            },
            "text/plain": [
              "  0%|          | 0/1260 [00:00<?, ?it/s]"
            ]
          },
          "metadata": {},
          "output_type": "display_data"
        },
        {
          "name": "stdout",
          "output_type": "stream",
          "text": [
            "Train: Average loss: 0.0746\n",
            "\n",
            "Test: Average loss: 0.0994, Accuracy: 5236/5400 (96.96%)\n",
            "\n",
            "21\n"
          ]
        },
        {
          "data": {
            "application/vnd.jupyter.widget-view+json": {
              "model_id": "6da8431b26c64bdea61f4662614120da",
              "version_major": 2,
              "version_minor": 0
            },
            "text/plain": [
              "  0%|          | 0/1260 [00:00<?, ?it/s]"
            ]
          },
          "metadata": {},
          "output_type": "display_data"
        },
        {
          "name": "stdout",
          "output_type": "stream",
          "text": [
            "Train: Average loss: 0.0658\n",
            "\n",
            "Test: Average loss: 0.0790, Accuracy: 5274/5400 (97.67%)\n",
            "\n",
            "22\n"
          ]
        },
        {
          "data": {
            "application/vnd.jupyter.widget-view+json": {
              "model_id": "47fc48accad74bd3a11e643528cfdcd0",
              "version_major": 2,
              "version_minor": 0
            },
            "text/plain": [
              "  0%|          | 0/1260 [00:00<?, ?it/s]"
            ]
          },
          "metadata": {},
          "output_type": "display_data"
        },
        {
          "name": "stdout",
          "output_type": "stream",
          "text": [
            "Train: Average loss: 0.0661\n",
            "\n",
            "Test: Average loss: 0.0733, Accuracy: 5268/5400 (97.56%)\n",
            "\n",
            "23\n"
          ]
        },
        {
          "data": {
            "application/vnd.jupyter.widget-view+json": {
              "model_id": "265265e1f1b44ffb94765180df64c185",
              "version_major": 2,
              "version_minor": 0
            },
            "text/plain": [
              "  0%|          | 0/1260 [00:00<?, ?it/s]"
            ]
          },
          "metadata": {},
          "output_type": "display_data"
        },
        {
          "name": "stdout",
          "output_type": "stream",
          "text": [
            "Train: Average loss: 0.0577\n",
            "\n",
            "Test: Average loss: 0.0785, Accuracy: 5263/5400 (97.46%)\n",
            "\n",
            "24\n"
          ]
        },
        {
          "data": {
            "application/vnd.jupyter.widget-view+json": {
              "model_id": "84320ffd46d04728bf3dc92c581f8f1e",
              "version_major": 2,
              "version_minor": 0
            },
            "text/plain": [
              "  0%|          | 0/1260 [00:00<?, ?it/s]"
            ]
          },
          "metadata": {},
          "output_type": "display_data"
        },
        {
          "name": "stdout",
          "output_type": "stream",
          "text": [
            "Train: Average loss: 0.0571\n",
            "\n",
            "Test: Average loss: 0.0799, Accuracy: 5268/5400 (97.56%)\n",
            "\n",
            "25\n"
          ]
        },
        {
          "data": {
            "application/vnd.jupyter.widget-view+json": {
              "model_id": "a04d76bc73f74f9bb249ac92dfcaaa83",
              "version_major": 2,
              "version_minor": 0
            },
            "text/plain": [
              "  0%|          | 0/1260 [00:00<?, ?it/s]"
            ]
          },
          "metadata": {},
          "output_type": "display_data"
        },
        {
          "name": "stdout",
          "output_type": "stream",
          "text": [
            "Train: Average loss: 0.0529\n",
            "\n",
            "Test: Average loss: 0.0852, Accuracy: 5224/5400 (96.74%)\n",
            "\n",
            "26\n"
          ]
        },
        {
          "data": {
            "application/vnd.jupyter.widget-view+json": {
              "model_id": "d2c2491b155045f8b350629d4c9c3fdc",
              "version_major": 2,
              "version_minor": 0
            },
            "text/plain": [
              "  0%|          | 0/1260 [00:00<?, ?it/s]"
            ]
          },
          "metadata": {},
          "output_type": "display_data"
        },
        {
          "name": "stdout",
          "output_type": "stream",
          "text": [
            "Train: Average loss: 0.0532\n",
            "\n",
            "Test: Average loss: 0.0822, Accuracy: 5248/5400 (97.19%)\n",
            "\n",
            "27\n"
          ]
        },
        {
          "data": {
            "application/vnd.jupyter.widget-view+json": {
              "model_id": "56bfd334048747569319331cd39d8a5c",
              "version_major": 2,
              "version_minor": 0
            },
            "text/plain": [
              "  0%|          | 0/1260 [00:00<?, ?it/s]"
            ]
          },
          "metadata": {},
          "output_type": "display_data"
        },
        {
          "name": "stdout",
          "output_type": "stream",
          "text": [
            "Train: Average loss: 0.0520\n",
            "\n",
            "Test: Average loss: 0.0842, Accuracy: 5267/5400 (97.54%)\n",
            "\n",
            "28\n"
          ]
        },
        {
          "data": {
            "application/vnd.jupyter.widget-view+json": {
              "model_id": "5419c2f6efef450e80b845675e012396",
              "version_major": 2,
              "version_minor": 0
            },
            "text/plain": [
              "  0%|          | 0/1260 [00:00<?, ?it/s]"
            ]
          },
          "metadata": {},
          "output_type": "display_data"
        },
        {
          "name": "stdout",
          "output_type": "stream",
          "text": [
            "Train: Average loss: 0.0580\n",
            "\n",
            "Test: Average loss: 0.0664, Accuracy: 5281/5400 (97.80%)\n",
            "\n",
            "29\n"
          ]
        },
        {
          "data": {
            "application/vnd.jupyter.widget-view+json": {
              "model_id": "610962a8a5de45a3ac0b71a23a4a91d0",
              "version_major": 2,
              "version_minor": 0
            },
            "text/plain": [
              "  0%|          | 0/1260 [00:00<?, ?it/s]"
            ]
          },
          "metadata": {},
          "output_type": "display_data"
        },
        {
          "name": "stdout",
          "output_type": "stream",
          "text": [
            "Train: Average loss: 0.0450\n",
            "\n",
            "Test: Average loss: 0.0941, Accuracy: 5234/5400 (96.93%)\n",
            "\n",
            "30\n"
          ]
        },
        {
          "data": {
            "application/vnd.jupyter.widget-view+json": {
              "model_id": "103d182d9ec04f6a907e0c0af0751346",
              "version_major": 2,
              "version_minor": 0
            },
            "text/plain": [
              "  0%|          | 0/1260 [00:00<?, ?it/s]"
            ]
          },
          "metadata": {},
          "output_type": "display_data"
        },
        {
          "name": "stdout",
          "output_type": "stream",
          "text": [
            "Train: Average loss: 0.0399\n",
            "\n",
            "Test: Average loss: 0.0630, Accuracy: 5296/5400 (98.07%)\n",
            "\n",
            "Test: Average loss: 0.0878, Accuracy: 3948/4050 (97.48%)\n",
            "\n",
            "Experiment:  3\n",
            "1\n"
          ]
        },
        {
          "data": {
            "application/vnd.jupyter.widget-view+json": {
              "model_id": "6e290c31dd5d410ea1dbe1493f69b347",
              "version_major": 2,
              "version_minor": 0
            },
            "text/plain": [
              "  0%|          | 0/1260 [00:00<?, ?it/s]"
            ]
          },
          "metadata": {},
          "output_type": "display_data"
        },
        {
          "name": "stdout",
          "output_type": "stream",
          "text": [
            "Train: Average loss: 0.9667\n",
            "\n",
            "Test: Average loss: 0.4871, Accuracy: 4466/5400 (82.70%)\n",
            "\n",
            "2\n"
          ]
        },
        {
          "data": {
            "application/vnd.jupyter.widget-view+json": {
              "model_id": "2413ec196d994aa1874ecb66c30250c5",
              "version_major": 2,
              "version_minor": 0
            },
            "text/plain": [
              "  0%|          | 0/1260 [00:00<?, ?it/s]"
            ]
          },
          "metadata": {},
          "output_type": "display_data"
        },
        {
          "name": "stdout",
          "output_type": "stream",
          "text": [
            "Train: Average loss: 0.5933\n",
            "\n",
            "Test: Average loss: 0.3867, Accuracy: 4722/5400 (87.44%)\n",
            "\n",
            "3\n"
          ]
        },
        {
          "data": {
            "application/vnd.jupyter.widget-view+json": {
              "model_id": "1a09cc6138764a0092df52ae34585759",
              "version_major": 2,
              "version_minor": 0
            },
            "text/plain": [
              "  0%|          | 0/1260 [00:00<?, ?it/s]"
            ]
          },
          "metadata": {},
          "output_type": "display_data"
        },
        {
          "name": "stdout",
          "output_type": "stream",
          "text": [
            "Train: Average loss: 0.4513\n",
            "\n",
            "Test: Average loss: 0.2756, Accuracy: 4886/5400 (90.48%)\n",
            "\n",
            "4\n"
          ]
        },
        {
          "data": {
            "application/vnd.jupyter.widget-view+json": {
              "model_id": "f3991c5fb6f4405d95ea97f73f18e0a5",
              "version_major": 2,
              "version_minor": 0
            },
            "text/plain": [
              "  0%|          | 0/1260 [00:00<?, ?it/s]"
            ]
          },
          "metadata": {},
          "output_type": "display_data"
        },
        {
          "name": "stdout",
          "output_type": "stream",
          "text": [
            "Train: Average loss: 0.3608\n",
            "\n",
            "Test: Average loss: 0.2449, Accuracy: 4941/5400 (91.50%)\n",
            "\n",
            "5\n"
          ]
        },
        {
          "data": {
            "application/vnd.jupyter.widget-view+json": {
              "model_id": "54dc934ac4f04958a6be0210ae1f2a53",
              "version_major": 2,
              "version_minor": 0
            },
            "text/plain": [
              "  0%|          | 0/1260 [00:00<?, ?it/s]"
            ]
          },
          "metadata": {},
          "output_type": "display_data"
        },
        {
          "name": "stdout",
          "output_type": "stream",
          "text": [
            "Train: Average loss: 0.3080\n",
            "\n",
            "Test: Average loss: 0.2467, Accuracy: 4942/5400 (91.52%)\n",
            "\n",
            "6\n"
          ]
        },
        {
          "data": {
            "application/vnd.jupyter.widget-view+json": {
              "model_id": "04637753f9424da999ef52addbb52748",
              "version_major": 2,
              "version_minor": 0
            },
            "text/plain": [
              "  0%|          | 0/1260 [00:00<?, ?it/s]"
            ]
          },
          "metadata": {},
          "output_type": "display_data"
        },
        {
          "name": "stdout",
          "output_type": "stream",
          "text": [
            "Train: Average loss: 0.2649\n",
            "\n",
            "Test: Average loss: 0.2121, Accuracy: 4994/5400 (92.48%)\n",
            "\n",
            "7\n"
          ]
        },
        {
          "data": {
            "application/vnd.jupyter.widget-view+json": {
              "model_id": "2736e68063ef450ea98bd114ea6d5d41",
              "version_major": 2,
              "version_minor": 0
            },
            "text/plain": [
              "  0%|          | 0/1260 [00:00<?, ?it/s]"
            ]
          },
          "metadata": {},
          "output_type": "display_data"
        },
        {
          "name": "stdout",
          "output_type": "stream",
          "text": [
            "Train: Average loss: 0.2227\n",
            "\n",
            "Test: Average loss: 0.1529, Accuracy: 5122/5400 (94.85%)\n",
            "\n",
            "8\n"
          ]
        },
        {
          "data": {
            "application/vnd.jupyter.widget-view+json": {
              "model_id": "7d756b42f18f43818b1b6617e1d49c52",
              "version_major": 2,
              "version_minor": 0
            },
            "text/plain": [
              "  0%|          | 0/1260 [00:00<?, ?it/s]"
            ]
          },
          "metadata": {},
          "output_type": "display_data"
        },
        {
          "name": "stdout",
          "output_type": "stream",
          "text": [
            "Train: Average loss: 0.2004\n",
            "\n",
            "Test: Average loss: 0.1610, Accuracy: 5125/5400 (94.91%)\n",
            "\n",
            "9\n"
          ]
        },
        {
          "data": {
            "application/vnd.jupyter.widget-view+json": {
              "model_id": "f2228bbcdfac4dad8dafec39c7b10dba",
              "version_major": 2,
              "version_minor": 0
            },
            "text/plain": [
              "  0%|          | 0/1260 [00:00<?, ?it/s]"
            ]
          },
          "metadata": {},
          "output_type": "display_data"
        },
        {
          "name": "stdout",
          "output_type": "stream",
          "text": [
            "Train: Average loss: 0.1877\n",
            "\n",
            "Test: Average loss: 0.1277, Accuracy: 5162/5400 (95.59%)\n",
            "\n",
            "10\n"
          ]
        },
        {
          "data": {
            "application/vnd.jupyter.widget-view+json": {
              "model_id": "2e51ed03e20e411aaf239486af8af9e1",
              "version_major": 2,
              "version_minor": 0
            },
            "text/plain": [
              "  0%|          | 0/1260 [00:00<?, ?it/s]"
            ]
          },
          "metadata": {},
          "output_type": "display_data"
        },
        {
          "name": "stdout",
          "output_type": "stream",
          "text": [
            "Train: Average loss: 0.1623\n",
            "\n",
            "Test: Average loss: 0.1311, Accuracy: 5162/5400 (95.59%)\n",
            "\n",
            "11\n"
          ]
        },
        {
          "data": {
            "application/vnd.jupyter.widget-view+json": {
              "model_id": "0466ee82e9394593aa1b6be1c6ec4783",
              "version_major": 2,
              "version_minor": 0
            },
            "text/plain": [
              "  0%|          | 0/1260 [00:00<?, ?it/s]"
            ]
          },
          "metadata": {},
          "output_type": "display_data"
        },
        {
          "name": "stdout",
          "output_type": "stream",
          "text": [
            "Train: Average loss: 0.1499\n",
            "\n",
            "Test: Average loss: 0.1071, Accuracy: 5209/5400 (96.46%)\n",
            "\n",
            "12\n"
          ]
        },
        {
          "data": {
            "application/vnd.jupyter.widget-view+json": {
              "model_id": "d08e5b2eb49e4990b510afa4ccbf24f8",
              "version_major": 2,
              "version_minor": 0
            },
            "text/plain": [
              "  0%|          | 0/1260 [00:00<?, ?it/s]"
            ]
          },
          "metadata": {},
          "output_type": "display_data"
        },
        {
          "name": "stdout",
          "output_type": "stream",
          "text": [
            "Train: Average loss: 0.1332\n",
            "\n",
            "Test: Average loss: 0.1261, Accuracy: 5177/5400 (95.87%)\n",
            "\n",
            "13\n"
          ]
        },
        {
          "data": {
            "application/vnd.jupyter.widget-view+json": {
              "model_id": "113e00eeac724225a81dbde99afb6b4e",
              "version_major": 2,
              "version_minor": 0
            },
            "text/plain": [
              "  0%|          | 0/1260 [00:00<?, ?it/s]"
            ]
          },
          "metadata": {},
          "output_type": "display_data"
        },
        {
          "name": "stdout",
          "output_type": "stream",
          "text": [
            "Train: Average loss: 0.1371\n",
            "\n",
            "Test: Average loss: 0.1103, Accuracy: 5205/5400 (96.39%)\n",
            "\n",
            "14\n"
          ]
        },
        {
          "data": {
            "application/vnd.jupyter.widget-view+json": {
              "model_id": "b4e4a03be75b4b1a9bc33c3673573cf2",
              "version_major": 2,
              "version_minor": 0
            },
            "text/plain": [
              "  0%|          | 0/1260 [00:00<?, ?it/s]"
            ]
          },
          "metadata": {},
          "output_type": "display_data"
        },
        {
          "name": "stdout",
          "output_type": "stream",
          "text": [
            "Train: Average loss: 0.1136\n",
            "\n",
            "Test: Average loss: 0.1172, Accuracy: 5189/5400 (96.09%)\n",
            "\n",
            "15\n"
          ]
        },
        {
          "data": {
            "application/vnd.jupyter.widget-view+json": {
              "model_id": "1580ffdf04ed4f29beac7dd5b0516716",
              "version_major": 2,
              "version_minor": 0
            },
            "text/plain": [
              "  0%|          | 0/1260 [00:00<?, ?it/s]"
            ]
          },
          "metadata": {},
          "output_type": "display_data"
        },
        {
          "name": "stdout",
          "output_type": "stream",
          "text": [
            "Train: Average loss: 0.1064\n",
            "\n",
            "Test: Average loss: 0.1367, Accuracy: 5165/5400 (95.65%)\n",
            "\n",
            "16\n"
          ]
        },
        {
          "data": {
            "application/vnd.jupyter.widget-view+json": {
              "model_id": "ba28b49123204f38a9f37075f0ccb81c",
              "version_major": 2,
              "version_minor": 0
            },
            "text/plain": [
              "  0%|          | 0/1260 [00:00<?, ?it/s]"
            ]
          },
          "metadata": {},
          "output_type": "display_data"
        },
        {
          "name": "stdout",
          "output_type": "stream",
          "text": [
            "Train: Average loss: 0.0960\n",
            "\n",
            "Test: Average loss: 0.0895, Accuracy: 5248/5400 (97.19%)\n",
            "\n",
            "17\n"
          ]
        },
        {
          "data": {
            "application/vnd.jupyter.widget-view+json": {
              "model_id": "0b2adac03f0246c98da257b85f4aa656",
              "version_major": 2,
              "version_minor": 0
            },
            "text/plain": [
              "  0%|          | 0/1260 [00:00<?, ?it/s]"
            ]
          },
          "metadata": {},
          "output_type": "display_data"
        },
        {
          "name": "stdout",
          "output_type": "stream",
          "text": [
            "Train: Average loss: 0.0865\n",
            "\n",
            "Test: Average loss: 0.1061, Accuracy: 5196/5400 (96.22%)\n",
            "\n",
            "18\n"
          ]
        },
        {
          "data": {
            "application/vnd.jupyter.widget-view+json": {
              "model_id": "df6640ebb5ed47c084d614f47e64b86f",
              "version_major": 2,
              "version_minor": 0
            },
            "text/plain": [
              "  0%|          | 0/1260 [00:00<?, ?it/s]"
            ]
          },
          "metadata": {},
          "output_type": "display_data"
        },
        {
          "name": "stdout",
          "output_type": "stream",
          "text": [
            "Train: Average loss: 0.0828\n",
            "\n",
            "Test: Average loss: 0.1137, Accuracy: 5202/5400 (96.33%)\n",
            "\n",
            "19\n"
          ]
        },
        {
          "data": {
            "application/vnd.jupyter.widget-view+json": {
              "model_id": "fcee53a8e1e747a9a7d6270bf08f4260",
              "version_major": 2,
              "version_minor": 0
            },
            "text/plain": [
              "  0%|          | 0/1260 [00:00<?, ?it/s]"
            ]
          },
          "metadata": {},
          "output_type": "display_data"
        },
        {
          "name": "stdout",
          "output_type": "stream",
          "text": [
            "Train: Average loss: 0.0769\n",
            "\n",
            "Test: Average loss: 0.0990, Accuracy: 5199/5400 (96.28%)\n",
            "\n",
            "20\n"
          ]
        },
        {
          "data": {
            "application/vnd.jupyter.widget-view+json": {
              "model_id": "f600193bcd9d47b29da6d493190378f7",
              "version_major": 2,
              "version_minor": 0
            },
            "text/plain": [
              "  0%|          | 0/1260 [00:00<?, ?it/s]"
            ]
          },
          "metadata": {},
          "output_type": "display_data"
        },
        {
          "name": "stdout",
          "output_type": "stream",
          "text": [
            "Train: Average loss: 0.0728\n",
            "\n",
            "Test: Average loss: 0.0831, Accuracy: 5257/5400 (97.35%)\n",
            "\n",
            "21\n"
          ]
        },
        {
          "data": {
            "application/vnd.jupyter.widget-view+json": {
              "model_id": "4775f9b2afa64f6eae7b2af394412091",
              "version_major": 2,
              "version_minor": 0
            },
            "text/plain": [
              "  0%|          | 0/1260 [00:00<?, ?it/s]"
            ]
          },
          "metadata": {},
          "output_type": "display_data"
        },
        {
          "name": "stdout",
          "output_type": "stream",
          "text": [
            "Train: Average loss: 0.0730\n",
            "\n",
            "Test: Average loss: 0.1652, Accuracy: 5131/5400 (95.02%)\n",
            "\n",
            "22\n"
          ]
        },
        {
          "data": {
            "application/vnd.jupyter.widget-view+json": {
              "model_id": "f054204d34d44103b1578a2330dbf14f",
              "version_major": 2,
              "version_minor": 0
            },
            "text/plain": [
              "  0%|          | 0/1260 [00:00<?, ?it/s]"
            ]
          },
          "metadata": {},
          "output_type": "display_data"
        },
        {
          "name": "stdout",
          "output_type": "stream",
          "text": [
            "Train: Average loss: 0.0616\n",
            "\n",
            "Test: Average loss: 0.0998, Accuracy: 5220/5400 (96.67%)\n",
            "\n",
            "23\n"
          ]
        },
        {
          "data": {
            "application/vnd.jupyter.widget-view+json": {
              "model_id": "cdb04f69346b4d8f9f1fdd415eeca98d",
              "version_major": 2,
              "version_minor": 0
            },
            "text/plain": [
              "  0%|          | 0/1260 [00:00<?, ?it/s]"
            ]
          },
          "metadata": {},
          "output_type": "display_data"
        },
        {
          "name": "stdout",
          "output_type": "stream",
          "text": [
            "Train: Average loss: 0.0596\n",
            "\n",
            "Test: Average loss: 0.0900, Accuracy: 5241/5400 (97.06%)\n",
            "\n",
            "24\n"
          ]
        },
        {
          "data": {
            "application/vnd.jupyter.widget-view+json": {
              "model_id": "58f713131c1a4600a8c2a125afcdc1ee",
              "version_major": 2,
              "version_minor": 0
            },
            "text/plain": [
              "  0%|          | 0/1260 [00:00<?, ?it/s]"
            ]
          },
          "metadata": {},
          "output_type": "display_data"
        },
        {
          "name": "stdout",
          "output_type": "stream",
          "text": [
            "Train: Average loss: 0.0536\n",
            "\n",
            "Test: Average loss: 0.1025, Accuracy: 5224/5400 (96.74%)\n",
            "\n",
            "25\n"
          ]
        },
        {
          "data": {
            "application/vnd.jupyter.widget-view+json": {
              "model_id": "acc10d8a35e941f384c1758ef006d35a",
              "version_major": 2,
              "version_minor": 0
            },
            "text/plain": [
              "  0%|          | 0/1260 [00:00<?, ?it/s]"
            ]
          },
          "metadata": {},
          "output_type": "display_data"
        },
        {
          "name": "stdout",
          "output_type": "stream",
          "text": [
            "Train: Average loss: 0.0454\n",
            "\n",
            "Test: Average loss: 0.0680, Accuracy: 5282/5400 (97.81%)\n",
            "\n",
            "26\n"
          ]
        },
        {
          "data": {
            "application/vnd.jupyter.widget-view+json": {
              "model_id": "9c7fd72229634577acfa2b0a0e47f8b4",
              "version_major": 2,
              "version_minor": 0
            },
            "text/plain": [
              "  0%|          | 0/1260 [00:00<?, ?it/s]"
            ]
          },
          "metadata": {},
          "output_type": "display_data"
        },
        {
          "name": "stdout",
          "output_type": "stream",
          "text": [
            "Train: Average loss: 0.0448\n",
            "\n",
            "Test: Average loss: 0.0767, Accuracy: 5271/5400 (97.61%)\n",
            "\n",
            "27\n"
          ]
        },
        {
          "data": {
            "application/vnd.jupyter.widget-view+json": {
              "model_id": "400917e6d20f4e319af2a97a4605f9e6",
              "version_major": 2,
              "version_minor": 0
            },
            "text/plain": [
              "  0%|          | 0/1260 [00:00<?, ?it/s]"
            ]
          },
          "metadata": {},
          "output_type": "display_data"
        },
        {
          "name": "stdout",
          "output_type": "stream",
          "text": [
            "Train: Average loss: 0.0388\n",
            "\n",
            "Test: Average loss: 0.0922, Accuracy: 5230/5400 (96.85%)\n",
            "\n",
            "28\n"
          ]
        },
        {
          "data": {
            "application/vnd.jupyter.widget-view+json": {
              "model_id": "f5b6474e7bdc41478f8a198b47ae6a44",
              "version_major": 2,
              "version_minor": 0
            },
            "text/plain": [
              "  0%|          | 0/1260 [00:00<?, ?it/s]"
            ]
          },
          "metadata": {},
          "output_type": "display_data"
        },
        {
          "name": "stdout",
          "output_type": "stream",
          "text": [
            "Train: Average loss: 0.0431\n",
            "\n",
            "Test: Average loss: 0.0974, Accuracy: 5241/5400 (97.06%)\n",
            "\n",
            "29\n"
          ]
        },
        {
          "data": {
            "application/vnd.jupyter.widget-view+json": {
              "model_id": "6cfea69ab9964d1db5e8585e69aadcfa",
              "version_major": 2,
              "version_minor": 0
            },
            "text/plain": [
              "  0%|          | 0/1260 [00:00<?, ?it/s]"
            ]
          },
          "metadata": {},
          "output_type": "display_data"
        },
        {
          "name": "stdout",
          "output_type": "stream",
          "text": [
            "Train: Average loss: 0.0348\n",
            "\n",
            "Test: Average loss: 0.0655, Accuracy: 5282/5400 (97.81%)\n",
            "\n",
            "30\n"
          ]
        },
        {
          "data": {
            "application/vnd.jupyter.widget-view+json": {
              "model_id": "aeeff22960ba4a68bc31b1e05fcbf1b6",
              "version_major": 2,
              "version_minor": 0
            },
            "text/plain": [
              "  0%|          | 0/1260 [00:00<?, ?it/s]"
            ]
          },
          "metadata": {},
          "output_type": "display_data"
        },
        {
          "name": "stdout",
          "output_type": "stream",
          "text": [
            "Train: Average loss: 0.0414\n",
            "\n",
            "Test: Average loss: 0.0950, Accuracy: 5239/5400 (97.02%)\n",
            "\n",
            "Test: Average loss: 0.0739, Accuracy: 3950/4050 (97.53%)\n",
            "\n",
            "Experiment:  4\n",
            "1\n"
          ]
        },
        {
          "data": {
            "application/vnd.jupyter.widget-view+json": {
              "model_id": "05d220e70b0a4687a5aa259397611238",
              "version_major": 2,
              "version_minor": 0
            },
            "text/plain": [
              "  0%|          | 0/1260 [00:00<?, ?it/s]"
            ]
          },
          "metadata": {},
          "output_type": "display_data"
        },
        {
          "name": "stdout",
          "output_type": "stream",
          "text": [
            "Train: Average loss: 0.9382\n",
            "\n",
            "Test: Average loss: 0.5248, Accuracy: 4366/5400 (80.85%)\n",
            "\n",
            "2\n"
          ]
        },
        {
          "data": {
            "application/vnd.jupyter.widget-view+json": {
              "model_id": "cb9bb47e06bc4ab1a6e77539c1e26682",
              "version_major": 2,
              "version_minor": 0
            },
            "text/plain": [
              "  0%|          | 0/1260 [00:00<?, ?it/s]"
            ]
          },
          "metadata": {},
          "output_type": "display_data"
        },
        {
          "name": "stdout",
          "output_type": "stream",
          "text": [
            "Train: Average loss: 0.5796\n",
            "\n",
            "Test: Average loss: 0.5596, Accuracy: 4301/5400 (79.65%)\n",
            "\n",
            "3\n"
          ]
        },
        {
          "data": {
            "application/vnd.jupyter.widget-view+json": {
              "model_id": "56474d788acc40f38ee2c68aa3ca59c8",
              "version_major": 2,
              "version_minor": 0
            },
            "text/plain": [
              "  0%|          | 0/1260 [00:00<?, ?it/s]"
            ]
          },
          "metadata": {},
          "output_type": "display_data"
        },
        {
          "name": "stdout",
          "output_type": "stream",
          "text": [
            "Train: Average loss: 0.4348\n",
            "\n",
            "Test: Average loss: 0.3765, Accuracy: 4687/5400 (86.80%)\n",
            "\n",
            "4\n"
          ]
        },
        {
          "data": {
            "application/vnd.jupyter.widget-view+json": {
              "model_id": "bc4edfe9c93749adbf80c656aa6aa9d8",
              "version_major": 2,
              "version_minor": 0
            },
            "text/plain": [
              "  0%|          | 0/1260 [00:00<?, ?it/s]"
            ]
          },
          "metadata": {},
          "output_type": "display_data"
        },
        {
          "name": "stdout",
          "output_type": "stream",
          "text": [
            "Train: Average loss: 0.3641\n",
            "\n",
            "Test: Average loss: 0.2751, Accuracy: 4885/5400 (90.46%)\n",
            "\n",
            "5\n"
          ]
        },
        {
          "data": {
            "application/vnd.jupyter.widget-view+json": {
              "model_id": "4a53599417224315895035c60b78dc13",
              "version_major": 2,
              "version_minor": 0
            },
            "text/plain": [
              "  0%|          | 0/1260 [00:00<?, ?it/s]"
            ]
          },
          "metadata": {},
          "output_type": "display_data"
        },
        {
          "name": "stdout",
          "output_type": "stream",
          "text": [
            "Train: Average loss: 0.3035\n",
            "\n",
            "Test: Average loss: 0.2674, Accuracy: 4896/5400 (90.67%)\n",
            "\n",
            "6\n"
          ]
        },
        {
          "data": {
            "application/vnd.jupyter.widget-view+json": {
              "model_id": "d03155f5b13b422085ef3445cb8b3c1f",
              "version_major": 2,
              "version_minor": 0
            },
            "text/plain": [
              "  0%|          | 0/1260 [00:00<?, ?it/s]"
            ]
          },
          "metadata": {},
          "output_type": "display_data"
        },
        {
          "name": "stdout",
          "output_type": "stream",
          "text": [
            "Train: Average loss: 0.2530\n",
            "\n",
            "Test: Average loss: 0.2445, Accuracy: 4957/5400 (91.80%)\n",
            "\n",
            "7\n"
          ]
        },
        {
          "data": {
            "application/vnd.jupyter.widget-view+json": {
              "model_id": "dc6dfda6ccbb4f6ab534d78d5317b226",
              "version_major": 2,
              "version_minor": 0
            },
            "text/plain": [
              "  0%|          | 0/1260 [00:00<?, ?it/s]"
            ]
          },
          "metadata": {},
          "output_type": "display_data"
        },
        {
          "name": "stdout",
          "output_type": "stream",
          "text": [
            "Train: Average loss: 0.2308\n",
            "\n",
            "Test: Average loss: 0.1298, Accuracy: 5167/5400 (95.69%)\n",
            "\n",
            "8\n"
          ]
        },
        {
          "data": {
            "application/vnd.jupyter.widget-view+json": {
              "model_id": "8e06876e8f5e4d9cb66fdb10be38772b",
              "version_major": 2,
              "version_minor": 0
            },
            "text/plain": [
              "  0%|          | 0/1260 [00:00<?, ?it/s]"
            ]
          },
          "metadata": {},
          "output_type": "display_data"
        },
        {
          "name": "stdout",
          "output_type": "stream",
          "text": [
            "Train: Average loss: 0.1952\n",
            "\n",
            "Test: Average loss: 0.1383, Accuracy: 5170/5400 (95.74%)\n",
            "\n",
            "9\n"
          ]
        },
        {
          "data": {
            "application/vnd.jupyter.widget-view+json": {
              "model_id": "462bbb36d6014c4981d7e214042199ad",
              "version_major": 2,
              "version_minor": 0
            },
            "text/plain": [
              "  0%|          | 0/1260 [00:00<?, ?it/s]"
            ]
          },
          "metadata": {},
          "output_type": "display_data"
        },
        {
          "name": "stdout",
          "output_type": "stream",
          "text": [
            "Train: Average loss: 0.1873\n",
            "\n",
            "Test: Average loss: 0.1555, Accuracy: 5120/5400 (94.81%)\n",
            "\n",
            "10\n"
          ]
        },
        {
          "data": {
            "application/vnd.jupyter.widget-view+json": {
              "model_id": "8de0b66db7b74d0490823151e4de2d8a",
              "version_major": 2,
              "version_minor": 0
            },
            "text/plain": [
              "  0%|          | 0/1260 [00:00<?, ?it/s]"
            ]
          },
          "metadata": {},
          "output_type": "display_data"
        },
        {
          "name": "stdout",
          "output_type": "stream",
          "text": [
            "Train: Average loss: 0.1610\n",
            "\n",
            "Test: Average loss: 0.1824, Accuracy: 5047/5400 (93.46%)\n",
            "\n",
            "11\n"
          ]
        },
        {
          "data": {
            "application/vnd.jupyter.widget-view+json": {
              "model_id": "0b058c795fb04917963cad8e328f64e2",
              "version_major": 2,
              "version_minor": 0
            },
            "text/plain": [
              "  0%|          | 0/1260 [00:00<?, ?it/s]"
            ]
          },
          "metadata": {},
          "output_type": "display_data"
        },
        {
          "name": "stdout",
          "output_type": "stream",
          "text": [
            "Train: Average loss: 0.1499\n",
            "\n",
            "Test: Average loss: 0.0910, Accuracy: 5234/5400 (96.93%)\n",
            "\n",
            "12\n"
          ]
        },
        {
          "data": {
            "application/vnd.jupyter.widget-view+json": {
              "model_id": "7379f933fd024b6194f714f156adcf74",
              "version_major": 2,
              "version_minor": 0
            },
            "text/plain": [
              "  0%|          | 0/1260 [00:00<?, ?it/s]"
            ]
          },
          "metadata": {},
          "output_type": "display_data"
        },
        {
          "name": "stdout",
          "output_type": "stream",
          "text": [
            "Train: Average loss: 0.1422\n",
            "\n",
            "Test: Average loss: 0.0976, Accuracy: 5226/5400 (96.78%)\n",
            "\n",
            "13\n"
          ]
        },
        {
          "data": {
            "application/vnd.jupyter.widget-view+json": {
              "model_id": "75617d2b34844c66b7aac0de3b36eb72",
              "version_major": 2,
              "version_minor": 0
            },
            "text/plain": [
              "  0%|          | 0/1260 [00:00<?, ?it/s]"
            ]
          },
          "metadata": {},
          "output_type": "display_data"
        },
        {
          "name": "stdout",
          "output_type": "stream",
          "text": [
            "Train: Average loss: 0.1220\n",
            "\n",
            "Test: Average loss: 0.1212, Accuracy: 5164/5400 (95.63%)\n",
            "\n",
            "14\n"
          ]
        },
        {
          "data": {
            "application/vnd.jupyter.widget-view+json": {
              "model_id": "9f264630d9e2423789d1d618e419b5c1",
              "version_major": 2,
              "version_minor": 0
            },
            "text/plain": [
              "  0%|          | 0/1260 [00:00<?, ?it/s]"
            ]
          },
          "metadata": {},
          "output_type": "display_data"
        },
        {
          "name": "stdout",
          "output_type": "stream",
          "text": [
            "Train: Average loss: 0.1232\n",
            "\n",
            "Test: Average loss: 0.1339, Accuracy: 5143/5400 (95.24%)\n",
            "\n",
            "15\n"
          ]
        },
        {
          "data": {
            "application/vnd.jupyter.widget-view+json": {
              "model_id": "aa5fb931659f47538841549216313ef2",
              "version_major": 2,
              "version_minor": 0
            },
            "text/plain": [
              "  0%|          | 0/1260 [00:00<?, ?it/s]"
            ]
          },
          "metadata": {},
          "output_type": "display_data"
        },
        {
          "name": "stdout",
          "output_type": "stream",
          "text": [
            "Train: Average loss: 0.1031\n",
            "\n",
            "Test: Average loss: 0.1018, Accuracy: 5209/5400 (96.46%)\n",
            "\n",
            "16\n"
          ]
        },
        {
          "data": {
            "application/vnd.jupyter.widget-view+json": {
              "model_id": "6f92d3c3b9e34a30b83811ff5000b129",
              "version_major": 2,
              "version_minor": 0
            },
            "text/plain": [
              "  0%|          | 0/1260 [00:00<?, ?it/s]"
            ]
          },
          "metadata": {},
          "output_type": "display_data"
        },
        {
          "name": "stdout",
          "output_type": "stream",
          "text": [
            "Train: Average loss: 0.0939\n",
            "\n",
            "Test: Average loss: 0.1076, Accuracy: 5201/5400 (96.31%)\n",
            "\n",
            "17\n"
          ]
        },
        {
          "data": {
            "application/vnd.jupyter.widget-view+json": {
              "model_id": "17f35475bc2d432cb71b19219e97d0ff",
              "version_major": 2,
              "version_minor": 0
            },
            "text/plain": [
              "  0%|          | 0/1260 [00:00<?, ?it/s]"
            ]
          },
          "metadata": {},
          "output_type": "display_data"
        },
        {
          "name": "stdout",
          "output_type": "stream",
          "text": [
            "Train: Average loss: 0.0885\n",
            "\n",
            "Test: Average loss: 0.0882, Accuracy: 5248/5400 (97.19%)\n",
            "\n",
            "18\n"
          ]
        },
        {
          "data": {
            "application/vnd.jupyter.widget-view+json": {
              "model_id": "38c5f5750675476c9d110e0a36909f4a",
              "version_major": 2,
              "version_minor": 0
            },
            "text/plain": [
              "  0%|          | 0/1260 [00:00<?, ?it/s]"
            ]
          },
          "metadata": {},
          "output_type": "display_data"
        },
        {
          "name": "stdout",
          "output_type": "stream",
          "text": [
            "Train: Average loss: 0.0841\n",
            "\n",
            "Test: Average loss: 0.1426, Accuracy: 5144/5400 (95.26%)\n",
            "\n",
            "19\n"
          ]
        },
        {
          "data": {
            "application/vnd.jupyter.widget-view+json": {
              "model_id": "c2ad6b6f5d7a4fedb2d6afd3531158e3",
              "version_major": 2,
              "version_minor": 0
            },
            "text/plain": [
              "  0%|          | 0/1260 [00:00<?, ?it/s]"
            ]
          },
          "metadata": {},
          "output_type": "display_data"
        },
        {
          "name": "stdout",
          "output_type": "stream",
          "text": [
            "Train: Average loss: 0.0792\n",
            "\n",
            "Test: Average loss: 0.1221, Accuracy: 5190/5400 (96.11%)\n",
            "\n",
            "20\n"
          ]
        },
        {
          "data": {
            "application/vnd.jupyter.widget-view+json": {
              "model_id": "571945d98ec6472f886379fd2f204c33",
              "version_major": 2,
              "version_minor": 0
            },
            "text/plain": [
              "  0%|          | 0/1260 [00:00<?, ?it/s]"
            ]
          },
          "metadata": {},
          "output_type": "display_data"
        },
        {
          "name": "stdout",
          "output_type": "stream",
          "text": [
            "Train: Average loss: 0.0654\n",
            "\n",
            "Test: Average loss: 0.0880, Accuracy: 5230/5400 (96.85%)\n",
            "\n",
            "21\n"
          ]
        },
        {
          "data": {
            "application/vnd.jupyter.widget-view+json": {
              "model_id": "562e2908b7bc47d2a3f61ab25010cfd0",
              "version_major": 2,
              "version_minor": 0
            },
            "text/plain": [
              "  0%|          | 0/1260 [00:00<?, ?it/s]"
            ]
          },
          "metadata": {},
          "output_type": "display_data"
        },
        {
          "name": "stdout",
          "output_type": "stream",
          "text": [
            "Train: Average loss: 0.0662\n",
            "\n",
            "Test: Average loss: 0.1060, Accuracy: 5205/5400 (96.39%)\n",
            "\n",
            "22\n"
          ]
        },
        {
          "data": {
            "application/vnd.jupyter.widget-view+json": {
              "model_id": "477e6d19a4644c28b0fd4c1d3b26bd10",
              "version_major": 2,
              "version_minor": 0
            },
            "text/plain": [
              "  0%|          | 0/1260 [00:00<?, ?it/s]"
            ]
          },
          "metadata": {},
          "output_type": "display_data"
        },
        {
          "name": "stdout",
          "output_type": "stream",
          "text": [
            "Train: Average loss: 0.0633\n",
            "\n",
            "Test: Average loss: 0.1051, Accuracy: 5218/5400 (96.63%)\n",
            "\n",
            "23\n"
          ]
        },
        {
          "data": {
            "application/vnd.jupyter.widget-view+json": {
              "model_id": "6719644ed71e4944b05c97f464077d29",
              "version_major": 2,
              "version_minor": 0
            },
            "text/plain": [
              "  0%|          | 0/1260 [00:00<?, ?it/s]"
            ]
          },
          "metadata": {},
          "output_type": "display_data"
        },
        {
          "name": "stdout",
          "output_type": "stream",
          "text": [
            "Train: Average loss: 0.0570\n",
            "\n",
            "Test: Average loss: 0.0965, Accuracy: 5224/5400 (96.74%)\n",
            "\n",
            "24\n"
          ]
        },
        {
          "data": {
            "application/vnd.jupyter.widget-view+json": {
              "model_id": "538270f34b3047d48b1b1fb7222abf59",
              "version_major": 2,
              "version_minor": 0
            },
            "text/plain": [
              "  0%|          | 0/1260 [00:00<?, ?it/s]"
            ]
          },
          "metadata": {},
          "output_type": "display_data"
        },
        {
          "name": "stdout",
          "output_type": "stream",
          "text": [
            "Train: Average loss: 0.0563\n",
            "\n",
            "Test: Average loss: 0.0885, Accuracy: 5251/5400 (97.24%)\n",
            "\n",
            "25\n"
          ]
        },
        {
          "data": {
            "application/vnd.jupyter.widget-view+json": {
              "model_id": "8e1fea4b25c744ffa6427761107f9047",
              "version_major": 2,
              "version_minor": 0
            },
            "text/plain": [
              "  0%|          | 0/1260 [00:00<?, ?it/s]"
            ]
          },
          "metadata": {},
          "output_type": "display_data"
        },
        {
          "name": "stdout",
          "output_type": "stream",
          "text": [
            "Train: Average loss: 0.0451\n",
            "\n",
            "Test: Average loss: 0.0982, Accuracy: 5226/5400 (96.78%)\n",
            "\n",
            "26\n"
          ]
        },
        {
          "data": {
            "application/vnd.jupyter.widget-view+json": {
              "model_id": "9899ca5edf6947c3a552ec869a241a00",
              "version_major": 2,
              "version_minor": 0
            },
            "text/plain": [
              "  0%|          | 0/1260 [00:00<?, ?it/s]"
            ]
          },
          "metadata": {},
          "output_type": "display_data"
        },
        {
          "name": "stdout",
          "output_type": "stream",
          "text": [
            "Train: Average loss: 0.0502\n",
            "\n",
            "Test: Average loss: 0.0955, Accuracy: 5232/5400 (96.89%)\n",
            "\n",
            "27\n"
          ]
        },
        {
          "data": {
            "application/vnd.jupyter.widget-view+json": {
              "model_id": "646cc358a52042c38bf4b30fc9504e40",
              "version_major": 2,
              "version_minor": 0
            },
            "text/plain": [
              "  0%|          | 0/1260 [00:00<?, ?it/s]"
            ]
          },
          "metadata": {},
          "output_type": "display_data"
        },
        {
          "name": "stdout",
          "output_type": "stream",
          "text": [
            "Train: Average loss: 0.0427\n",
            "\n",
            "Test: Average loss: 0.0949, Accuracy: 5237/5400 (96.98%)\n",
            "\n",
            "28\n"
          ]
        },
        {
          "data": {
            "application/vnd.jupyter.widget-view+json": {
              "model_id": "30a6390a3ae445d6bd92131f95b1480e",
              "version_major": 2,
              "version_minor": 0
            },
            "text/plain": [
              "  0%|          | 0/1260 [00:00<?, ?it/s]"
            ]
          },
          "metadata": {},
          "output_type": "display_data"
        },
        {
          "name": "stdout",
          "output_type": "stream",
          "text": [
            "Train: Average loss: 0.0439\n",
            "\n",
            "Test: Average loss: 0.0853, Accuracy: 5250/5400 (97.22%)\n",
            "\n",
            "29\n"
          ]
        },
        {
          "data": {
            "application/vnd.jupyter.widget-view+json": {
              "model_id": "cb95afea4a934df78126781f74949038",
              "version_major": 2,
              "version_minor": 0
            },
            "text/plain": [
              "  0%|          | 0/1260 [00:00<?, ?it/s]"
            ]
          },
          "metadata": {},
          "output_type": "display_data"
        },
        {
          "name": "stdout",
          "output_type": "stream",
          "text": [
            "Train: Average loss: 0.0465\n",
            "\n",
            "Test: Average loss: 0.1448, Accuracy: 5155/5400 (95.46%)\n",
            "\n",
            "30\n"
          ]
        },
        {
          "data": {
            "application/vnd.jupyter.widget-view+json": {
              "model_id": "e80a582e11684c3daab2d73a58470c4b",
              "version_major": 2,
              "version_minor": 0
            },
            "text/plain": [
              "  0%|          | 0/1260 [00:00<?, ?it/s]"
            ]
          },
          "metadata": {},
          "output_type": "display_data"
        },
        {
          "name": "stdout",
          "output_type": "stream",
          "text": [
            "Train: Average loss: 0.0372\n",
            "\n",
            "Test: Average loss: 0.0759, Accuracy: 5269/5400 (97.57%)\n",
            "\n",
            "Test: Average loss: 0.1090, Accuracy: 3935/4050 (97.16%)\n",
            "\n",
            "Experiment:  5\n",
            "1\n"
          ]
        },
        {
          "data": {
            "application/vnd.jupyter.widget-view+json": {
              "model_id": "3a3bbb24451f4b3d8bd317ebaed35b92",
              "version_major": 2,
              "version_minor": 0
            },
            "text/plain": [
              "  0%|          | 0/1260 [00:00<?, ?it/s]"
            ]
          },
          "metadata": {},
          "output_type": "display_data"
        },
        {
          "name": "stdout",
          "output_type": "stream",
          "text": [
            "Train: Average loss: 0.8977\n",
            "\n",
            "Test: Average loss: 0.6114, Accuracy: 4232/5400 (78.37%)\n",
            "\n",
            "2\n"
          ]
        },
        {
          "data": {
            "application/vnd.jupyter.widget-view+json": {
              "model_id": "7d16e29d9ab843adade5a9df1b03c55c",
              "version_major": 2,
              "version_minor": 0
            },
            "text/plain": [
              "  0%|          | 0/1260 [00:00<?, ?it/s]"
            ]
          },
          "metadata": {},
          "output_type": "display_data"
        },
        {
          "name": "stdout",
          "output_type": "stream",
          "text": [
            "Train: Average loss: 0.5530\n",
            "\n",
            "Test: Average loss: 0.4377, Accuracy: 4605/5400 (85.28%)\n",
            "\n",
            "3\n"
          ]
        },
        {
          "data": {
            "application/vnd.jupyter.widget-view+json": {
              "model_id": "38a0ae07d7d94c5782e6841b77aa1377",
              "version_major": 2,
              "version_minor": 0
            },
            "text/plain": [
              "  0%|          | 0/1260 [00:00<?, ?it/s]"
            ]
          },
          "metadata": {},
          "output_type": "display_data"
        },
        {
          "name": "stdout",
          "output_type": "stream",
          "text": [
            "Train: Average loss: 0.4187\n",
            "\n",
            "Test: Average loss: 0.3577, Accuracy: 4759/5400 (88.13%)\n",
            "\n",
            "4\n"
          ]
        },
        {
          "data": {
            "application/vnd.jupyter.widget-view+json": {
              "model_id": "88b7719ae1f542248dd18eaeef3e6e41",
              "version_major": 2,
              "version_minor": 0
            },
            "text/plain": [
              "  0%|          | 0/1260 [00:00<?, ?it/s]"
            ]
          },
          "metadata": {},
          "output_type": "display_data"
        },
        {
          "name": "stdout",
          "output_type": "stream",
          "text": [
            "Train: Average loss: 0.3524\n",
            "\n",
            "Test: Average loss: 0.2449, Accuracy: 4970/5400 (92.04%)\n",
            "\n",
            "5\n"
          ]
        },
        {
          "data": {
            "application/vnd.jupyter.widget-view+json": {
              "model_id": "25662ede86394768b2ed0fd063cc3bd6",
              "version_major": 2,
              "version_minor": 0
            },
            "text/plain": [
              "  0%|          | 0/1260 [00:00<?, ?it/s]"
            ]
          },
          "metadata": {},
          "output_type": "display_data"
        },
        {
          "name": "stdout",
          "output_type": "stream",
          "text": [
            "Train: Average loss: 0.2883\n",
            "\n",
            "Test: Average loss: 0.2753, Accuracy: 4918/5400 (91.07%)\n",
            "\n",
            "6\n"
          ]
        },
        {
          "data": {
            "application/vnd.jupyter.widget-view+json": {
              "model_id": "0f560a7d6c6949abbf417a19df296606",
              "version_major": 2,
              "version_minor": 0
            },
            "text/plain": [
              "  0%|          | 0/1260 [00:00<?, ?it/s]"
            ]
          },
          "metadata": {},
          "output_type": "display_data"
        },
        {
          "name": "stdout",
          "output_type": "stream",
          "text": [
            "Train: Average loss: 0.2541\n",
            "\n",
            "Test: Average loss: 0.1746, Accuracy: 5063/5400 (93.76%)\n",
            "\n",
            "7\n"
          ]
        },
        {
          "data": {
            "application/vnd.jupyter.widget-view+json": {
              "model_id": "5518032026d14c419ccff229a8a2b606",
              "version_major": 2,
              "version_minor": 0
            },
            "text/plain": [
              "  0%|          | 0/1260 [00:00<?, ?it/s]"
            ]
          },
          "metadata": {},
          "output_type": "display_data"
        },
        {
          "name": "stdout",
          "output_type": "stream",
          "text": [
            "Train: Average loss: 0.2243\n",
            "\n",
            "Test: Average loss: 0.1872, Accuracy: 5065/5400 (93.80%)\n",
            "\n",
            "8\n"
          ]
        },
        {
          "data": {
            "application/vnd.jupyter.widget-view+json": {
              "model_id": "5ed8ad87e7574fb196af90402e036af3",
              "version_major": 2,
              "version_minor": 0
            },
            "text/plain": [
              "  0%|          | 0/1260 [00:00<?, ?it/s]"
            ]
          },
          "metadata": {},
          "output_type": "display_data"
        },
        {
          "name": "stdout",
          "output_type": "stream",
          "text": [
            "Train: Average loss: 0.2101\n",
            "\n",
            "Test: Average loss: 0.2015, Accuracy: 5064/5400 (93.78%)\n",
            "\n",
            "9\n"
          ]
        },
        {
          "data": {
            "application/vnd.jupyter.widget-view+json": {
              "model_id": "c00615de5b974800ac159a45851d0a80",
              "version_major": 2,
              "version_minor": 0
            },
            "text/plain": [
              "  0%|          | 0/1260 [00:00<?, ?it/s]"
            ]
          },
          "metadata": {},
          "output_type": "display_data"
        },
        {
          "name": "stdout",
          "output_type": "stream",
          "text": [
            "Train: Average loss: 0.1770\n",
            "\n",
            "Test: Average loss: 0.1332, Accuracy: 5152/5400 (95.41%)\n",
            "\n",
            "10\n"
          ]
        },
        {
          "data": {
            "application/vnd.jupyter.widget-view+json": {
              "model_id": "6293063f7c1b47c988f0fd57b8da1985",
              "version_major": 2,
              "version_minor": 0
            },
            "text/plain": [
              "  0%|          | 0/1260 [00:00<?, ?it/s]"
            ]
          },
          "metadata": {},
          "output_type": "display_data"
        },
        {
          "name": "stdout",
          "output_type": "stream",
          "text": [
            "Train: Average loss: 0.1607\n",
            "\n",
            "Test: Average loss: 0.2383, Accuracy: 4964/5400 (91.93%)\n",
            "\n",
            "11\n"
          ]
        },
        {
          "data": {
            "application/vnd.jupyter.widget-view+json": {
              "model_id": "24c0733cf2df40f9bc5dcfa5c73d5a76",
              "version_major": 2,
              "version_minor": 0
            },
            "text/plain": [
              "  0%|          | 0/1260 [00:00<?, ?it/s]"
            ]
          },
          "metadata": {},
          "output_type": "display_data"
        },
        {
          "name": "stdout",
          "output_type": "stream",
          "text": [
            "Train: Average loss: 0.1492\n",
            "\n",
            "Test: Average loss: 0.1868, Accuracy: 5059/5400 (93.69%)\n",
            "\n",
            "12\n"
          ]
        },
        {
          "data": {
            "application/vnd.jupyter.widget-view+json": {
              "model_id": "9438323103e24a1093135fa6e61be957",
              "version_major": 2,
              "version_minor": 0
            },
            "text/plain": [
              "  0%|          | 0/1260 [00:00<?, ?it/s]"
            ]
          },
          "metadata": {},
          "output_type": "display_data"
        },
        {
          "name": "stdout",
          "output_type": "stream",
          "text": [
            "Train: Average loss: 0.1359\n",
            "\n",
            "Test: Average loss: 0.1137, Accuracy: 5199/5400 (96.28%)\n",
            "\n",
            "13\n"
          ]
        },
        {
          "data": {
            "application/vnd.jupyter.widget-view+json": {
              "model_id": "75d3a732ad2a428a9149ef6051cfdb68",
              "version_major": 2,
              "version_minor": 0
            },
            "text/plain": [
              "  0%|          | 0/1260 [00:00<?, ?it/s]"
            ]
          },
          "metadata": {},
          "output_type": "display_data"
        },
        {
          "name": "stdout",
          "output_type": "stream",
          "text": [
            "Train: Average loss: 0.1281\n",
            "\n",
            "Test: Average loss: 0.1283, Accuracy: 5158/5400 (95.52%)\n",
            "\n",
            "14\n"
          ]
        },
        {
          "data": {
            "application/vnd.jupyter.widget-view+json": {
              "model_id": "fb68f81af83145b7874c02526cfbd5b0",
              "version_major": 2,
              "version_minor": 0
            },
            "text/plain": [
              "  0%|          | 0/1260 [00:00<?, ?it/s]"
            ]
          },
          "metadata": {},
          "output_type": "display_data"
        },
        {
          "name": "stdout",
          "output_type": "stream",
          "text": [
            "Train: Average loss: 0.1128\n",
            "\n",
            "Test: Average loss: 0.1011, Accuracy: 5227/5400 (96.80%)\n",
            "\n",
            "15\n"
          ]
        },
        {
          "data": {
            "application/vnd.jupyter.widget-view+json": {
              "model_id": "2d8bfff912d144088a3fd008f9917488",
              "version_major": 2,
              "version_minor": 0
            },
            "text/plain": [
              "  0%|          | 0/1260 [00:00<?, ?it/s]"
            ]
          },
          "metadata": {},
          "output_type": "display_data"
        },
        {
          "name": "stdout",
          "output_type": "stream",
          "text": [
            "Train: Average loss: 0.1077\n",
            "\n",
            "Test: Average loss: 0.1928, Accuracy: 5057/5400 (93.65%)\n",
            "\n",
            "16\n"
          ]
        },
        {
          "data": {
            "application/vnd.jupyter.widget-view+json": {
              "model_id": "4ab81c4aac9a4822a8f78b75b1964ec8",
              "version_major": 2,
              "version_minor": 0
            },
            "text/plain": [
              "  0%|          | 0/1260 [00:00<?, ?it/s]"
            ]
          },
          "metadata": {},
          "output_type": "display_data"
        },
        {
          "name": "stdout",
          "output_type": "stream",
          "text": [
            "Train: Average loss: 0.1002\n",
            "\n",
            "Test: Average loss: 0.0980, Accuracy: 5232/5400 (96.89%)\n",
            "\n",
            "17\n"
          ]
        },
        {
          "data": {
            "application/vnd.jupyter.widget-view+json": {
              "model_id": "279517b740c64144a7ca9379ccf831dc",
              "version_major": 2,
              "version_minor": 0
            },
            "text/plain": [
              "  0%|          | 0/1260 [00:00<?, ?it/s]"
            ]
          },
          "metadata": {},
          "output_type": "display_data"
        },
        {
          "name": "stdout",
          "output_type": "stream",
          "text": [
            "Train: Average loss: 0.0875\n",
            "\n",
            "Test: Average loss: 0.1191, Accuracy: 5197/5400 (96.24%)\n",
            "\n",
            "18\n"
          ]
        },
        {
          "data": {
            "application/vnd.jupyter.widget-view+json": {
              "model_id": "5c15b80ae145480db00f84ce615a641f",
              "version_major": 2,
              "version_minor": 0
            },
            "text/plain": [
              "  0%|          | 0/1260 [00:00<?, ?it/s]"
            ]
          },
          "metadata": {},
          "output_type": "display_data"
        },
        {
          "name": "stdout",
          "output_type": "stream",
          "text": [
            "Train: Average loss: 0.0874\n",
            "\n",
            "Test: Average loss: 0.1119, Accuracy: 5215/5400 (96.57%)\n",
            "\n",
            "19\n"
          ]
        },
        {
          "data": {
            "application/vnd.jupyter.widget-view+json": {
              "model_id": "6f634702785848048eda5615a0603589",
              "version_major": 2,
              "version_minor": 0
            },
            "text/plain": [
              "  0%|          | 0/1260 [00:00<?, ?it/s]"
            ]
          },
          "metadata": {},
          "output_type": "display_data"
        },
        {
          "name": "stdout",
          "output_type": "stream",
          "text": [
            "Train: Average loss: 0.0770\n",
            "\n",
            "Test: Average loss: 0.1312, Accuracy: 5181/5400 (95.94%)\n",
            "\n",
            "20\n"
          ]
        },
        {
          "data": {
            "application/vnd.jupyter.widget-view+json": {
              "model_id": "6bb0ba37723242e687f65cee258dc735",
              "version_major": 2,
              "version_minor": 0
            },
            "text/plain": [
              "  0%|          | 0/1260 [00:00<?, ?it/s]"
            ]
          },
          "metadata": {},
          "output_type": "display_data"
        },
        {
          "name": "stdout",
          "output_type": "stream",
          "text": [
            "Train: Average loss: 0.0777\n",
            "\n",
            "Test: Average loss: 0.1206, Accuracy: 5175/5400 (95.83%)\n",
            "\n",
            "21\n"
          ]
        },
        {
          "data": {
            "application/vnd.jupyter.widget-view+json": {
              "model_id": "6bfddfd6045b46728dae68dc8bde5bc1",
              "version_major": 2,
              "version_minor": 0
            },
            "text/plain": [
              "  0%|          | 0/1260 [00:00<?, ?it/s]"
            ]
          },
          "metadata": {},
          "output_type": "display_data"
        },
        {
          "name": "stdout",
          "output_type": "stream",
          "text": [
            "Train: Average loss: 0.0674\n",
            "\n",
            "Test: Average loss: 0.1216, Accuracy: 5176/5400 (95.85%)\n",
            "\n",
            "22\n"
          ]
        },
        {
          "data": {
            "application/vnd.jupyter.widget-view+json": {
              "model_id": "ded0ebaab8df4be3a23228b90ffa46fb",
              "version_major": 2,
              "version_minor": 0
            },
            "text/plain": [
              "  0%|          | 0/1260 [00:00<?, ?it/s]"
            ]
          },
          "metadata": {},
          "output_type": "display_data"
        },
        {
          "name": "stdout",
          "output_type": "stream",
          "text": [
            "Train: Average loss: 0.0588\n",
            "\n",
            "Test: Average loss: 0.1004, Accuracy: 5231/5400 (96.87%)\n",
            "\n",
            "23\n"
          ]
        },
        {
          "data": {
            "application/vnd.jupyter.widget-view+json": {
              "model_id": "7c68281c7ca2418eac588059fb98e879",
              "version_major": 2,
              "version_minor": 0
            },
            "text/plain": [
              "  0%|          | 0/1260 [00:00<?, ?it/s]"
            ]
          },
          "metadata": {},
          "output_type": "display_data"
        },
        {
          "name": "stdout",
          "output_type": "stream",
          "text": [
            "Train: Average loss: 0.0536\n",
            "\n",
            "Test: Average loss: 0.0852, Accuracy: 5255/5400 (97.31%)\n",
            "\n",
            "24\n"
          ]
        },
        {
          "data": {
            "application/vnd.jupyter.widget-view+json": {
              "model_id": "5f017a89826c4c2889a7954ea6022ab4",
              "version_major": 2,
              "version_minor": 0
            },
            "text/plain": [
              "  0%|          | 0/1260 [00:00<?, ?it/s]"
            ]
          },
          "metadata": {},
          "output_type": "display_data"
        },
        {
          "name": "stdout",
          "output_type": "stream",
          "text": [
            "Train: Average loss: 0.0604\n",
            "\n",
            "Test: Average loss: 0.0768, Accuracy: 5271/5400 (97.61%)\n",
            "\n",
            "25\n"
          ]
        },
        {
          "data": {
            "application/vnd.jupyter.widget-view+json": {
              "model_id": "c2c2f6028c9543a1b09fa6951086358b",
              "version_major": 2,
              "version_minor": 0
            },
            "text/plain": [
              "  0%|          | 0/1260 [00:00<?, ?it/s]"
            ]
          },
          "metadata": {},
          "output_type": "display_data"
        },
        {
          "name": "stdout",
          "output_type": "stream",
          "text": [
            "Train: Average loss: 0.0561\n",
            "\n",
            "Test: Average loss: 0.0836, Accuracy: 5250/5400 (97.22%)\n",
            "\n",
            "26\n"
          ]
        },
        {
          "data": {
            "application/vnd.jupyter.widget-view+json": {
              "model_id": "2750860c0ffc4139ac5a4f954fd695b5",
              "version_major": 2,
              "version_minor": 0
            },
            "text/plain": [
              "  0%|          | 0/1260 [00:00<?, ?it/s]"
            ]
          },
          "metadata": {},
          "output_type": "display_data"
        },
        {
          "name": "stdout",
          "output_type": "stream",
          "text": [
            "Train: Average loss: 0.0438\n",
            "\n",
            "Test: Average loss: 0.0886, Accuracy: 5238/5400 (97.00%)\n",
            "\n",
            "27\n"
          ]
        },
        {
          "data": {
            "application/vnd.jupyter.widget-view+json": {
              "model_id": "918446f40557483b90326b8026942ddc",
              "version_major": 2,
              "version_minor": 0
            },
            "text/plain": [
              "  0%|          | 0/1260 [00:00<?, ?it/s]"
            ]
          },
          "metadata": {},
          "output_type": "display_data"
        },
        {
          "name": "stdout",
          "output_type": "stream",
          "text": [
            "Train: Average loss: 0.0503\n",
            "\n",
            "Test: Average loss: 0.0641, Accuracy: 5293/5400 (98.02%)\n",
            "\n",
            "28\n"
          ]
        },
        {
          "data": {
            "application/vnd.jupyter.widget-view+json": {
              "model_id": "cd313c17e0ee48ab9174e801951221a2",
              "version_major": 2,
              "version_minor": 0
            },
            "text/plain": [
              "  0%|          | 0/1260 [00:00<?, ?it/s]"
            ]
          },
          "metadata": {},
          "output_type": "display_data"
        },
        {
          "name": "stdout",
          "output_type": "stream",
          "text": [
            "Train: Average loss: 0.0432\n",
            "\n",
            "Test: Average loss: 0.0859, Accuracy: 5268/5400 (97.56%)\n",
            "\n",
            "29\n"
          ]
        },
        {
          "data": {
            "application/vnd.jupyter.widget-view+json": {
              "model_id": "112d843faedc4733b3351c91fad3d94d",
              "version_major": 2,
              "version_minor": 0
            },
            "text/plain": [
              "  0%|          | 0/1260 [00:00<?, ?it/s]"
            ]
          },
          "metadata": {},
          "output_type": "display_data"
        },
        {
          "name": "stdout",
          "output_type": "stream",
          "text": [
            "Train: Average loss: 0.0453\n",
            "\n",
            "Test: Average loss: 0.0529, Accuracy: 5308/5400 (98.30%)\n",
            "\n",
            "30\n"
          ]
        },
        {
          "data": {
            "application/vnd.jupyter.widget-view+json": {
              "model_id": "0cc5834efc324de7b0983010367787cb",
              "version_major": 2,
              "version_minor": 0
            },
            "text/plain": [
              "  0%|          | 0/1260 [00:00<?, ?it/s]"
            ]
          },
          "metadata": {},
          "output_type": "display_data"
        },
        {
          "name": "stdout",
          "output_type": "stream",
          "text": [
            "Train: Average loss: 0.0349\n",
            "\n",
            "Test: Average loss: 0.0667, Accuracy: 5292/5400 (98.00%)\n",
            "\n",
            "Test: Average loss: 0.0681, Accuracy: 3975/4050 (98.15%)\n",
            "\n",
            "[97.28395061728395, 97.48148148148148, 97.53086419753086, 97.1604938271605, 98.14814814814815]\n"
          ]
        }
      ],
      "source": [
        "import os.path\n",
        "from os import path\n",
        "import torch.nn.functional as F\n",
        "import torch.optim as optim\n",
        "\n",
        "num_epoch = 30\n",
        "accuracy_test=[]\n",
        "\n",
        "for i in range(5):\n",
        "  print('Experiment: ', i+1)\n",
        "  device = torch.device('cuda' if torch.cuda.is_available() else 'cpu')\n",
        "  model = Xception(input_channel=3, n_classes=9).to(device)\n",
        "  learning_rate = 0.0005\n",
        "  weight_decay = 0.001\n",
        "  for param in model.parameters():\n",
        "    param.requires_grad = True\n",
        "  parameters = filter(lambda p: p.requires_grad, model.parameters())\n",
        "  optimizer = optim.SGD(parameters, lr=learning_rate, momentum=0.9)\n",
        "\n",
        "  acc=0\n",
        "  for epoch in range(1, num_epoch + 1):\n",
        "    print(epoch)\n",
        "    tl=train(model, device, train_loader, optimizer)\n",
        "    stl,acct=validate(model, device, val_loader)\n",
        "    if acc<acct:\n",
        "      if path.exists(\"Xception9SGD.pth\"):\n",
        "        os.remove(\"Xception9SGD.pth\")\n",
        "      torch.save(model.state_dict(), 'Xception9SGD.pth')\n",
        "      acc=acct\n",
        "\n",
        "  device = torch.device('cuda' if torch.cuda.is_available() else 'cpu')\n",
        "  model = Xception(input_channel=3, n_classes=9).to(device)\n",
        "  model.load_state_dict(torch.load('Xception9SGD.pth', map_location=device))\n",
        "  model=model.to(device)\n",
        "  \n",
        "  l,a=test(model, device, test_loader)\n",
        "  accuracy_test.append(a)\n",
        "print(accuracy_test)"
      ]
    },
    {
      "cell_type": "code",
      "source": [
        "import numpy as np\n",
        "acc=np.array([97.28395061728395, 97.48148148148148, 97.53086419753086, 97.1604938271605, 98.14814814814815])\n",
        "print(np.mean(acc))\n",
        "print(np.std(acc))"
      ],
      "metadata": {
        "colab": {
          "base_uri": "https://localhost:8080/"
        },
        "id": "kqpS3_H1nHvH",
        "outputId": "eae356f3-e342-419c-b5ea-56bf33caf66b"
      },
      "execution_count": 1,
      "outputs": [
        {
          "output_type": "stream",
          "name": "stdout",
          "text": [
            "97.52098765432099\n",
            "0.34091961667344783\n"
          ]
        }
      ]
    }
  ],
  "metadata": {
    "accelerator": "GPU",
    "colab": {
      "provenance": []
    },
    "gpuClass": "standard",
    "kernelspec": {
      "display_name": "Python 3",
      "name": "python3"
    },
    "language_info": {
      "name": "python"
    }
  },
  "nbformat": 4,
  "nbformat_minor": 0
}