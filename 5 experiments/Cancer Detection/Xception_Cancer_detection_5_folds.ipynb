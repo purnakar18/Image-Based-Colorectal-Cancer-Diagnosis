{
  "cells": [
    {
      "cell_type": "code",
      "execution_count": null,
      "metadata": {
        "colab": {
          "base_uri": "https://localhost:8080/"
        },
        "id": "YVDTCOfmSI7c",
        "outputId": "82b6dd61-cff7-4f4f-8240-e486cabce3e5"
      },
      "outputs": [
        {
          "name": "stdout",
          "output_type": "stream",
          "text": [
            "Mounted at /content/drive\n"
          ]
        }
      ],
      "source": [
        "import torch\n",
        "import torchvision\n",
        "import os\n",
        "from google.colab import drive\n",
        "drive.mount('/content/drive')"
      ]
    },
    {
      "cell_type": "code",
      "execution_count": null,
      "metadata": {
        "id": "XB_qRSjOSe00"
      },
      "outputs": [],
      "source": [
        "!cp \"/content/drive/My Drive/Image based Colorectal Cancer diagnosis/dataset.zip\" \"dataset.zip\""
      ]
    },
    {
      "cell_type": "code",
      "execution_count": null,
      "metadata": {
        "id": "Al5-pm7US0mN"
      },
      "outputs": [],
      "source": [
        "!unzip -q dataset.zip\n",
        "!unzip -q dataset/dualclass.zip\n",
        "!unzip -q dataset/test2classes.zip"
      ]
    },
    {
      "cell_type": "code",
      "execution_count": null,
      "metadata": {
        "id": "7I0K-RUk74oM"
      },
      "outputs": [],
      "source": [
        "import torch\n",
        "import torch.nn as nn\n",
        "from torch.nn import functional as F\n",
        "import math\n",
        "\n",
        "class SeparableConvolution(nn.Module):\n",
        "    def __init__(self, input_channel, output_channel, kernel_size=1, stride=1, padding=0, dilation=1, bias=False):\n",
        "        super().__init__()\n",
        "        self.dwc = nn.Sequential(\n",
        "            nn.Conv2d(input_channel, input_channel, kernel_size, stride, padding, dilation, groups=input_channel, bias=bias),\n",
        "            nn.Conv2d(input_channel, output_channel, 1, 1, 0, 1, 1, bias=bias)\n",
        "        )\n",
        "    \n",
        "    def forward(self, X):\n",
        "        return self.dwc(X)\n",
        "\n",
        "class Block(nn.Module):\n",
        "    def __init__(self, input_channel, out_channel, reps, strides=1, relu=True, grow_first=True):\n",
        "        super().__init__()\n",
        "        if out_channel != input_channel or strides!=1:\n",
        "            self.skipConnections = nn.Sequential(\n",
        "                nn.Conv2d(input_channel, out_channel, 1, stride=strides, bias=False),\n",
        "                nn.BatchNorm2d(out_channel)\n",
        "            )\n",
        "        else:\n",
        "            self.skipConnections = None\n",
        "        self.relu = nn.ReLU(inplace=True)\n",
        "        rep = []\n",
        "\n",
        "        filters = input_channel\n",
        "        if grow_first:\n",
        "            rep.append(self.relu)\n",
        "            rep.append(SeparableConvolution(input_channel, out_channel, 3, stride=1, padding=1, bias=False))\n",
        "            rep.append(nn.BatchNorm2d(out_channel))\n",
        "            filters = out_channel\n",
        "        \n",
        "        for _ in range(reps-1):\n",
        "            rep.append(self.relu)\n",
        "            rep.append(SeparableConvolution(filters, filters, 3, stride=1, padding=1, bias=False))\n",
        "            rep.append(nn.BatchNorm2d(filters))\n",
        "        \n",
        "        if not grow_first:\n",
        "            rep.append(self.relu)\n",
        "            rep.append(SeparableConvolution(input_channel, out_channel, 3, stride=1, padding=1, bias=False))\n",
        "            rep.append(nn.BatchNorm2d(out_channel))\n",
        "\n",
        "        if not relu:\n",
        "            rep = rep[1:]\n",
        "        else:\n",
        "            rep[0] = nn.ReLU(inplace=False)\n",
        "\n",
        "        if strides != 1:\n",
        "            rep.append(nn.MaxPool2d(3, strides, 1))\n",
        "\n",
        "        self.rep = nn.Sequential(*rep)\n",
        "\n",
        "    def forward(self, input):\n",
        "        X = self.rep(input)\n",
        "\n",
        "        if self.skipConnections:\n",
        "            skip = self.skipConnections(input)\n",
        "        else:\n",
        "            skip = input\n",
        "        \n",
        "        X += skip\n",
        "        return X\n",
        "\n",
        "class Xception(nn.Module):\n",
        "    def __init__(self, input_channel, n_classes):\n",
        "        super().__init__()\n",
        "        self.n_classes = n_classes\n",
        "        self.relu = nn.ReLU(inplace=True)\n",
        "\n",
        "        self.initBlock = nn.Sequential(\n",
        "            nn.Conv2d(input_channel, 32, 3, 2, 1, bias=False),\n",
        "            nn.BatchNorm2d(32),\n",
        "            nn.ReLU(inplace=True),\n",
        "\n",
        "            nn.Conv2d(32, 64, kernel_size = 3, padding=1, bias=False),\n",
        "            nn.BatchNorm2d(64),\n",
        "            nn.ReLU(inplace=True)\n",
        "        )\n",
        "\n",
        "        self.block1=Block(64,128,2,2,relu=False,grow_first=True)\n",
        "        self.block2=Block(128,256,2,2,relu=True,grow_first=True)\n",
        "        self.block3=Block(256,728,2,2,relu=True,grow_first=True)\n",
        "\n",
        "        self.block4=Block(728,728,3,1,relu=True,grow_first=True)\n",
        "        self.block5=Block(728,728,3,1,relu=True,grow_first=True)\n",
        "        self.block6=Block(728,728,3,1,relu=True,grow_first=True)\n",
        "        self.block7=Block(728,728,3,1,relu=True,grow_first=True)\n",
        "\n",
        "        self.block8=Block(728,728,3,1,relu=True,grow_first=True)\n",
        "        self.block9=Block(728,728,3,1,relu=True,grow_first=True)\n",
        "        self.block10=Block(728,728,3,1,relu=True,grow_first=True)\n",
        "        self.block11=Block(728,728,3,1,relu=True,grow_first=True)\n",
        "\n",
        "        self.block12=Block(728,1024,2,2,relu=True,grow_first=False)\n",
        "\n",
        "        self.convolution3 = SeparableConvolution(1024,1536,3,1,1)\n",
        "        self.batchnorm3 = nn.BatchNorm2d(1536)\n",
        "\n",
        "        #do relu here\n",
        "        self.convolution4 = SeparableConvolution(1536,2048,3,1,1)\n",
        "        self.batchnorm4 = nn.BatchNorm2d(2048)\n",
        "\n",
        "        self.fc = nn.Linear(2048, self.n_classes)\n",
        "\n",
        "        #weight initialization\n",
        "        for m in self.modules():\n",
        "            if isinstance(m, nn.Conv2d):\n",
        "                n = m.kernel_size[0] * m.kernel_size[1] * m.out_channels\n",
        "                m.weight.data.normal_(0, math.sqrt(2. / n))\n",
        "            elif isinstance(m, nn.BatchNorm2d):\n",
        "                m.weight.data.fill_(1)\n",
        "                m.bias.data.zero_()\n",
        "\n",
        "    def forward(self, x):\n",
        "        x = self.initBlock(x)\n",
        "        x = self.block1(x)\n",
        "        \n",
        "        x = self.block2(x)\n",
        "        x = self.block3(x)\n",
        "        x = self.block4(x)\n",
        "        x = self.block5(x)\n",
        "        x = self.block6(x)\n",
        "        x = self.block7(x)\n",
        "        x = self.block8(x)\n",
        "        x = self.block9(x)\n",
        "        x = self.block10(x)\n",
        "        x = self.block11(x)\n",
        "        x = self.block12(x)\n",
        "        \n",
        "        x = self.convolution3(x)\n",
        "        x = self.batchnorm3(x)\n",
        "        x = self.relu(x)\n",
        "        \n",
        "        x = self.convolution4(x)\n",
        "        x = self.batchnorm4(x)\n",
        "        x = self.relu(x)\n",
        "\n",
        "        x = F.adaptive_avg_pool2d(x, (1, 1))\n",
        "        x = x.view(x.size(0), -1)\n",
        "        x = self.fc(x)\n",
        "\n",
        "        return x"
      ]
    },
    {
      "cell_type": "code",
      "execution_count": null,
      "metadata": {
        "id": "Gl_J6wE878h8"
      },
      "outputs": [],
      "source": [
        "class AverageMeter(object):\n",
        "    \"\"\"Computes and stores the average and current value\"\"\"\n",
        "    def __init__(self):\n",
        "        self.reset()\n",
        "\n",
        "    def reset(self):\n",
        "        self.val = 0\n",
        "        self.avg = 0\n",
        "        self.sum = 0\n",
        "        self.count = 0\n",
        "\n",
        "    def update(self, val, n=1):\n",
        "        self.val = val\n",
        "        self.sum += val * n\n",
        "        self.count += n\n",
        "        self.avg = self.sum / self.count"
      ]
    },
    {
      "cell_type": "code",
      "execution_count": null,
      "metadata": {
        "id": "W-GKXmsIS48U"
      },
      "outputs": [],
      "source": [
        "from tqdm import tqdm_notebook as tqdm\n",
        "##define train function\n",
        "def train(model, device, train_loader, optimizer):\n",
        "    # meter\n",
        "    loss = AverageMeter()\n",
        "    # switch to train mode\n",
        "    model.train()\n",
        "    tk0 = tqdm(train_loader, total=int(len(train_loader)))\n",
        "    for batch_idx, (data, target) in enumerate(tk0):\n",
        "        \n",
        "        data, target = data.to(device), target.to(device)  \n",
        "        \n",
        "        output = model(data) \n",
        "        # compute the loss function\n",
        "        loss_this = F.cross_entropy(output, target)\n",
        "        # initialize the optimizer\n",
        "        optimizer.zero_grad()\n",
        "        # compute the backward pass\n",
        "        loss_this.backward()\n",
        "        # update the parameters\n",
        "        optimizer.step()\n",
        "        # update the loss meter \n",
        "        loss.update(loss_this.item(), target.shape[0])\n",
        "    print('Train: Average loss: {:.4f}\\n'.format(loss.avg))\n",
        "    return loss.avg    \n",
        "\n",
        "\n",
        "def validate(model, device, val_loader):\n",
        "    # meters\n",
        "    loss = AverageMeter()\n",
        "    acc = AverageMeter()\n",
        "    correct = 0\n",
        "    # switch to test mode\n",
        "    model.eval()\n",
        "    for data, target in val_loader:\n",
        "      \n",
        "        data, target = data.to(device), target.to(device)  \n",
        "        with torch.no_grad():\n",
        "            \n",
        "            output = model(data)\n",
        "       \n",
        "        loss_this = F.cross_entropy(output, target) \n",
        "        # get the index of the max log-probability\n",
        "        pred = output.argmax(dim=1, keepdim=True) \n",
        "        # check which are correct\n",
        "        correct_this = pred.eq(target.view_as(pred)).sum().item()\n",
        "        # accumulate the correct ones\n",
        "        correct += correct_this\n",
        "        # compute accuracy\n",
        "        acc_this = correct_this/target.shape[0]*100.0\n",
        "        # update the loss and accuracy meter \n",
        "        acc.update(acc_this, target.shape[0])\n",
        "        loss.update(loss_this.item(), target.shape[0])\n",
        "    print('Test: Average loss: {:.4f}, Accuracy: {}/{} ({:.2f}%)\\n'.format(\n",
        "        loss.avg, correct, len(val_loader.dataset), acc.avg))\n",
        "    return loss.avg,acc.avg\n",
        "##define test function\n",
        "\n",
        "def test(model, device, test_loader):\n",
        "    # meters\n",
        "    loss = AverageMeter()\n",
        "    acc = AverageMeter()\n",
        "    correct = 0\n",
        "    # switch to test mode\n",
        "    model.eval()\n",
        "    for data, target in test_loader:\n",
        "      \n",
        "        data, target = data.to(device), target.to(device)  \n",
        "        with torch.no_grad():\n",
        "            \n",
        "            output = model(data)\n",
        "       \n",
        "        loss_this = F.cross_entropy(output, target) \n",
        "        # get the index of the max log-probability\n",
        "        pred = output.argmax(dim=1, keepdim=True) \n",
        "        # check which are correct\n",
        "        correct_this = pred.eq(target.view_as(pred)).sum().item()\n",
        "        # accumulate the correct ones\n",
        "        correct += correct_this\n",
        "        # compute accuracy\n",
        "        acc_this = correct_this/target.shape[0]*100.0\n",
        "        # update the loss and accuracy meter \n",
        "        acc.update(acc_this, target.shape[0])\n",
        "        loss.update(loss_this.item(), target.shape[0])\n",
        "    print('Test: Average loss: {:.4f}, Accuracy: {}/{} ({:.2f}%)\\n'.format(\n",
        "        loss.avg, correct, len(test_loader.dataset), acc.avg))\n",
        "    return loss.avg,acc.avg"
      ]
    },
    {
      "cell_type": "code",
      "execution_count": null,
      "metadata": {
        "colab": {
          "base_uri": "https://localhost:8080/"
        },
        "id": "4OkyGB018Gom",
        "outputId": "882e8421-7485-498b-8a63-39d163b92ecb"
      },
      "outputs": [
        {
          "name": "stdout",
          "output_type": "stream",
          "text": [
            "['NORM' 'TUM']\n"
          ]
        }
      ],
      "source": [
        "import numpy as np\n",
        "from sklearn.model_selection import train_test_split\n",
        "with open('dualclass/files_list.txt', 'r') as fp:\n",
        "    files = fp.read().splitlines()\n",
        "classes_str = [file.split('/')[0] for file in files]\n",
        "classes_str, classes = np.unique(classes_str, return_inverse=True)\n",
        "print(classes_str)\n",
        "train_files, val_files, train_classes, val_classes = train_test_split(files, classes, train_size=0.7, test_size=0.3, stratify=classes)"
      ]
    },
    {
      "cell_type": "code",
      "execution_count": null,
      "metadata": {
        "colab": {
          "base_uri": "https://localhost:8080/"
        },
        "id": "kQ2vgdZZ8JPM",
        "outputId": "24ebe0a4-c3e2-414b-aee6-6bd52bfe1360"
      },
      "outputs": [
        {
          "name": "stdout",
          "output_type": "stream",
          "text": [
            "['NORM' 'TUM']\n",
            "7200\n",
            "7200\n"
          ]
        }
      ],
      "source": [
        "with open('test2classes/files_list.txt', 'r') as fp:\n",
        "    files = fp.read().splitlines()\n",
        "classes_str = [file.split('/')[0] for file in files]\n",
        "classes_str, classes = np.unique(classes_str, return_inverse=True)\n",
        "print(classes_str)\n",
        "test_files=files\n",
        "test_classes = classes\n",
        "print(len(test_files))\n",
        "print(len(test_classes))"
      ]
    },
    {
      "cell_type": "code",
      "execution_count": null,
      "metadata": {
        "id": "mhe-yYJzS9k1"
      },
      "outputs": [],
      "source": [
        "from PIL import Image\n",
        "import torch.utils.data as data\n",
        "class Hist(data.Dataset):\n",
        "    def __init__(self, root, files, classes, transforms=None):\n",
        "        self.root = root\n",
        "        self.files = files\n",
        "        self.classes = classes\n",
        "        self.transforms = transforms\n",
        "\n",
        "    def __getitem__(self, item):\n",
        "        image = Image.open(os.path.join(self.root, self.files[item])).convert(mode=\"RGB\")\n",
        "        class_ = self.classes[item]\n",
        "        if self.transforms:\n",
        "            image = self.transforms(image)\n",
        "        return image, class_\n",
        "\n",
        "    def __len__(self):\n",
        "        return len(self.files)"
      ]
    },
    {
      "cell_type": "code",
      "execution_count": null,
      "metadata": {
        "id": "wQvqqRivS9s9"
      },
      "outputs": [],
      "source": [
        "batch_size_train = 5 # We use a small batch size here for training\n",
        "batch_size_test = 10 #\n",
        "batch_size_val = 10\n",
        "\n",
        "# define how image transformed\n",
        "image_transform = torchvision.transforms.Compose([\n",
        "                               torchvision.transforms.Resize((224, 224)),\n",
        "                               torchvision.transforms.ToTensor(),\n",
        "                               torchvision.transforms.Normalize(\n",
        "                                 (0.5, 0.5, 0.5), (0.5, 0.5, 0.5))])\n",
        "#image datasets\n",
        "train_dataset = Hist('dualclass/', train_files, train_classes, \n",
        "                         transforms=image_transform)\n",
        "val_dataset = Hist('dualclass/', val_files, val_classes, \n",
        "                         transforms=image_transform)\n",
        "test_dataset = Hist('test2classes/', test_files, test_classes, \n",
        "                        transforms=image_transform)\n",
        "#data loaders\n",
        "train_loader = torch.utils.data.DataLoader(train_dataset,\n",
        "                                           batch_size=batch_size_train, \n",
        "                                           shuffle=True, num_workers=2)\n",
        "val_loader = torch.utils.data.DataLoader(val_dataset,\n",
        "                                           batch_size=batch_size_val, \n",
        "                                           shuffle=True, num_workers=2)\n",
        "\n",
        "test_loader = torch.utils.data.DataLoader(test_dataset,\n",
        "                                          batch_size=batch_size_test, \n",
        "                                          shuffle=True, num_workers=2)"
      ]
    },
    {
      "cell_type": "code",
      "execution_count": null,
      "metadata": {
        "colab": {
          "base_uri": "https://localhost:8080/",
          "height": 304
        },
        "id": "1sbbg2XUS9v8",
        "outputId": "b9d38ca4-b22c-402d-bfe7-db82f1a317b8"
      },
      "outputs": [
        {
          "name": "stderr",
          "output_type": "stream",
          "text": [
            "WARNING:matplotlib.image:Clipping input data to the valid range for imshow with RGB data ([0..1] for floats or [0..255] for integers).\n"
          ]
        },
        {
          "name": "stdout",
          "output_type": "stream",
          "text": [
            "Label: NORM\n"
          ]
        },
        {
          "data": {
            "image/png": "[encoded data removed]",
            "text/plain": [
              "<Figure size 432x288 with 1 Axes>"
            ]
          },
          "metadata": {},
          "output_type": "display_data"
        }
      ],
      "source": [
        "# import library\n",
        "import matplotlib.pyplot as plt\n",
        "# We can check the dataloader\n",
        "_, (example_datas, labels) = next(enumerate(train_loader))\n",
        "sample = example_datas[0]\n",
        "# show the data\n",
        "plt.imshow(sample.permute(1, 2, 0));\n",
        "print(\"Label: \" + str(classes_str[labels[0]]))"
      ]
    },
    {
      "cell_type": "code",
      "execution_count": null,
      "metadata": {
        "id": "scR9Pn1Q8Wts"
      },
      "outputs": [],
      "source": [
        "drive.flush_and_unmount()\n",
        "!rm -rf /content/drive"
      ]
    },
    {
      "cell_type": "code",
      "execution_count": null,
      "metadata": {
        "colab": {
          "background_save": true,
          "base_uri": "https://localhost:8080/",
          "height": 1000,
          "referenced_widgets": [
            "a9a6cc51207e4e9588d7e5605199bdf8",
            "6a3a94ab5b20454db9a60d037c66c9ca",
            "bd67721485cc4443991add23fa25b936",
            "aa98c59a35d04cccb1d26baeb4f1cdc8",
            "46080adb412f4751b98d7dab76555a94",
            "2f7baa8e936649fbb03ab4e6bf81ec0c",
            "75325dd373c049d991ca4b76ac61a40b",
            "a425e4f379d44efe87130d7819a2c126",
            "71458e224b2742e7a2d25d38e6a2a39c",
            "6a2e81c1186f4e0c85e068102c5a8183",
            "67570aa0b51349bbbbc9155a40402812",
            "e222fc7f03f146c086a73af45553104e",
            "9fe1a53183b8468a8386350896a8679b",
            "a31a037433954fd6ae248ff2d4173035",
            "83544529ef8e43ed96e40e43fb07cdd7",
            "3b8e41a22e5c4627a4c36905517d5003",
            "94e52d3937724c2b98ddb4c42085eaa0",
            "ce4e5da38b3f4e1abc2e4c98fb3f4907",
            "2c5ccbd1286f4829ba54776b601fa921",
            "ac5222382e4d4c738f1bcc78a0771289",
            "10398e1b50ac43f09c0319cad9f1edc6",
            "6b174fb941994a77b697182cb437a740",
            "255549b1015a4a538e7ff494b83f3948",
            "a29ed64c03a149db892b4b645ca9598a",
            "1b4a8e206a67473792ee56055fd81b28",
            "b6c5bb505c7e4bf4a589432e66674f2e",
            "90c2733620ec4b4b87b398b22ed325e0",
            "14db53835e63482595494e96d1d55c69",
            "9e56feef7f26416b9a22cb2261891fd2",
            "4d6c2877955d4bb9b7083e0b02747e43",
            "cfab9241727e4da9badc8bc530a8a79b",
            "d5f40a6e1e984ea29c71e21eb96132a0",
            "f29f6e718fc244949aa361541cae6c21",
            "80a2bf620c484488a644c5eda1a4e9ca",
            "ad6202024e944ab9b15339277770df18",
            "f33493cad8e14fbc85b1c5ab4589afca",
            "6b1ec439662a4515aa64d0d758ebf8a3",
            "aaa60b4a0d3040c483654f4cd8463428",
            "891cd019ef944d4ba04a6b74abcb2ca2",
            "07915785cb7d45759dd718b4f6939ec7",
            "0ccec2b3086648b7987c1e07e59676bf",
            "fd9f955fae21414280d9b4edd7ced585",
            "8f1559655e2d4d138025a04677c7fe29",
            "da3a937f48ac4be481f672283d6f0d8a",
            "d629c2a3045c47c288cbf9d6c3b15666",
            "854f28ec57a240e1ab0fb96cbf48bda8",
            "60769d31c1ce4c5f9388e1e65326eb26",
            "30b884c098e6400fa43fd1959ae75c57",
            "76d611a9e9164c9ab8b6b4b053eef103",
            "4839718330bb48a8947f250535ccb135",
            "4a9a293a78c64d76a103d13d873afd11",
            "bca97e7a3b8f40ac849991e5fd142c07",
            "9ad6e9d490014cbd9f3fcec855805dd8",
            "98af20373398482eaee405464d680db4",
            "50f3ce5cae10485eb1d1aaea8b35bcfc",
            "014422a0623143e3bba0315b507035be",
            "ac290a2bb90849648da5ba167ee436ac",
            "943cc148ca9d4e54943ed1a8b2049e51",
            "26cfb5a2bced4432b150e7f86de74734",
            "66459c25a6084f1e87b8ff072e849544",
            "bd8fc255665641378ace4b97486ddf60",
            "4da036e5f13c4e1c8c6bb3398c56685b",
            "d18b35c6a9bc44ebac9048b26896fcc4",
            "d6d9c13509f9455f8a5b9245b053e77d",
            "a2bc311f1f8d40cb9c80c8b05de9ca89",
            "fa9edf35c1c542818a9d32c7419e777e",
            "b0d35e52e8bb430fa003be8ed98668f6",
            "1fa2cd5718f945f19cb016e3ccf88ff4",
            "a56c3e8f08ef47a7bec035c57f4b26c5",
            "e3a3fc321e0742d984f14667dce472e4",
            "18e1b33741a648a7a9982a1e40bc8d90",
            "c96da25684ad457d9c74bb699de6ca83",
            "079b3cb6408245fc905b83325d15f9f4",
            "3643bf4eb7224c37a9e7a0fd54f5f3e0",
            "0afbacfe64af4773becb347ae2fc3310",
            "2e61773784d14de2a5b254d549f8b026",
            "a174e03863a24c14bb475f4a357f7cf7",
            "3d57378d901a4c8c93bb496748c1ada6",
            "2df638974fad416eb84f387b9bd832ef",
            "0de597eb4c8447c09ba7ba2c33b02d67",
            "f29351825704400087f1ee809272a2d0",
            "d83343714b2c4407845ff8981453b056",
            "059fc948c21b4f4398d7c786337f48b5",
            "56f17666c99b433a973220d4bdb8ba06",
            "ca3cab60cbb741eb9df0df54ac468738",
            "c28eddcddd4b4be2bdc5a2ac3d4d9346",
            "e6965f16966849d1babc5133a1120a9d",
            "da37903f9ed44e8a9bc04237ea5d6ac9",
            "b8f5897938834c259bf1a24d76f0c1ab",
            "c4fd281b81aa44018fc3f931b1e25dba",
            "c61ffa144d204c3a8c8e05912c767442",
            "302c085d2377495a99a3869d2f9b32f5",
            "51d356422de3400481df21385e3c5eda",
            "2beb9e0a712a4459a60b778689febf33",
            "5bf7e9fced9a4d1eb03c7d752afef4d0",
            "7e67ff7757a943b38b04d7adc1c241d0",
            "a140a399f7b54d18b5b7435b3ebd0d59",
            "054db49d19c749c6b3942d6569f088cb",
            "256f89838850483189863ecc5718a052",
            "b40b3d8fa4e243a1a2d5652b302d0cfa",
            "0e02c836aaee4a1297626810aec78006",
            "d2ebe5cdeb174d28a5fd3fad806aed13",
            "2f75f5b283b8493f9e03d57d8d8a1b18",
            "d3dbaa9f6e8544a58eec5865ea696aec",
            "13432d4a7ca348998ecc5fdbbb198114",
            "e2efea6504354d3282ee8bd6b103aa13",
            "82522f64d34a4ee188e4dfaacdde685e",
            "ae46dad6562341e9aecccf7354ff00c4",
            "97225600fdcc4bd8a8c7e6922b50148a",
            "13b7e7f482d94ba2b040830e49b6c248",
            "847cc0dfe9234901a89901c8e19401cd",
            "2667fcd1645b49eb80ad6c2fad68223a",
            "d7f3493bc87c4f47bf5153c824c1be34",
            "5bdbfc1e5db34599ad3c812c6e98da8d",
            "874dc387cf7647c59f2d5599285be673",
            "0e25932a9bb14175877de376e61f992e",
            "9639967f110b47dcabf33e2043bdff5a",
            "9f628e15d1d34085aaa0598f7b45a42f",
            "88672b72331e4bf9be856b03877ac20d",
            "1ff63d6eef604ca0adde61ddf1ec0ec6",
            "5c77bf2ac35b4cce905d30220e1c6a1a",
            "9ed57a393fd74515b3bbeb550578d082",
            "26ec3bffef234112af553c614ded6384",
            "a3b955ff39304fabbd453e73504cd8d7",
            "70496fe8c0b84974b213298b505dde3b",
            "549dea5935734a96b95b77f069ebaa29",
            "03a3dfbdc9c84021b830e27eab7068e2",
            "1960807558e5429ba7334a27288fa408",
            "af83c572e72a46648b58a3ca2b7692a3",
            "82987290956741d3b575004b44c108c9",
            "784afb5a4d2a4bf68152aa9c294bd54b",
            "5e086980593f4c9e99ec4f146837264a",
            "9e14badfe1da489f9a9de841d46bcc94",
            "11162e0794be40859841140ad8410785",
            "f9b75983357e48ebab2747f2b4de5111",
            "3d35024a2e43433da65e27f2009b8bc6",
            "6f65f5950cda4e93983d4bde8fac5140",
            "b4c5446b1beb47ad86e82019afb173e7",
            "3a834827a5944845b7065bbdb24bd449",
            "a357a19ab82a48e299bf32b225cce0ca",
            "b70a37997b6b4bacb177a78d91636a1c",
            "188e673351ba4787b5cf7a239f3d8609",
            "bfb7c3bea98a4212be6699a5f5a51cdb",
            "bcbbcc6defb045c6bc280960eb31c6c7",
            "06f7934341d64c4bb0cb9ce6b8427bbe",
            "4b2ea08001d04353b23d25975c6e3faf",
            "47f25ee2f0854c0e954f221acbf260b9",
            "80b7ec738404487d8274aa16f17a64af",
            "41b9e9a0e5524328a342010bd844e1ef",
            "fc1e9b76cac0430598351d2a6fdae89f",
            "598b64260fc54739a82da9ce86046400",
            "a6dab5498f7c4ff4832823bd9798d92f",
            "716562ac3ce94354a639b1403618f757",
            "4d454b532e494c0ba694daf7e2052d90",
            "253bcb4c213943c69cdc2d7c47087411",
            "2b420fe7caf445fcbe8c3542abbcc85d",
            "baa4aa4a82354a1f8b6cce6988b8d7cf",
            "f53875bc82d74b64b129b8be7e97513f",
            "78295e87bda64873907877c2cb82cab0",
            "cf782714669f489697cb6fe17c2036fb",
            "365c3086ca05422784c1a9becdcef8d1",
            "2ce56e6a52a842cab5c288f65673aecc",
            "9a42ee1c67a54795b11dbb8669093be1",
            "f3e94ec9f37546338d612c06e444533b",
            "8c6541ad56c547feb240ce23c2305612",
            "e2002254a71d40e38880fe18452e1d43",
            "59e60c3cf4034f069152234bca2243f4",
            "a97afbf683b74c618142e09731dde6d8",
            "87ae03182e024f3792075569c43b78c3",
            "27cdc461183f497d9c9ee78baa62fa89",
            "ab0bf5b251bb4ff8a19d7659d1c12f4a",
            "e8cba763d312430f9a8630a6047901aa",
            "cbcc814295c844e3b8ec4f560d883b16",
            "7a30f383a4304c13b37eaf5f0bd570f7",
            "e83cf55d6268423793ce3b8beec8c9eb",
            "25c7e5beace54294aa38f4bb1e180bc8",
            "2465fb6e5ddc4e4cb0d4b9d5f5f05776",
            "bc6447f820e54f08be40f243a25fcec7",
            "0fd2aaf81dde4e0d83d193f289b12284",
            "3ee20ad336ff42a48a04e72d17cfab72",
            "0df836ce06324e93b74e9a7cb6917402",
            "89da30860f8e4f66823c8708b855c723",
            "5f704a4b269a4cbab9ed3019680b5085",
            "dc26e3614cbd4f5b8b3ee954c4b855f5",
            "85984bd890e2467eb4444a7d0539051d",
            "1743cb54f73b423abdb903da6a7e1039",
            "b540c7fcba9d4e4db8d911ed7d2dc11f",
            "d3c05aa867654cbd9299837be5cf8805",
            "0d7ed769327b478f9b23b826e7bd229d",
            "631a6a772c9a4d689272975615509c88",
            "0d82827a8e2649e0b22b4adcbf7515b4",
            "9f6057bd338a447b8011c3c4c303e5b1",
            "30692455af5b42a68c89cada8b9338e0",
            "60dffa41ddca40b9b943c33d4fb15474",
            "24c09ef8c05f4bc5bc32aefbdaaf6c9b",
            "ddd5e9e72e244263bfd3e51a8ba76840",
            "bc031db10d4a497182190bb52fb575fb",
            "59b6ca42ad4c4ce7a1ac9568e2e165be",
            "56d511d189204cd892e0f111b8e97e2a",
            "e0087c089fed4c93b597bc86baee415e",
            "2d77199c8baa4824acc5cf1584162cbd",
            "78fbf5a311134fc897e2af64272e1a5d",
            "59f265057b1248c792cd2c93e0ceaab7",
            "560fa592dc6442b586f4c92af371366a",
            "31b25a32de104416a3af6f2774565b69",
            "8db45100fcb54454a5a56ca78a4e73fb",
            "3cef7e0c17db4330af3efe410ec72e3c",
            "36cae769952a432dac9c1ef38634cea1",
            "984ead3c4af34b3390c155c6348758ec",
            "5b716db4f3af49af92977e755b8eafc8"
          ]
        },
        "id": "rB8ihYX-8e4T",
        "outputId": "0f557da8-2e49-42f6-8ae9-48d9e74ed134"
      },
      "outputs": [
        {
          "name": "stdout",
          "output_type": "stream",
          "text": [
            "Experiment:  1\n",
            "1\n"
          ]
        },
        {
          "name": "stderr",
          "output_type": "stream",
          "text": [
            "<ipython-input-6-7ceae6cba87a>:8: TqdmDeprecationWarning: This function will be removed in tqdm==5.0.0\n",
            "Please use `tqdm.notebook.tqdm` instead of `tqdm.tqdm_notebook`\n",
            "  tk0 = tqdm(train_loader, total=int(len(train_loader)))\n"
          ]
        },
        {
          "data": {
            "application/vnd.jupyter.widget-view+json": {
              "model_id": "a9a6cc51207e4e9588d7e5605199bdf8",
              "version_major": 2,
              "version_minor": 0
            },
            "text/plain": [
              "  0%|          | 0/4245 [00:00<?, ?it/s]"
            ]
          },
          "metadata": {},
          "output_type": "display_data"
        },
        {
          "name": "stdout",
          "output_type": "stream",
          "text": [
            "Train: Average loss: 0.3627\n",
            "\n",
            "Test: Average loss: 0.1395, Accuracy: 8605/9096 (94.60%)\n",
            "\n",
            "2\n"
          ]
        },
        {
          "data": {
            "application/vnd.jupyter.widget-view+json": {
              "model_id": "e222fc7f03f146c086a73af45553104e",
              "version_major": 2,
              "version_minor": 0
            },
            "text/plain": [
              "  0%|          | 0/4245 [00:00<?, ?it/s]"
            ]
          },
          "metadata": {},
          "output_type": "display_data"
        },
        {
          "name": "stdout",
          "output_type": "stream",
          "text": [
            "Train: Average loss: 0.2439\n",
            "\n",
            "Test: Average loss: 0.0846, Accuracy: 8840/9096 (97.19%)\n",
            "\n",
            "3\n"
          ]
        },
        {
          "data": {
            "application/vnd.jupyter.widget-view+json": {
              "model_id": "255549b1015a4a538e7ff494b83f3948",
              "version_major": 2,
              "version_minor": 0
            },
            "text/plain": [
              "  0%|          | 0/4245 [00:00<?, ?it/s]"
            ]
          },
          "metadata": {},
          "output_type": "display_data"
        },
        {
          "name": "stdout",
          "output_type": "stream",
          "text": [
            "Train: Average loss: 0.1748\n",
            "\n",
            "Test: Average loss: 0.0937, Accuracy: 8809/9096 (96.84%)\n",
            "\n",
            "4\n"
          ]
        },
        {
          "data": {
            "application/vnd.jupyter.widget-view+json": {
              "model_id": "a29ed64c03a149db892b4b645ca9598a",
              "version_major": 2,
              "version_minor": 0
            },
            "text/plain": [
              "  0%|          | 0/4245 [00:00<?, ?it/s]"
            ]
          },
          "metadata": {},
          "output_type": "display_data"
        },
        {
          "name": "stdout",
          "output_type": "stream",
          "text": [
            "Train: Average loss: 0.1327\n",
            "\n",
            "Test: Average loss: 0.1335, Accuracy: 8618/9096 (94.74%)\n",
            "\n",
            "5\n"
          ]
        },
        {
          "data": {
            "application/vnd.jupyter.widget-view+json": {
              "model_id": "1b4a8e206a67473792ee56055fd81b28",
              "version_major": 2,
              "version_minor": 0
            },
            "text/plain": [
              "  0%|          | 0/4245 [00:00<?, ?it/s]"
            ]
          },
          "metadata": {},
          "output_type": "display_data"
        },
        {
          "name": "stdout",
          "output_type": "stream",
          "text": [
            "Train: Average loss: 0.1120\n",
            "\n",
            "Test: Average loss: 0.0844, Accuracy: 8856/9096 (97.36%)\n",
            "\n",
            "6\n"
          ]
        },
        {
          "data": {
            "application/vnd.jupyter.widget-view+json": {
              "model_id": "b6c5bb505c7e4bf4a589432e66674f2e",
              "version_major": 2,
              "version_minor": 0
            },
            "text/plain": [
              "  0%|          | 0/4245 [00:00<?, ?it/s]"
            ]
          },
          "metadata": {},
          "output_type": "display_data"
        },
        {
          "name": "stdout",
          "output_type": "stream",
          "text": [
            "Train: Average loss: 0.0982\n",
            "\n",
            "Test: Average loss: 0.0722, Accuracy: 8887/9096 (97.70%)\n",
            "\n",
            "7\n"
          ]
        },
        {
          "data": {
            "application/vnd.jupyter.widget-view+json": {
              "model_id": "90c2733620ec4b4b87b398b22ed325e0",
              "version_major": 2,
              "version_minor": 0
            },
            "text/plain": [
              "  0%|          | 0/4245 [00:00<?, ?it/s]"
            ]
          },
          "metadata": {},
          "output_type": "display_data"
        },
        {
          "name": "stdout",
          "output_type": "stream",
          "text": [
            "Train: Average loss: 0.0855\n",
            "\n",
            "Test: Average loss: 0.0613, Accuracy: 8915/9096 (98.01%)\n",
            "\n",
            "8\n"
          ]
        },
        {
          "data": {
            "application/vnd.jupyter.widget-view+json": {
              "model_id": "14db53835e63482595494e96d1d55c69",
              "version_major": 2,
              "version_minor": 0
            },
            "text/plain": [
              "  0%|          | 0/4245 [00:00<?, ?it/s]"
            ]
          },
          "metadata": {},
          "output_type": "display_data"
        },
        {
          "name": "stdout",
          "output_type": "stream",
          "text": [
            "Train: Average loss: 0.0740\n",
            "\n",
            "Test: Average loss: 0.0954, Accuracy: 8790/9096 (96.64%)\n",
            "\n",
            "9\n"
          ]
        },
        {
          "data": {
            "application/vnd.jupyter.widget-view+json": {
              "model_id": "9e56feef7f26416b9a22cb2261891fd2",
              "version_major": 2,
              "version_minor": 0
            },
            "text/plain": [
              "  0%|          | 0/4245 [00:00<?, ?it/s]"
            ]
          },
          "metadata": {},
          "output_type": "display_data"
        },
        {
          "name": "stdout",
          "output_type": "stream",
          "text": [
            "Train: Average loss: 0.0674\n",
            "\n",
            "Test: Average loss: 0.1306, Accuracy: 8728/9096 (95.95%)\n",
            "\n",
            "10\n"
          ]
        },
        {
          "data": {
            "application/vnd.jupyter.widget-view+json": {
              "model_id": "4d6c2877955d4bb9b7083e0b02747e43",
              "version_major": 2,
              "version_minor": 0
            },
            "text/plain": [
              "  0%|          | 0/4245 [00:00<?, ?it/s]"
            ]
          },
          "metadata": {},
          "output_type": "display_data"
        },
        {
          "name": "stdout",
          "output_type": "stream",
          "text": [
            "Train: Average loss: 0.0609\n",
            "\n",
            "Test: Average loss: 0.0809, Accuracy: 8844/9096 (97.23%)\n",
            "\n",
            "11\n"
          ]
        },
        {
          "data": {
            "application/vnd.jupyter.widget-view+json": {
              "model_id": "cfab9241727e4da9badc8bc530a8a79b",
              "version_major": 2,
              "version_minor": 0
            },
            "text/plain": [
              "  0%|          | 0/4245 [00:00<?, ?it/s]"
            ]
          },
          "metadata": {},
          "output_type": "display_data"
        },
        {
          "name": "stdout",
          "output_type": "stream",
          "text": [
            "Train: Average loss: 0.0580\n",
            "\n",
            "Test: Average loss: 0.0684, Accuracy: 8867/9096 (97.48%)\n",
            "\n",
            "12\n"
          ]
        },
        {
          "data": {
            "application/vnd.jupyter.widget-view+json": {
              "model_id": "d5f40a6e1e984ea29c71e21eb96132a0",
              "version_major": 2,
              "version_minor": 0
            },
            "text/plain": [
              "  0%|          | 0/4245 [00:00<?, ?it/s]"
            ]
          },
          "metadata": {},
          "output_type": "display_data"
        },
        {
          "name": "stdout",
          "output_type": "stream",
          "text": [
            "Train: Average loss: 0.0543\n",
            "\n",
            "Test: Average loss: 0.0541, Accuracy: 8924/9096 (98.11%)\n",
            "\n",
            "13\n"
          ]
        },
        {
          "data": {
            "application/vnd.jupyter.widget-view+json": {
              "model_id": "f29f6e718fc244949aa361541cae6c21",
              "version_major": 2,
              "version_minor": 0
            },
            "text/plain": [
              "  0%|          | 0/4245 [00:00<?, ?it/s]"
            ]
          },
          "metadata": {},
          "output_type": "display_data"
        },
        {
          "name": "stdout",
          "output_type": "stream",
          "text": [
            "Train: Average loss: 0.0481\n",
            "\n",
            "Test: Average loss: 0.0685, Accuracy: 8872/9096 (97.54%)\n",
            "\n",
            "14\n"
          ]
        },
        {
          "data": {
            "application/vnd.jupyter.widget-view+json": {
              "model_id": "80a2bf620c484488a644c5eda1a4e9ca",
              "version_major": 2,
              "version_minor": 0
            },
            "text/plain": [
              "  0%|          | 0/4245 [00:00<?, ?it/s]"
            ]
          },
          "metadata": {},
          "output_type": "display_data"
        },
        {
          "name": "stdout",
          "output_type": "stream",
          "text": [
            "Train: Average loss: 0.0462\n",
            "\n",
            "Test: Average loss: 0.0548, Accuracy: 8949/9096 (98.38%)\n",
            "\n",
            "15\n"
          ]
        },
        {
          "data": {
            "application/vnd.jupyter.widget-view+json": {
              "model_id": "ad6202024e944ab9b15339277770df18",
              "version_major": 2,
              "version_minor": 0
            },
            "text/plain": [
              "  0%|          | 0/4245 [00:00<?, ?it/s]"
            ]
          },
          "metadata": {},
          "output_type": "display_data"
        },
        {
          "name": "stdout",
          "output_type": "stream",
          "text": [
            "Train: Average loss: 0.0428\n",
            "\n",
            "Test: Average loss: 0.0741, Accuracy: 8865/9096 (97.46%)\n",
            "\n",
            "16\n"
          ]
        },
        {
          "data": {
            "application/vnd.jupyter.widget-view+json": {
              "model_id": "f33493cad8e14fbc85b1c5ab4589afca",
              "version_major": 2,
              "version_minor": 0
            },
            "text/plain": [
              "  0%|          | 0/4245 [00:00<?, ?it/s]"
            ]
          },
          "metadata": {},
          "output_type": "display_data"
        },
        {
          "name": "stdout",
          "output_type": "stream",
          "text": [
            "Train: Average loss: 0.0362\n",
            "\n",
            "Test: Average loss: 1.1836, Accuracy: 8058/9096 (88.59%)\n",
            "\n",
            "17\n"
          ]
        },
        {
          "data": {
            "application/vnd.jupyter.widget-view+json": {
              "model_id": "6b1ec439662a4515aa64d0d758ebf8a3",
              "version_major": 2,
              "version_minor": 0
            },
            "text/plain": [
              "  0%|          | 0/4245 [00:00<?, ?it/s]"
            ]
          },
          "metadata": {},
          "output_type": "display_data"
        },
        {
          "name": "stdout",
          "output_type": "stream",
          "text": [
            "Train: Average loss: 0.0397\n",
            "\n",
            "Test: Average loss: 0.0437, Accuracy: 8957/9096 (98.47%)\n",
            "\n",
            "18\n"
          ]
        },
        {
          "data": {
            "application/vnd.jupyter.widget-view+json": {
              "model_id": "aaa60b4a0d3040c483654f4cd8463428",
              "version_major": 2,
              "version_minor": 0
            },
            "text/plain": [
              "  0%|          | 0/4245 [00:00<?, ?it/s]"
            ]
          },
          "metadata": {},
          "output_type": "display_data"
        },
        {
          "name": "stdout",
          "output_type": "stream",
          "text": [
            "Train: Average loss: 0.0312\n",
            "\n",
            "Test: Average loss: 0.0476, Accuracy: 8962/9096 (98.53%)\n",
            "\n",
            "19\n"
          ]
        },
        {
          "data": {
            "application/vnd.jupyter.widget-view+json": {
              "model_id": "891cd019ef944d4ba04a6b74abcb2ca2",
              "version_major": 2,
              "version_minor": 0
            },
            "text/plain": [
              "  0%|          | 0/4245 [00:00<?, ?it/s]"
            ]
          },
          "metadata": {},
          "output_type": "display_data"
        },
        {
          "name": "stdout",
          "output_type": "stream",
          "text": [
            "Train: Average loss: 0.0294\n",
            "\n",
            "Test: Average loss: 0.0398, Accuracy: 8973/9096 (98.65%)\n",
            "\n",
            "20\n"
          ]
        },
        {
          "data": {
            "application/vnd.jupyter.widget-view+json": {
              "model_id": "07915785cb7d45759dd718b4f6939ec7",
              "version_major": 2,
              "version_minor": 0
            },
            "text/plain": [
              "  0%|          | 0/4245 [00:00<?, ?it/s]"
            ]
          },
          "metadata": {},
          "output_type": "display_data"
        },
        {
          "name": "stdout",
          "output_type": "stream",
          "text": [
            "Train: Average loss: 0.0291\n",
            "\n",
            "Test: Average loss: 0.0427, Accuracy: 8974/9096 (98.66%)\n",
            "\n",
            "21\n"
          ]
        },
        {
          "data": {
            "application/vnd.jupyter.widget-view+json": {
              "model_id": "0ccec2b3086648b7987c1e07e59676bf",
              "version_major": 2,
              "version_minor": 0
            },
            "text/plain": [
              "  0%|          | 0/4245 [00:00<?, ?it/s]"
            ]
          },
          "metadata": {},
          "output_type": "display_data"
        },
        {
          "name": "stdout",
          "output_type": "stream",
          "text": [
            "Train: Average loss: 0.0254\n",
            "\n",
            "Test: Average loss: 0.0433, Accuracy: 8970/9096 (98.61%)\n",
            "\n",
            "22\n"
          ]
        },
        {
          "data": {
            "application/vnd.jupyter.widget-view+json": {
              "model_id": "fd9f955fae21414280d9b4edd7ced585",
              "version_major": 2,
              "version_minor": 0
            },
            "text/plain": [
              "  0%|          | 0/4245 [00:00<?, ?it/s]"
            ]
          },
          "metadata": {},
          "output_type": "display_data"
        },
        {
          "name": "stdout",
          "output_type": "stream",
          "text": [
            "Train: Average loss: 0.0262\n",
            "\n",
            "Test: Average loss: 0.1778, Accuracy: 8505/9096 (93.50%)\n",
            "\n",
            "23\n"
          ]
        },
        {
          "data": {
            "application/vnd.jupyter.widget-view+json": {
              "model_id": "8f1559655e2d4d138025a04677c7fe29",
              "version_major": 2,
              "version_minor": 0
            },
            "text/plain": [
              "  0%|          | 0/4245 [00:00<?, ?it/s]"
            ]
          },
          "metadata": {},
          "output_type": "display_data"
        },
        {
          "name": "stdout",
          "output_type": "stream",
          "text": [
            "Train: Average loss: 0.0900\n",
            "\n",
            "Test: Average loss: 0.0429, Accuracy: 8976/9096 (98.68%)\n",
            "\n",
            "24\n"
          ]
        },
        {
          "data": {
            "application/vnd.jupyter.widget-view+json": {
              "model_id": "da3a937f48ac4be481f672283d6f0d8a",
              "version_major": 2,
              "version_minor": 0
            },
            "text/plain": [
              "  0%|          | 0/4245 [00:00<?, ?it/s]"
            ]
          },
          "metadata": {},
          "output_type": "display_data"
        },
        {
          "name": "stdout",
          "output_type": "stream",
          "text": [
            "Train: Average loss: 0.0443\n",
            "\n",
            "Test: Average loss: 0.1301, Accuracy: 8646/9096 (95.05%)\n",
            "\n",
            "25\n"
          ]
        },
        {
          "data": {
            "application/vnd.jupyter.widget-view+json": {
              "model_id": "d629c2a3045c47c288cbf9d6c3b15666",
              "version_major": 2,
              "version_minor": 0
            },
            "text/plain": [
              "  0%|          | 0/4245 [00:00<?, ?it/s]"
            ]
          },
          "metadata": {},
          "output_type": "display_data"
        },
        {
          "name": "stdout",
          "output_type": "stream",
          "text": [
            "Train: Average loss: 0.0338\n",
            "\n",
            "Test: Average loss: 0.0556, Accuracy: 8914/9096 (98.00%)\n",
            "\n",
            "26\n"
          ]
        },
        {
          "data": {
            "application/vnd.jupyter.widget-view+json": {
              "model_id": "854f28ec57a240e1ab0fb96cbf48bda8",
              "version_major": 2,
              "version_minor": 0
            },
            "text/plain": [
              "  0%|          | 0/4245 [00:00<?, ?it/s]"
            ]
          },
          "metadata": {},
          "output_type": "display_data"
        },
        {
          "name": "stdout",
          "output_type": "stream",
          "text": [
            "Train: Average loss: 0.0245\n",
            "\n",
            "Test: Average loss: 0.0541, Accuracy: 8927/9096 (98.14%)\n",
            "\n",
            "27\n"
          ]
        },
        {
          "data": {
            "application/vnd.jupyter.widget-view+json": {
              "model_id": "60769d31c1ce4c5f9388e1e65326eb26",
              "version_major": 2,
              "version_minor": 0
            },
            "text/plain": [
              "  0%|          | 0/4245 [00:00<?, ?it/s]"
            ]
          },
          "metadata": {},
          "output_type": "display_data"
        },
        {
          "name": "stdout",
          "output_type": "stream",
          "text": [
            "Train: Average loss: 0.0265\n",
            "\n",
            "Test: Average loss: 0.0368, Accuracy: 8993/9096 (98.87%)\n",
            "\n",
            "28\n"
          ]
        },
        {
          "data": {
            "application/vnd.jupyter.widget-view+json": {
              "model_id": "30b884c098e6400fa43fd1959ae75c57",
              "version_major": 2,
              "version_minor": 0
            },
            "text/plain": [
              "  0%|          | 0/4245 [00:00<?, ?it/s]"
            ]
          },
          "metadata": {},
          "output_type": "display_data"
        },
        {
          "name": "stdout",
          "output_type": "stream",
          "text": [
            "Train: Average loss: 0.0177\n",
            "\n",
            "Test: Average loss: 0.0711, Accuracy: 8873/9096 (97.55%)\n",
            "\n",
            "29\n"
          ]
        },
        {
          "data": {
            "application/vnd.jupyter.widget-view+json": {
              "model_id": "76d611a9e9164c9ab8b6b4b053eef103",
              "version_major": 2,
              "version_minor": 0
            },
            "text/plain": [
              "  0%|          | 0/4245 [00:00<?, ?it/s]"
            ]
          },
          "metadata": {},
          "output_type": "display_data"
        },
        {
          "name": "stdout",
          "output_type": "stream",
          "text": [
            "Train: Average loss: 0.0174\n",
            "\n",
            "Test: Average loss: 0.0423, Accuracy: 8980/9096 (98.72%)\n",
            "\n",
            "30\n"
          ]
        },
        {
          "data": {
            "application/vnd.jupyter.widget-view+json": {
              "model_id": "4839718330bb48a8947f250535ccb135",
              "version_major": 2,
              "version_minor": 0
            },
            "text/plain": [
              "  0%|          | 0/4245 [00:00<?, ?it/s]"
            ]
          },
          "metadata": {},
          "output_type": "display_data"
        },
        {
          "name": "stdout",
          "output_type": "stream",
          "text": [
            "Train: Average loss: 0.0202\n",
            "\n",
            "Test: Average loss: 0.0377, Accuracy: 8986/9096 (98.79%)\n",
            "\n",
            "Test: Average loss: 0.0193, Accuracy: 7157/7200 (99.40%)\n",
            "\n",
            "Experiment:  2\n",
            "1\n"
          ]
        },
        {
          "data": {
            "application/vnd.jupyter.widget-view+json": {
              "model_id": "4a9a293a78c64d76a103d13d873afd11",
              "version_major": 2,
              "version_minor": 0
            },
            "text/plain": [
              "  0%|          | 0/4245 [00:00<?, ?it/s]"
            ]
          },
          "metadata": {},
          "output_type": "display_data"
        },
        {
          "name": "stdout",
          "output_type": "stream",
          "text": [
            "Train: Average loss: 0.3422\n",
            "\n",
            "Test: Average loss: 0.1317, Accuracy: 8646/9096 (95.05%)\n",
            "\n",
            "2\n"
          ]
        },
        {
          "data": {
            "application/vnd.jupyter.widget-view+json": {
              "model_id": "bca97e7a3b8f40ac849991e5fd142c07",
              "version_major": 2,
              "version_minor": 0
            },
            "text/plain": [
              "  0%|          | 0/4245 [00:00<?, ?it/s]"
            ]
          },
          "metadata": {},
          "output_type": "display_data"
        },
        {
          "name": "stdout",
          "output_type": "stream",
          "text": [
            "Train: Average loss: 0.2320\n",
            "\n",
            "Test: Average loss: 0.0924, Accuracy: 8824/9096 (97.01%)\n",
            "\n",
            "3\n"
          ]
        },
        {
          "data": {
            "application/vnd.jupyter.widget-view+json": {
              "model_id": "9ad6e9d490014cbd9f3fcec855805dd8",
              "version_major": 2,
              "version_minor": 0
            },
            "text/plain": [
              "  0%|          | 0/4245 [00:00<?, ?it/s]"
            ]
          },
          "metadata": {},
          "output_type": "display_data"
        },
        {
          "name": "stdout",
          "output_type": "stream",
          "text": [
            "Train: Average loss: 0.1669\n",
            "\n",
            "Test: Average loss: 0.1251, Accuracy: 8758/9096 (96.28%)\n",
            "\n",
            "4\n"
          ]
        },
        {
          "data": {
            "application/vnd.jupyter.widget-view+json": {
              "model_id": "98af20373398482eaee405464d680db4",
              "version_major": 2,
              "version_minor": 0
            },
            "text/plain": [
              "  0%|          | 0/4245 [00:00<?, ?it/s]"
            ]
          },
          "metadata": {},
          "output_type": "display_data"
        },
        {
          "name": "stdout",
          "output_type": "stream",
          "text": [
            "Train: Average loss: 0.1330\n",
            "\n",
            "Test: Average loss: 0.2671, Accuracy: 8057/9096 (88.58%)\n",
            "\n",
            "5\n"
          ]
        },
        {
          "data": {
            "application/vnd.jupyter.widget-view+json": {
              "model_id": "50f3ce5cae10485eb1d1aaea8b35bcfc",
              "version_major": 2,
              "version_minor": 0
            },
            "text/plain": [
              "  0%|          | 0/4245 [00:00<?, ?it/s]"
            ]
          },
          "metadata": {},
          "output_type": "display_data"
        },
        {
          "name": "stdout",
          "output_type": "stream",
          "text": [
            "Train: Average loss: 0.1032\n",
            "\n",
            "Test: Average loss: 0.0619, Accuracy: 8920/9096 (98.07%)\n",
            "\n",
            "6\n"
          ]
        },
        {
          "data": {
            "application/vnd.jupyter.widget-view+json": {
              "model_id": "014422a0623143e3bba0315b507035be",
              "version_major": 2,
              "version_minor": 0
            },
            "text/plain": [
              "  0%|          | 0/4245 [00:00<?, ?it/s]"
            ]
          },
          "metadata": {},
          "output_type": "display_data"
        },
        {
          "name": "stdout",
          "output_type": "stream",
          "text": [
            "Train: Average loss: 0.0948\n",
            "\n",
            "Test: Average loss: 0.0642, Accuracy: 8914/9096 (98.00%)\n",
            "\n",
            "7\n"
          ]
        },
        {
          "data": {
            "application/vnd.jupyter.widget-view+json": {
              "model_id": "ac290a2bb90849648da5ba167ee436ac",
              "version_major": 2,
              "version_minor": 0
            },
            "text/plain": [
              "  0%|          | 0/4245 [00:00<?, ?it/s]"
            ]
          },
          "metadata": {},
          "output_type": "display_data"
        },
        {
          "name": "stdout",
          "output_type": "stream",
          "text": [
            "Train: Average loss: 0.0843\n",
            "\n",
            "Test: Average loss: 0.0541, Accuracy: 8940/9096 (98.28%)\n",
            "\n",
            "8\n"
          ]
        },
        {
          "data": {
            "application/vnd.jupyter.widget-view+json": {
              "model_id": "943cc148ca9d4e54943ed1a8b2049e51",
              "version_major": 2,
              "version_minor": 0
            },
            "text/plain": [
              "  0%|          | 0/4245 [00:00<?, ?it/s]"
            ]
          },
          "metadata": {},
          "output_type": "display_data"
        },
        {
          "name": "stdout",
          "output_type": "stream",
          "text": [
            "Train: Average loss: 0.0741\n",
            "\n",
            "Test: Average loss: 0.0568, Accuracy: 8928/9096 (98.15%)\n",
            "\n",
            "9\n"
          ]
        },
        {
          "data": {
            "application/vnd.jupyter.widget-view+json": {
              "model_id": "26cfb5a2bced4432b150e7f86de74734",
              "version_major": 2,
              "version_minor": 0
            },
            "text/plain": [
              "  0%|          | 0/4245 [00:00<?, ?it/s]"
            ]
          },
          "metadata": {},
          "output_type": "display_data"
        },
        {
          "name": "stdout",
          "output_type": "stream",
          "text": [
            "Train: Average loss: 0.0686\n",
            "\n",
            "Test: Average loss: 0.0479, Accuracy: 8934/9096 (98.22%)\n",
            "\n",
            "10\n"
          ]
        },
        {
          "data": {
            "application/vnd.jupyter.widget-view+json": {
              "model_id": "66459c25a6084f1e87b8ff072e849544",
              "version_major": 2,
              "version_minor": 0
            },
            "text/plain": [
              "  0%|          | 0/4245 [00:00<?, ?it/s]"
            ]
          },
          "metadata": {},
          "output_type": "display_data"
        },
        {
          "name": "stdout",
          "output_type": "stream",
          "text": [
            "Train: Average loss: 0.0598\n",
            "\n",
            "Test: Average loss: 0.4495, Accuracy: 8074/9096 (88.76%)\n",
            "\n",
            "11\n"
          ]
        },
        {
          "data": {
            "application/vnd.jupyter.widget-view+json": {
              "model_id": "bd8fc255665641378ace4b97486ddf60",
              "version_major": 2,
              "version_minor": 0
            },
            "text/plain": [
              "  0%|          | 0/4245 [00:00<?, ?it/s]"
            ]
          },
          "metadata": {},
          "output_type": "display_data"
        },
        {
          "name": "stdout",
          "output_type": "stream",
          "text": [
            "Train: Average loss: 0.0519\n",
            "\n",
            "Test: Average loss: 0.1263, Accuracy: 8707/9096 (95.72%)\n",
            "\n",
            "12\n"
          ]
        },
        {
          "data": {
            "application/vnd.jupyter.widget-view+json": {
              "model_id": "4da036e5f13c4e1c8c6bb3398c56685b",
              "version_major": 2,
              "version_minor": 0
            },
            "text/plain": [
              "  0%|          | 0/4245 [00:00<?, ?it/s]"
            ]
          },
          "metadata": {},
          "output_type": "display_data"
        },
        {
          "name": "stdout",
          "output_type": "stream",
          "text": [
            "Train: Average loss: 0.0627\n",
            "\n",
            "Test: Average loss: 0.0445, Accuracy: 8956/9096 (98.46%)\n",
            "\n",
            "13\n"
          ]
        },
        {
          "data": {
            "application/vnd.jupyter.widget-view+json": {
              "model_id": "d18b35c6a9bc44ebac9048b26896fcc4",
              "version_major": 2,
              "version_minor": 0
            },
            "text/plain": [
              "  0%|          | 0/4245 [00:00<?, ?it/s]"
            ]
          },
          "metadata": {},
          "output_type": "display_data"
        },
        {
          "name": "stdout",
          "output_type": "stream",
          "text": [
            "Train: Average loss: 0.0438\n",
            "\n",
            "Test: Average loss: 0.0884, Accuracy: 8834/9096 (97.12%)\n",
            "\n",
            "14\n"
          ]
        },
        {
          "data": {
            "application/vnd.jupyter.widget-view+json": {
              "model_id": "d6d9c13509f9455f8a5b9245b053e77d",
              "version_major": 2,
              "version_minor": 0
            },
            "text/plain": [
              "  0%|          | 0/4245 [00:00<?, ?it/s]"
            ]
          },
          "metadata": {},
          "output_type": "display_data"
        },
        {
          "name": "stdout",
          "output_type": "stream",
          "text": [
            "Train: Average loss: 0.0381\n",
            "\n",
            "Test: Average loss: 0.0354, Accuracy: 8982/9096 (98.75%)\n",
            "\n",
            "15\n"
          ]
        },
        {
          "data": {
            "application/vnd.jupyter.widget-view+json": {
              "model_id": "a2bc311f1f8d40cb9c80c8b05de9ca89",
              "version_major": 2,
              "version_minor": 0
            },
            "text/plain": [
              "  0%|          | 0/4245 [00:00<?, ?it/s]"
            ]
          },
          "metadata": {},
          "output_type": "display_data"
        },
        {
          "name": "stdout",
          "output_type": "stream",
          "text": [
            "Train: Average loss: 0.0385\n",
            "\n",
            "Test: Average loss: 0.0356, Accuracy: 8985/9096 (98.78%)\n",
            "\n",
            "16\n"
          ]
        },
        {
          "data": {
            "application/vnd.jupyter.widget-view+json": {
              "model_id": "fa9edf35c1c542818a9d32c7419e777e",
              "version_major": 2,
              "version_minor": 0
            },
            "text/plain": [
              "  0%|          | 0/4245 [00:00<?, ?it/s]"
            ]
          },
          "metadata": {},
          "output_type": "display_data"
        },
        {
          "name": "stdout",
          "output_type": "stream",
          "text": [
            "Train: Average loss: 0.0370\n",
            "\n",
            "Test: Average loss: 0.0924, Accuracy: 8834/9096 (97.12%)\n",
            "\n",
            "17\n"
          ]
        },
        {
          "data": {
            "application/vnd.jupyter.widget-view+json": {
              "model_id": "b0d35e52e8bb430fa003be8ed98668f6",
              "version_major": 2,
              "version_minor": 0
            },
            "text/plain": [
              "  0%|          | 0/4245 [00:00<?, ?it/s]"
            ]
          },
          "metadata": {},
          "output_type": "display_data"
        },
        {
          "name": "stdout",
          "output_type": "stream",
          "text": [
            "Train: Average loss: 0.0301\n",
            "\n",
            "Test: Average loss: 0.0619, Accuracy: 8914/9096 (98.00%)\n",
            "\n",
            "18\n"
          ]
        },
        {
          "data": {
            "application/vnd.jupyter.widget-view+json": {
              "model_id": "1fa2cd5718f945f19cb016e3ccf88ff4",
              "version_major": 2,
              "version_minor": 0
            },
            "text/plain": [
              "  0%|          | 0/4245 [00:00<?, ?it/s]"
            ]
          },
          "metadata": {},
          "output_type": "display_data"
        },
        {
          "name": "stdout",
          "output_type": "stream",
          "text": [
            "Train: Average loss: 0.0279\n",
            "\n",
            "Test: Average loss: 0.0361, Accuracy: 8989/9096 (98.82%)\n",
            "\n",
            "19\n"
          ]
        },
        {
          "data": {
            "application/vnd.jupyter.widget-view+json": {
              "model_id": "a56c3e8f08ef47a7bec035c57f4b26c5",
              "version_major": 2,
              "version_minor": 0
            },
            "text/plain": [
              "  0%|          | 0/4245 [00:00<?, ?it/s]"
            ]
          },
          "metadata": {},
          "output_type": "display_data"
        },
        {
          "name": "stdout",
          "output_type": "stream",
          "text": [
            "Train: Average loss: 0.0296\n",
            "\n",
            "Test: Average loss: 0.0483, Accuracy: 8935/9096 (98.23%)\n",
            "\n",
            "20\n"
          ]
        },
        {
          "data": {
            "application/vnd.jupyter.widget-view+json": {
              "model_id": "e3a3fc321e0742d984f14667dce472e4",
              "version_major": 2,
              "version_minor": 0
            },
            "text/plain": [
              "  0%|          | 0/4245 [00:00<?, ?it/s]"
            ]
          },
          "metadata": {},
          "output_type": "display_data"
        },
        {
          "name": "stdout",
          "output_type": "stream",
          "text": [
            "Train: Average loss: 0.0231\n",
            "\n",
            "Test: Average loss: 0.0458, Accuracy: 8951/9096 (98.41%)\n",
            "\n",
            "21\n"
          ]
        },
        {
          "data": {
            "application/vnd.jupyter.widget-view+json": {
              "model_id": "18e1b33741a648a7a9982a1e40bc8d90",
              "version_major": 2,
              "version_minor": 0
            },
            "text/plain": [
              "  0%|          | 0/4245 [00:00<?, ?it/s]"
            ]
          },
          "metadata": {},
          "output_type": "display_data"
        },
        {
          "name": "stdout",
          "output_type": "stream",
          "text": [
            "Train: Average loss: 0.0210\n",
            "\n",
            "Test: Average loss: 0.0492, Accuracy: 8954/9096 (98.44%)\n",
            "\n",
            "22\n"
          ]
        },
        {
          "data": {
            "application/vnd.jupyter.widget-view+json": {
              "model_id": "c96da25684ad457d9c74bb699de6ca83",
              "version_major": 2,
              "version_minor": 0
            },
            "text/plain": [
              "  0%|          | 0/4245 [00:00<?, ?it/s]"
            ]
          },
          "metadata": {},
          "output_type": "display_data"
        },
        {
          "name": "stdout",
          "output_type": "stream",
          "text": [
            "Train: Average loss: 0.0223\n",
            "\n",
            "Test: Average loss: 0.0403, Accuracy: 8975/9096 (98.67%)\n",
            "\n",
            "23\n"
          ]
        },
        {
          "data": {
            "application/vnd.jupyter.widget-view+json": {
              "model_id": "079b3cb6408245fc905b83325d15f9f4",
              "version_major": 2,
              "version_minor": 0
            },
            "text/plain": [
              "  0%|          | 0/4245 [00:00<?, ?it/s]"
            ]
          },
          "metadata": {},
          "output_type": "display_data"
        },
        {
          "name": "stdout",
          "output_type": "stream",
          "text": [
            "Train: Average loss: 0.0204\n",
            "\n",
            "Test: Average loss: 0.0741, Accuracy: 8878/9096 (97.60%)\n",
            "\n",
            "24\n"
          ]
        },
        {
          "data": {
            "application/vnd.jupyter.widget-view+json": {
              "model_id": "3643bf4eb7224c37a9e7a0fd54f5f3e0",
              "version_major": 2,
              "version_minor": 0
            },
            "text/plain": [
              "  0%|          | 0/4245 [00:00<?, ?it/s]"
            ]
          },
          "metadata": {},
          "output_type": "display_data"
        },
        {
          "name": "stdout",
          "output_type": "stream",
          "text": [
            "Train: Average loss: 0.0167\n",
            "\n",
            "Test: Average loss: 0.0727, Accuracy: 8879/9096 (97.61%)\n",
            "\n",
            "25\n"
          ]
        },
        {
          "data": {
            "application/vnd.jupyter.widget-view+json": {
              "model_id": "0afbacfe64af4773becb347ae2fc3310",
              "version_major": 2,
              "version_minor": 0
            },
            "text/plain": [
              "  0%|          | 0/4245 [00:00<?, ?it/s]"
            ]
          },
          "metadata": {},
          "output_type": "display_data"
        },
        {
          "name": "stdout",
          "output_type": "stream",
          "text": [
            "Train: Average loss: 0.0144\n",
            "\n",
            "Test: Average loss: 0.0493, Accuracy: 8962/9096 (98.53%)\n",
            "\n",
            "26\n"
          ]
        },
        {
          "data": {
            "application/vnd.jupyter.widget-view+json": {
              "model_id": "2e61773784d14de2a5b254d549f8b026",
              "version_major": 2,
              "version_minor": 0
            },
            "text/plain": [
              "  0%|          | 0/4245 [00:00<?, ?it/s]"
            ]
          },
          "metadata": {},
          "output_type": "display_data"
        },
        {
          "name": "stdout",
          "output_type": "stream",
          "text": [
            "Train: Average loss: 0.0136\n",
            "\n",
            "Test: Average loss: 0.0354, Accuracy: 9006/9096 (99.01%)\n",
            "\n",
            "27\n"
          ]
        },
        {
          "data": {
            "application/vnd.jupyter.widget-view+json": {
              "model_id": "a174e03863a24c14bb475f4a357f7cf7",
              "version_major": 2,
              "version_minor": 0
            },
            "text/plain": [
              "  0%|          | 0/4245 [00:00<?, ?it/s]"
            ]
          },
          "metadata": {},
          "output_type": "display_data"
        },
        {
          "name": "stdout",
          "output_type": "stream",
          "text": [
            "Train: Average loss: 0.0171\n",
            "\n",
            "Test: Average loss: 0.0406, Accuracy: 8981/9096 (98.74%)\n",
            "\n",
            "28\n"
          ]
        },
        {
          "data": {
            "application/vnd.jupyter.widget-view+json": {
              "model_id": "3d57378d901a4c8c93bb496748c1ada6",
              "version_major": 2,
              "version_minor": 0
            },
            "text/plain": [
              "  0%|          | 0/4245 [00:00<?, ?it/s]"
            ]
          },
          "metadata": {},
          "output_type": "display_data"
        },
        {
          "name": "stdout",
          "output_type": "stream",
          "text": [
            "Train: Average loss: 0.0186\n",
            "\n",
            "Test: Average loss: 0.0349, Accuracy: 9000/9096 (98.94%)\n",
            "\n",
            "29\n"
          ]
        },
        {
          "data": {
            "application/vnd.jupyter.widget-view+json": {
              "model_id": "2df638974fad416eb84f387b9bd832ef",
              "version_major": 2,
              "version_minor": 0
            },
            "text/plain": [
              "  0%|          | 0/4245 [00:00<?, ?it/s]"
            ]
          },
          "metadata": {},
          "output_type": "display_data"
        },
        {
          "name": "stdout",
          "output_type": "stream",
          "text": [
            "Train: Average loss: 0.0130\n",
            "\n",
            "Test: Average loss: 0.0482, Accuracy: 8974/9096 (98.66%)\n",
            "\n",
            "30\n"
          ]
        },
        {
          "data": {
            "application/vnd.jupyter.widget-view+json": {
              "model_id": "0de597eb4c8447c09ba7ba2c33b02d67",
              "version_major": 2,
              "version_minor": 0
            },
            "text/plain": [
              "  0%|          | 0/4245 [00:00<?, ?it/s]"
            ]
          },
          "metadata": {},
          "output_type": "display_data"
        },
        {
          "name": "stdout",
          "output_type": "stream",
          "text": [
            "Train: Average loss: 0.0095\n",
            "\n",
            "Test: Average loss: 0.0477, Accuracy: 8961/9096 (98.52%)\n",
            "\n",
            "Test: Average loss: 0.0256, Accuracy: 7148/7200 (99.28%)\n",
            "\n",
            "Experiment:  3\n",
            "1\n"
          ]
        },
        {
          "data": {
            "application/vnd.jupyter.widget-view+json": {
              "model_id": "f29351825704400087f1ee809272a2d0",
              "version_major": 2,
              "version_minor": 0
            },
            "text/plain": [
              "  0%|          | 0/4245 [00:00<?, ?it/s]"
            ]
          },
          "metadata": {},
          "output_type": "display_data"
        },
        {
          "name": "stdout",
          "output_type": "stream",
          "text": [
            "Train: Average loss: 0.3579\n",
            "\n",
            "Test: Average loss: 0.1269, Accuracy: 8703/9096 (95.68%)\n",
            "\n",
            "2\n"
          ]
        },
        {
          "data": {
            "application/vnd.jupyter.widget-view+json": {
              "model_id": "d83343714b2c4407845ff8981453b056",
              "version_major": 2,
              "version_minor": 0
            },
            "text/plain": [
              "  0%|          | 0/4245 [00:00<?, ?it/s]"
            ]
          },
          "metadata": {},
          "output_type": "display_data"
        },
        {
          "name": "stdout",
          "output_type": "stream",
          "text": [
            "Train: Average loss: 0.2346\n",
            "\n",
            "Test: Average loss: 0.0879, Accuracy: 8799/9096 (96.73%)\n",
            "\n",
            "3\n"
          ]
        },
        {
          "data": {
            "application/vnd.jupyter.widget-view+json": {
              "model_id": "059fc948c21b4f4398d7c786337f48b5",
              "version_major": 2,
              "version_minor": 0
            },
            "text/plain": [
              "  0%|          | 0/4245 [00:00<?, ?it/s]"
            ]
          },
          "metadata": {},
          "output_type": "display_data"
        },
        {
          "name": "stdout",
          "output_type": "stream",
          "text": [
            "Train: Average loss: 0.1795\n",
            "\n",
            "Test: Average loss: 0.1344, Accuracy: 8592/9096 (94.46%)\n",
            "\n",
            "4\n"
          ]
        },
        {
          "data": {
            "application/vnd.jupyter.widget-view+json": {
              "model_id": "56f17666c99b433a973220d4bdb8ba06",
              "version_major": 2,
              "version_minor": 0
            },
            "text/plain": [
              "  0%|          | 0/4245 [00:00<?, ?it/s]"
            ]
          },
          "metadata": {},
          "output_type": "display_data"
        },
        {
          "name": "stdout",
          "output_type": "stream",
          "text": [
            "Train: Average loss: 0.1434\n",
            "\n",
            "Test: Average loss: 0.1265, Accuracy: 8735/9096 (96.03%)\n",
            "\n",
            "5\n"
          ]
        },
        {
          "data": {
            "application/vnd.jupyter.widget-view+json": {
              "model_id": "ca3cab60cbb741eb9df0df54ac468738",
              "version_major": 2,
              "version_minor": 0
            },
            "text/plain": [
              "  0%|          | 0/4245 [00:00<?, ?it/s]"
            ]
          },
          "metadata": {},
          "output_type": "display_data"
        },
        {
          "name": "stdout",
          "output_type": "stream",
          "text": [
            "Train: Average loss: 0.1132\n",
            "\n",
            "Test: Average loss: 0.1447, Accuracy: 8711/9096 (95.77%)\n",
            "\n",
            "6\n"
          ]
        },
        {
          "data": {
            "application/vnd.jupyter.widget-view+json": {
              "model_id": "c28eddcddd4b4be2bdc5a2ac3d4d9346",
              "version_major": 2,
              "version_minor": 0
            },
            "text/plain": [
              "  0%|          | 0/4245 [00:00<?, ?it/s]"
            ]
          },
          "metadata": {},
          "output_type": "display_data"
        },
        {
          "name": "stdout",
          "output_type": "stream",
          "text": [
            "Train: Average loss: 0.0972\n",
            "\n",
            "Test: Average loss: 0.1104, Accuracy: 8859/9096 (97.39%)\n",
            "\n",
            "7\n"
          ]
        },
        {
          "data": {
            "application/vnd.jupyter.widget-view+json": {
              "model_id": "e6965f16966849d1babc5133a1120a9d",
              "version_major": 2,
              "version_minor": 0
            },
            "text/plain": [
              "  0%|          | 0/4245 [00:00<?, ?it/s]"
            ]
          },
          "metadata": {},
          "output_type": "display_data"
        },
        {
          "name": "stdout",
          "output_type": "stream",
          "text": [
            "Train: Average loss: 0.0853\n",
            "\n",
            "Test: Average loss: 0.0594, Accuracy: 8916/9096 (98.02%)\n",
            "\n",
            "8\n"
          ]
        },
        {
          "data": {
            "application/vnd.jupyter.widget-view+json": {
              "model_id": "da37903f9ed44e8a9bc04237ea5d6ac9",
              "version_major": 2,
              "version_minor": 0
            },
            "text/plain": [
              "  0%|          | 0/4245 [00:00<?, ?it/s]"
            ]
          },
          "metadata": {},
          "output_type": "display_data"
        },
        {
          "name": "stdout",
          "output_type": "stream",
          "text": [
            "Train: Average loss: 0.0713\n",
            "\n",
            "Test: Average loss: 0.1409, Accuracy: 8758/9096 (96.28%)\n",
            "\n",
            "9\n"
          ]
        },
        {
          "data": {
            "application/vnd.jupyter.widget-view+json": {
              "model_id": "b8f5897938834c259bf1a24d76f0c1ab",
              "version_major": 2,
              "version_minor": 0
            },
            "text/plain": [
              "  0%|          | 0/4245 [00:00<?, ?it/s]"
            ]
          },
          "metadata": {},
          "output_type": "display_data"
        },
        {
          "name": "stdout",
          "output_type": "stream",
          "text": [
            "Train: Average loss: 0.0640\n",
            "\n",
            "Test: Average loss: 0.0458, Accuracy: 8965/9096 (98.56%)\n",
            "\n",
            "10\n"
          ]
        },
        {
          "data": {
            "application/vnd.jupyter.widget-view+json": {
              "model_id": "c4fd281b81aa44018fc3f931b1e25dba",
              "version_major": 2,
              "version_minor": 0
            },
            "text/plain": [
              "  0%|          | 0/4245 [00:00<?, ?it/s]"
            ]
          },
          "metadata": {},
          "output_type": "display_data"
        },
        {
          "name": "stdout",
          "output_type": "stream",
          "text": [
            "Train: Average loss: 0.0637\n",
            "\n",
            "Test: Average loss: 0.0483, Accuracy: 8951/9096 (98.41%)\n",
            "\n",
            "11\n"
          ]
        },
        {
          "data": {
            "application/vnd.jupyter.widget-view+json": {
              "model_id": "c61ffa144d204c3a8c8e05912c767442",
              "version_major": 2,
              "version_minor": 0
            },
            "text/plain": [
              "  0%|          | 0/4245 [00:00<?, ?it/s]"
            ]
          },
          "metadata": {},
          "output_type": "display_data"
        },
        {
          "name": "stdout",
          "output_type": "stream",
          "text": [
            "Train: Average loss: 0.0582\n",
            "\n",
            "Test: Average loss: 0.1824, Accuracy: 8514/9096 (93.60%)\n",
            "\n",
            "12\n"
          ]
        },
        {
          "data": {
            "application/vnd.jupyter.widget-view+json": {
              "model_id": "302c085d2377495a99a3869d2f9b32f5",
              "version_major": 2,
              "version_minor": 0
            },
            "text/plain": [
              "  0%|          | 0/4245 [00:00<?, ?it/s]"
            ]
          },
          "metadata": {},
          "output_type": "display_data"
        },
        {
          "name": "stdout",
          "output_type": "stream",
          "text": [
            "Train: Average loss: 0.0538\n",
            "\n",
            "Test: Average loss: 0.1120, Accuracy: 8787/9096 (96.60%)\n",
            "\n",
            "13\n"
          ]
        },
        {
          "data": {
            "application/vnd.jupyter.widget-view+json": {
              "model_id": "51d356422de3400481df21385e3c5eda",
              "version_major": 2,
              "version_minor": 0
            },
            "text/plain": [
              "  0%|          | 0/4245 [00:00<?, ?it/s]"
            ]
          },
          "metadata": {},
          "output_type": "display_data"
        },
        {
          "name": "stdout",
          "output_type": "stream",
          "text": [
            "Train: Average loss: 0.0548\n",
            "\n",
            "Test: Average loss: 0.0417, Accuracy: 8976/9096 (98.68%)\n",
            "\n",
            "14\n"
          ]
        },
        {
          "data": {
            "application/vnd.jupyter.widget-view+json": {
              "model_id": "2beb9e0a712a4459a60b778689febf33",
              "version_major": 2,
              "version_minor": 0
            },
            "text/plain": [
              "  0%|          | 0/4245 [00:00<?, ?it/s]"
            ]
          },
          "metadata": {},
          "output_type": "display_data"
        },
        {
          "name": "stdout",
          "output_type": "stream",
          "text": [
            "Train: Average loss: 0.0520\n",
            "\n",
            "Test: Average loss: 0.0396, Accuracy: 8968/9096 (98.59%)\n",
            "\n",
            "15\n"
          ]
        },
        {
          "data": {
            "application/vnd.jupyter.widget-view+json": {
              "model_id": "5bf7e9fced9a4d1eb03c7d752afef4d0",
              "version_major": 2,
              "version_minor": 0
            },
            "text/plain": [
              "  0%|          | 0/4245 [00:00<?, ?it/s]"
            ]
          },
          "metadata": {},
          "output_type": "display_data"
        },
        {
          "name": "stdout",
          "output_type": "stream",
          "text": [
            "Train: Average loss: 0.0418\n",
            "\n",
            "Test: Average loss: 0.0461, Accuracy: 8952/9096 (98.42%)\n",
            "\n",
            "16\n"
          ]
        },
        {
          "data": {
            "application/vnd.jupyter.widget-view+json": {
              "model_id": "7e67ff7757a943b38b04d7adc1c241d0",
              "version_major": 2,
              "version_minor": 0
            },
            "text/plain": [
              "  0%|          | 0/4245 [00:00<?, ?it/s]"
            ]
          },
          "metadata": {},
          "output_type": "display_data"
        },
        {
          "name": "stdout",
          "output_type": "stream",
          "text": [
            "Train: Average loss: 0.0398\n",
            "\n",
            "Test: Average loss: 0.0641, Accuracy: 8906/9096 (97.91%)\n",
            "\n",
            "17\n"
          ]
        },
        {
          "data": {
            "application/vnd.jupyter.widget-view+json": {
              "model_id": "a140a399f7b54d18b5b7435b3ebd0d59",
              "version_major": 2,
              "version_minor": 0
            },
            "text/plain": [
              "  0%|          | 0/4245 [00:00<?, ?it/s]"
            ]
          },
          "metadata": {},
          "output_type": "display_data"
        },
        {
          "name": "stdout",
          "output_type": "stream",
          "text": [
            "Train: Average loss: 0.0345\n",
            "\n",
            "Test: Average loss: 0.0450, Accuracy: 8964/9096 (98.55%)\n",
            "\n",
            "18\n"
          ]
        },
        {
          "data": {
            "application/vnd.jupyter.widget-view+json": {
              "model_id": "054db49d19c749c6b3942d6569f088cb",
              "version_major": 2,
              "version_minor": 0
            },
            "text/plain": [
              "  0%|          | 0/4245 [00:00<?, ?it/s]"
            ]
          },
          "metadata": {},
          "output_type": "display_data"
        },
        {
          "name": "stdout",
          "output_type": "stream",
          "text": [
            "Train: Average loss: 0.0349\n",
            "\n",
            "Test: Average loss: 0.0347, Accuracy: 8998/9096 (98.92%)\n",
            "\n",
            "19\n"
          ]
        },
        {
          "data": {
            "application/vnd.jupyter.widget-view+json": {
              "model_id": "256f89838850483189863ecc5718a052",
              "version_major": 2,
              "version_minor": 0
            },
            "text/plain": [
              "  0%|          | 0/4245 [00:00<?, ?it/s]"
            ]
          },
          "metadata": {},
          "output_type": "display_data"
        },
        {
          "name": "stdout",
          "output_type": "stream",
          "text": [
            "Train: Average loss: 0.0270\n",
            "\n",
            "Test: Average loss: 0.0620, Accuracy: 8896/9096 (97.80%)\n",
            "\n",
            "20\n"
          ]
        },
        {
          "data": {
            "application/vnd.jupyter.widget-view+json": {
              "model_id": "b40b3d8fa4e243a1a2d5652b302d0cfa",
              "version_major": 2,
              "version_minor": 0
            },
            "text/plain": [
              "  0%|          | 0/4245 [00:00<?, ?it/s]"
            ]
          },
          "metadata": {},
          "output_type": "display_data"
        },
        {
          "name": "stdout",
          "output_type": "stream",
          "text": [
            "Train: Average loss: 0.0266\n",
            "\n",
            "Test: Average loss: 0.0502, Accuracy: 8941/9096 (98.30%)\n",
            "\n",
            "21\n"
          ]
        },
        {
          "data": {
            "application/vnd.jupyter.widget-view+json": {
              "model_id": "0e02c836aaee4a1297626810aec78006",
              "version_major": 2,
              "version_minor": 0
            },
            "text/plain": [
              "  0%|          | 0/4245 [00:00<?, ?it/s]"
            ]
          },
          "metadata": {},
          "output_type": "display_data"
        },
        {
          "name": "stdout",
          "output_type": "stream",
          "text": [
            "Train: Average loss: 0.0275\n",
            "\n",
            "Test: Average loss: 0.0466, Accuracy: 8950/9096 (98.39%)\n",
            "\n",
            "22\n"
          ]
        },
        {
          "data": {
            "application/vnd.jupyter.widget-view+json": {
              "model_id": "d2ebe5cdeb174d28a5fd3fad806aed13",
              "version_major": 2,
              "version_minor": 0
            },
            "text/plain": [
              "  0%|          | 0/4245 [00:00<?, ?it/s]"
            ]
          },
          "metadata": {},
          "output_type": "display_data"
        },
        {
          "name": "stdout",
          "output_type": "stream",
          "text": [
            "Train: Average loss: 0.0240\n",
            "\n",
            "Test: Average loss: 0.0779, Accuracy: 8889/9096 (97.72%)\n",
            "\n",
            "23\n"
          ]
        },
        {
          "data": {
            "application/vnd.jupyter.widget-view+json": {
              "model_id": "2f75f5b283b8493f9e03d57d8d8a1b18",
              "version_major": 2,
              "version_minor": 0
            },
            "text/plain": [
              "  0%|          | 0/4245 [00:00<?, ?it/s]"
            ]
          },
          "metadata": {},
          "output_type": "display_data"
        },
        {
          "name": "stdout",
          "output_type": "stream",
          "text": [
            "Train: Average loss: 0.0228\n",
            "\n",
            "Test: Average loss: 0.0542, Accuracy: 8958/9096 (98.48%)\n",
            "\n",
            "24\n"
          ]
        },
        {
          "data": {
            "application/vnd.jupyter.widget-view+json": {
              "model_id": "d3dbaa9f6e8544a58eec5865ea696aec",
              "version_major": 2,
              "version_minor": 0
            },
            "text/plain": [
              "  0%|          | 0/4245 [00:00<?, ?it/s]"
            ]
          },
          "metadata": {},
          "output_type": "display_data"
        },
        {
          "name": "stdout",
          "output_type": "stream",
          "text": [
            "Train: Average loss: 0.0266\n",
            "\n",
            "Test: Average loss: 0.0497, Accuracy: 8957/9096 (98.47%)\n",
            "\n",
            "25\n"
          ]
        },
        {
          "data": {
            "application/vnd.jupyter.widget-view+json": {
              "model_id": "13432d4a7ca348998ecc5fdbbb198114",
              "version_major": 2,
              "version_minor": 0
            },
            "text/plain": [
              "  0%|          | 0/4245 [00:00<?, ?it/s]"
            ]
          },
          "metadata": {},
          "output_type": "display_data"
        },
        {
          "name": "stdout",
          "output_type": "stream",
          "text": [
            "Train: Average loss: 0.0207\n",
            "\n",
            "Test: Average loss: 0.1733, Accuracy: 8603/9096 (94.58%)\n",
            "\n",
            "26\n"
          ]
        },
        {
          "data": {
            "application/vnd.jupyter.widget-view+json": {
              "model_id": "e2efea6504354d3282ee8bd6b103aa13",
              "version_major": 2,
              "version_minor": 0
            },
            "text/plain": [
              "  0%|          | 0/4245 [00:00<?, ?it/s]"
            ]
          },
          "metadata": {},
          "output_type": "display_data"
        },
        {
          "name": "stdout",
          "output_type": "stream",
          "text": [
            "Train: Average loss: 0.0181\n",
            "\n",
            "Test: Average loss: 0.0437, Accuracy: 8976/9096 (98.68%)\n",
            "\n",
            "27\n"
          ]
        },
        {
          "data": {
            "application/vnd.jupyter.widget-view+json": {
              "model_id": "82522f64d34a4ee188e4dfaacdde685e",
              "version_major": 2,
              "version_minor": 0
            },
            "text/plain": [
              "  0%|          | 0/4245 [00:00<?, ?it/s]"
            ]
          },
          "metadata": {},
          "output_type": "display_data"
        },
        {
          "name": "stdout",
          "output_type": "stream",
          "text": [
            "Train: Average loss: 0.0225\n",
            "\n",
            "Test: Average loss: 0.1780, Accuracy: 8816/9096 (96.92%)\n",
            "\n",
            "28\n"
          ]
        },
        {
          "data": {
            "application/vnd.jupyter.widget-view+json": {
              "model_id": "ae46dad6562341e9aecccf7354ff00c4",
              "version_major": 2,
              "version_minor": 0
            },
            "text/plain": [
              "  0%|          | 0/4245 [00:00<?, ?it/s]"
            ]
          },
          "metadata": {},
          "output_type": "display_data"
        },
        {
          "name": "stdout",
          "output_type": "stream",
          "text": [
            "Train: Average loss: 0.0163\n",
            "\n",
            "Test: Average loss: 0.0386, Accuracy: 8993/9096 (98.87%)\n",
            "\n",
            "29\n"
          ]
        },
        {
          "data": {
            "application/vnd.jupyter.widget-view+json": {
              "model_id": "97225600fdcc4bd8a8c7e6922b50148a",
              "version_major": 2,
              "version_minor": 0
            },
            "text/plain": [
              "  0%|          | 0/4245 [00:00<?, ?it/s]"
            ]
          },
          "metadata": {},
          "output_type": "display_data"
        },
        {
          "name": "stdout",
          "output_type": "stream",
          "text": [
            "Train: Average loss: 0.0118\n",
            "\n",
            "Test: Average loss: 0.0377, Accuracy: 8996/9096 (98.90%)\n",
            "\n",
            "30\n"
          ]
        },
        {
          "data": {
            "application/vnd.jupyter.widget-view+json": {
              "model_id": "13b7e7f482d94ba2b040830e49b6c248",
              "version_major": 2,
              "version_minor": 0
            },
            "text/plain": [
              "  0%|          | 0/4245 [00:00<?, ?it/s]"
            ]
          },
          "metadata": {},
          "output_type": "display_data"
        },
        {
          "name": "stdout",
          "output_type": "stream",
          "text": [
            "Train: Average loss: 0.0153\n",
            "\n",
            "Test: Average loss: 0.0666, Accuracy: 8920/9096 (98.07%)\n",
            "\n",
            "Test: Average loss: 0.0256, Accuracy: 7136/7200 (99.11%)\n",
            "\n",
            "Experiment:  4\n",
            "1\n"
          ]
        },
        {
          "data": {
            "application/vnd.jupyter.widget-view+json": {
              "model_id": "847cc0dfe9234901a89901c8e19401cd",
              "version_major": 2,
              "version_minor": 0
            },
            "text/plain": [
              "  0%|          | 0/4245 [00:00<?, ?it/s]"
            ]
          },
          "metadata": {},
          "output_type": "display_data"
        },
        {
          "name": "stdout",
          "output_type": "stream",
          "text": [
            "Train: Average loss: 0.3612\n",
            "\n",
            "Test: Average loss: 0.1681, Accuracy: 8584/9096 (94.37%)\n",
            "\n",
            "2\n"
          ]
        },
        {
          "data": {
            "application/vnd.jupyter.widget-view+json": {
              "model_id": "2667fcd1645b49eb80ad6c2fad68223a",
              "version_major": 2,
              "version_minor": 0
            },
            "text/plain": [
              "  0%|          | 0/4245 [00:00<?, ?it/s]"
            ]
          },
          "metadata": {},
          "output_type": "display_data"
        },
        {
          "name": "stdout",
          "output_type": "stream",
          "text": [
            "Train: Average loss: 0.2343\n",
            "\n",
            "Test: Average loss: 0.3230, Accuracy: 8109/9096 (89.15%)\n",
            "\n",
            "3\n"
          ]
        },
        {
          "data": {
            "application/vnd.jupyter.widget-view+json": {
              "model_id": "d7f3493bc87c4f47bf5153c824c1be34",
              "version_major": 2,
              "version_minor": 0
            },
            "text/plain": [
              "  0%|          | 0/4245 [00:00<?, ?it/s]"
            ]
          },
          "metadata": {},
          "output_type": "display_data"
        },
        {
          "name": "stdout",
          "output_type": "stream",
          "text": [
            "Train: Average loss: 0.1750\n",
            "\n",
            "Test: Average loss: 0.3197, Accuracy: 7924/9096 (87.12%)\n",
            "\n",
            "4\n"
          ]
        },
        {
          "data": {
            "application/vnd.jupyter.widget-view+json": {
              "model_id": "5bdbfc1e5db34599ad3c812c6e98da8d",
              "version_major": 2,
              "version_minor": 0
            },
            "text/plain": [
              "  0%|          | 0/4245 [00:00<?, ?it/s]"
            ]
          },
          "metadata": {},
          "output_type": "display_data"
        },
        {
          "name": "stdout",
          "output_type": "stream",
          "text": [
            "Train: Average loss: 0.1426\n",
            "\n",
            "Test: Average loss: 0.1130, Accuracy: 8730/9096 (95.98%)\n",
            "\n",
            "5\n"
          ]
        },
        {
          "data": {
            "application/vnd.jupyter.widget-view+json": {
              "model_id": "874dc387cf7647c59f2d5599285be673",
              "version_major": 2,
              "version_minor": 0
            },
            "text/plain": [
              "  0%|          | 0/4245 [00:00<?, ?it/s]"
            ]
          },
          "metadata": {},
          "output_type": "display_data"
        },
        {
          "name": "stdout",
          "output_type": "stream",
          "text": [
            "Train: Average loss: 0.1133\n",
            "\n",
            "Test: Average loss: 0.0722, Accuracy: 8902/9096 (97.87%)\n",
            "\n",
            "6\n"
          ]
        },
        {
          "data": {
            "application/vnd.jupyter.widget-view+json": {
              "model_id": "0e25932a9bb14175877de376e61f992e",
              "version_major": 2,
              "version_minor": 0
            },
            "text/plain": [
              "  0%|          | 0/4245 [00:00<?, ?it/s]"
            ]
          },
          "metadata": {},
          "output_type": "display_data"
        },
        {
          "name": "stdout",
          "output_type": "stream",
          "text": [
            "Train: Average loss: 0.0949\n",
            "\n",
            "Test: Average loss: 0.1030, Accuracy: 8755/9096 (96.25%)\n",
            "\n",
            "7\n"
          ]
        },
        {
          "data": {
            "application/vnd.jupyter.widget-view+json": {
              "model_id": "9639967f110b47dcabf33e2043bdff5a",
              "version_major": 2,
              "version_minor": 0
            },
            "text/plain": [
              "  0%|          | 0/4245 [00:00<?, ?it/s]"
            ]
          },
          "metadata": {},
          "output_type": "display_data"
        },
        {
          "name": "stdout",
          "output_type": "stream",
          "text": [
            "Train: Average loss: 0.0871\n",
            "\n",
            "Test: Average loss: 0.0737, Accuracy: 8863/9096 (97.44%)\n",
            "\n",
            "8\n"
          ]
        },
        {
          "data": {
            "application/vnd.jupyter.widget-view+json": {
              "model_id": "9f628e15d1d34085aaa0598f7b45a42f",
              "version_major": 2,
              "version_minor": 0
            },
            "text/plain": [
              "  0%|          | 0/4245 [00:00<?, ?it/s]"
            ]
          },
          "metadata": {},
          "output_type": "display_data"
        },
        {
          "name": "stdout",
          "output_type": "stream",
          "text": [
            "Train: Average loss: 0.0718\n",
            "\n",
            "Test: Average loss: 0.1178, Accuracy: 8805/9096 (96.80%)\n",
            "\n",
            "9\n"
          ]
        },
        {
          "data": {
            "application/vnd.jupyter.widget-view+json": {
              "model_id": "88672b72331e4bf9be856b03877ac20d",
              "version_major": 2,
              "version_minor": 0
            },
            "text/plain": [
              "  0%|          | 0/4245 [00:00<?, ?it/s]"
            ]
          },
          "metadata": {},
          "output_type": "display_data"
        },
        {
          "name": "stdout",
          "output_type": "stream",
          "text": [
            "Train: Average loss: 0.0723\n",
            "\n",
            "Test: Average loss: 0.0594, Accuracy: 8931/9096 (98.19%)\n",
            "\n",
            "10\n"
          ]
        },
        {
          "data": {
            "application/vnd.jupyter.widget-view+json": {
              "model_id": "1ff63d6eef604ca0adde61ddf1ec0ec6",
              "version_major": 2,
              "version_minor": 0
            },
            "text/plain": [
              "  0%|          | 0/4245 [00:00<?, ?it/s]"
            ]
          },
          "metadata": {},
          "output_type": "display_data"
        },
        {
          "name": "stdout",
          "output_type": "stream",
          "text": [
            "Train: Average loss: 0.0643\n",
            "\n",
            "Test: Average loss: 1.1018, Accuracy: 7475/9096 (82.18%)\n",
            "\n",
            "11\n"
          ]
        },
        {
          "data": {
            "application/vnd.jupyter.widget-view+json": {
              "model_id": "5c77bf2ac35b4cce905d30220e1c6a1a",
              "version_major": 2,
              "version_minor": 0
            },
            "text/plain": [
              "  0%|          | 0/4245 [00:00<?, ?it/s]"
            ]
          },
          "metadata": {},
          "output_type": "display_data"
        },
        {
          "name": "stdout",
          "output_type": "stream",
          "text": [
            "Train: Average loss: 0.0554\n",
            "\n",
            "Test: Average loss: 0.0550, Accuracy: 8911/9096 (97.97%)\n",
            "\n",
            "12\n"
          ]
        },
        {
          "data": {
            "application/vnd.jupyter.widget-view+json": {
              "model_id": "9ed57a393fd74515b3bbeb550578d082",
              "version_major": 2,
              "version_minor": 0
            },
            "text/plain": [
              "  0%|          | 0/4245 [00:00<?, ?it/s]"
            ]
          },
          "metadata": {},
          "output_type": "display_data"
        },
        {
          "name": "stdout",
          "output_type": "stream",
          "text": [
            "Train: Average loss: 0.0566\n",
            "\n",
            "Test: Average loss: 0.0558, Accuracy: 8938/9096 (98.26%)\n",
            "\n",
            "13\n"
          ]
        },
        {
          "data": {
            "application/vnd.jupyter.widget-view+json": {
              "model_id": "9e14badfe1da489f9a9de841d46bcc94",
              "version_major": 2,
              "version_minor": 0
            },
            "text/plain": [
              "  0%|          | 0/4245 [00:00<?, ?it/s]"
            ]
          },
          "metadata": {},
          "output_type": "display_data"
        },
        {
          "name": "stdout",
          "output_type": "stream",
          "text": [
            "Train: Average loss: 0.0471\n",
            "\n",
            "Test: Average loss: 0.0431, Accuracy: 8988/9096 (98.81%)\n",
            "\n",
            "14\n"
          ]
        },
        {
          "data": {
            "application/vnd.jupyter.widget-view+json": {
              "model_id": "bcbbcc6defb045c6bc280960eb31c6c7",
              "version_major": 2,
              "version_minor": 0
            },
            "text/plain": [
              "  0%|          | 0/4245 [00:00<?, ?it/s]"
            ]
          },
          "metadata": {},
          "output_type": "display_data"
        },
        {
          "name": "stdout",
          "output_type": "stream",
          "text": [
            "Train: Average loss: 0.0501\n",
            "\n",
            "Test: Average loss: 0.0847, Accuracy: 8802/9096 (96.77%)\n",
            "\n",
            "15\n"
          ]
        },
        {
          "data": {
            "application/vnd.jupyter.widget-view+json": {
              "model_id": "253bcb4c213943c69cdc2d7c47087411",
              "version_major": 2,
              "version_minor": 0
            },
            "text/plain": [
              "  0%|          | 0/4245 [00:00<?, ?it/s]"
            ]
          },
          "metadata": {},
          "output_type": "display_data"
        },
        {
          "name": "stdout",
          "output_type": "stream",
          "text": [
            "Train: Average loss: 0.0446\n",
            "\n",
            "Test: Average loss: 0.0398, Accuracy: 8988/9096 (98.81%)\n",
            "\n",
            "16\n"
          ]
        },
        {
          "data": {
            "application/vnd.jupyter.widget-view+json": {
              "model_id": "e2002254a71d40e38880fe18452e1d43",
              "version_major": 2,
              "version_minor": 0
            },
            "text/plain": [
              "  0%|          | 0/4245 [00:00<?, ?it/s]"
            ]
          },
          "metadata": {},
          "output_type": "display_data"
        },
        {
          "name": "stdout",
          "output_type": "stream",
          "text": [
            "Train: Average loss: 0.0361\n",
            "\n",
            "Test: Average loss: 0.0411, Accuracy: 8977/9096 (98.69%)\n",
            "\n",
            "17\n"
          ]
        },
        {
          "data": {
            "application/vnd.jupyter.widget-view+json": {
              "model_id": "59e60c3cf4034f069152234bca2243f4",
              "version_major": 2,
              "version_minor": 0
            },
            "text/plain": [
              "  0%|          | 0/4245 [00:00<?, ?it/s]"
            ]
          },
          "metadata": {},
          "output_type": "display_data"
        },
        {
          "name": "stdout",
          "output_type": "stream",
          "text": [
            "Train: Average loss: 0.0450\n",
            "\n",
            "Test: Average loss: 0.0538, Accuracy: 8914/9096 (98.00%)\n",
            "\n",
            "18\n"
          ]
        },
        {
          "data": {
            "application/vnd.jupyter.widget-view+json": {
              "model_id": "a97afbf683b74c618142e09731dde6d8",
              "version_major": 2,
              "version_minor": 0
            },
            "text/plain": [
              "  0%|          | 0/4245 [00:00<?, ?it/s]"
            ]
          },
          "metadata": {},
          "output_type": "display_data"
        },
        {
          "name": "stdout",
          "output_type": "stream",
          "text": [
            "Train: Average loss: 0.0333\n",
            "\n",
            "Test: Average loss: 0.0446, Accuracy: 8964/9096 (98.55%)\n",
            "\n",
            "19\n"
          ]
        },
        {
          "data": {
            "application/vnd.jupyter.widget-view+json": {
              "model_id": "87ae03182e024f3792075569c43b78c3",
              "version_major": 2,
              "version_minor": 0
            },
            "text/plain": [
              "  0%|          | 0/4245 [00:00<?, ?it/s]"
            ]
          },
          "metadata": {},
          "output_type": "display_data"
        },
        {
          "name": "stdout",
          "output_type": "stream",
          "text": [
            "Train: Average loss: 0.0278\n",
            "\n",
            "Test: Average loss: 0.0587, Accuracy: 8931/9096 (98.19%)\n",
            "\n",
            "20\n"
          ]
        },
        {
          "data": {
            "application/vnd.jupyter.widget-view+json": {
              "model_id": "27cdc461183f497d9c9ee78baa62fa89",
              "version_major": 2,
              "version_minor": 0
            },
            "text/plain": [
              "  0%|          | 0/4245 [00:00<?, ?it/s]"
            ]
          },
          "metadata": {},
          "output_type": "display_data"
        },
        {
          "name": "stdout",
          "output_type": "stream",
          "text": [
            "Train: Average loss: 0.0222\n",
            "\n",
            "Test: Average loss: 0.0566, Accuracy: 8919/9096 (98.05%)\n",
            "\n",
            "21\n"
          ]
        },
        {
          "data": {
            "application/vnd.jupyter.widget-view+json": {
              "model_id": "ab0bf5b251bb4ff8a19d7659d1c12f4a",
              "version_major": 2,
              "version_minor": 0
            },
            "text/plain": [
              "  0%|          | 0/4245 [00:00<?, ?it/s]"
            ]
          },
          "metadata": {},
          "output_type": "display_data"
        },
        {
          "name": "stdout",
          "output_type": "stream",
          "text": [
            "Train: Average loss: 0.0233\n",
            "\n",
            "Test: Average loss: 0.0358, Accuracy: 8993/9096 (98.87%)\n",
            "\n",
            "22\n"
          ]
        },
        {
          "data": {
            "application/vnd.jupyter.widget-view+json": {
              "model_id": "e8cba763d312430f9a8630a6047901aa",
              "version_major": 2,
              "version_minor": 0
            },
            "text/plain": [
              "  0%|          | 0/4245 [00:00<?, ?it/s]"
            ]
          },
          "metadata": {},
          "output_type": "display_data"
        },
        {
          "name": "stdout",
          "output_type": "stream",
          "text": [
            "Train: Average loss: 0.0302\n",
            "\n",
            "Test: Average loss: 0.0643, Accuracy: 8921/9096 (98.08%)\n",
            "\n",
            "23\n"
          ]
        },
        {
          "data": {
            "application/vnd.jupyter.widget-view+json": {
              "model_id": "cbcc814295c844e3b8ec4f560d883b16",
              "version_major": 2,
              "version_minor": 0
            },
            "text/plain": [
              "  0%|          | 0/4245 [00:00<?, ?it/s]"
            ]
          },
          "metadata": {},
          "output_type": "display_data"
        },
        {
          "name": "stdout",
          "output_type": "stream",
          "text": [
            "Train: Average loss: 0.0401\n",
            "\n",
            "Test: Average loss: 0.3204, Accuracy: 8299/9096 (91.24%)\n",
            "\n",
            "24\n"
          ]
        },
        {
          "data": {
            "application/vnd.jupyter.widget-view+json": {
              "model_id": "7a30f383a4304c13b37eaf5f0bd570f7",
              "version_major": 2,
              "version_minor": 0
            },
            "text/plain": [
              "  0%|          | 0/4245 [00:00<?, ?it/s]"
            ]
          },
          "metadata": {},
          "output_type": "display_data"
        },
        {
          "name": "stdout",
          "output_type": "stream",
          "text": [
            "Train: Average loss: 0.0237\n",
            "\n",
            "Test: Average loss: 0.0611, Accuracy: 8900/9096 (97.85%)\n",
            "\n",
            "25\n"
          ]
        },
        {
          "data": {
            "application/vnd.jupyter.widget-view+json": {
              "model_id": "e83cf55d6268423793ce3b8beec8c9eb",
              "version_major": 2,
              "version_minor": 0
            },
            "text/plain": [
              "  0%|          | 0/4245 [00:00<?, ?it/s]"
            ]
          },
          "metadata": {},
          "output_type": "display_data"
        },
        {
          "name": "stdout",
          "output_type": "stream",
          "text": [
            "Train: Average loss: 0.0223\n",
            "\n",
            "Test: Average loss: 0.0384, Accuracy: 8991/9096 (98.85%)\n",
            "\n",
            "26\n"
          ]
        },
        {
          "data": {
            "application/vnd.jupyter.widget-view+json": {
              "model_id": "25c7e5beace54294aa38f4bb1e180bc8",
              "version_major": 2,
              "version_minor": 0
            },
            "text/plain": [
              "  0%|          | 0/4245 [00:00<?, ?it/s]"
            ]
          },
          "metadata": {},
          "output_type": "display_data"
        },
        {
          "name": "stdout",
          "output_type": "stream",
          "text": [
            "Train: Average loss: 0.0203\n",
            "\n",
            "Test: Average loss: 0.0452, Accuracy: 8955/9096 (98.45%)\n",
            "\n",
            "27\n"
          ]
        },
        {
          "data": {
            "application/vnd.jupyter.widget-view+json": {
              "model_id": "2465fb6e5ddc4e4cb0d4b9d5f5f05776",
              "version_major": 2,
              "version_minor": 0
            },
            "text/plain": [
              "  0%|          | 0/4245 [00:00<?, ?it/s]"
            ]
          },
          "metadata": {},
          "output_type": "display_data"
        },
        {
          "name": "stdout",
          "output_type": "stream",
          "text": [
            "Train: Average loss: 0.0137\n",
            "\n",
            "Test: Average loss: 0.0661, Accuracy: 8930/9096 (98.18%)\n",
            "\n",
            "28\n"
          ]
        },
        {
          "data": {
            "application/vnd.jupyter.widget-view+json": {
              "model_id": "bc6447f820e54f08be40f243a25fcec7",
              "version_major": 2,
              "version_minor": 0
            },
            "text/plain": [
              "  0%|          | 0/4245 [00:00<?, ?it/s]"
            ]
          },
          "metadata": {},
          "output_type": "display_data"
        },
        {
          "name": "stdout",
          "output_type": "stream",
          "text": [
            "Train: Average loss: 0.0226\n",
            "\n",
            "Test: Average loss: 0.0530, Accuracy: 8950/9096 (98.39%)\n",
            "\n",
            "29\n"
          ]
        },
        {
          "data": {
            "application/vnd.jupyter.widget-view+json": {
              "model_id": "0fd2aaf81dde4e0d83d193f289b12284",
              "version_major": 2,
              "version_minor": 0
            },
            "text/plain": [
              "  0%|          | 0/4245 [00:00<?, ?it/s]"
            ]
          },
          "metadata": {},
          "output_type": "display_data"
        },
        {
          "name": "stdout",
          "output_type": "stream",
          "text": [
            "Train: Average loss: 0.0155\n",
            "\n",
            "Test: Average loss: 0.0427, Accuracy: 8969/9096 (98.60%)\n",
            "\n",
            "30\n"
          ]
        },
        {
          "data": {
            "application/vnd.jupyter.widget-view+json": {
              "model_id": "3ee20ad336ff42a48a04e72d17cfab72",
              "version_major": 2,
              "version_minor": 0
            },
            "text/plain": [
              "  0%|          | 0/4245 [00:00<?, ?it/s]"
            ]
          },
          "metadata": {},
          "output_type": "display_data"
        },
        {
          "name": "stdout",
          "output_type": "stream",
          "text": [
            "Train: Average loss: 0.0133\n",
            "\n",
            "Test: Average loss: 0.0855, Accuracy: 8876/9096 (97.58%)\n",
            "\n",
            "Test: Average loss: 0.0195, Accuracy: 7150/7200 (99.31%)\n",
            "\n",
            "Experiment:  5\n",
            "1\n"
          ]
        },
        {
          "data": {
            "application/vnd.jupyter.widget-view+json": {
              "model_id": "0df836ce06324e93b74e9a7cb6917402",
              "version_major": 2,
              "version_minor": 0
            },
            "text/plain": [
              "  0%|          | 0/4245 [00:00<?, ?it/s]"
            ]
          },
          "metadata": {},
          "output_type": "display_data"
        },
        {
          "name": "stdout",
          "output_type": "stream",
          "text": [
            "Train: Average loss: 0.3527\n",
            "\n",
            "Test: Average loss: 0.1548, Accuracy: 8549/9096 (93.99%)\n",
            "\n",
            "2\n"
          ]
        },
        {
          "data": {
            "application/vnd.jupyter.widget-view+json": {
              "model_id": "89da30860f8e4f66823c8708b855c723",
              "version_major": 2,
              "version_minor": 0
            },
            "text/plain": [
              "  0%|          | 0/4245 [00:00<?, ?it/s]"
            ]
          },
          "metadata": {},
          "output_type": "display_data"
        },
        {
          "name": "stdout",
          "output_type": "stream",
          "text": [
            "Train: Average loss: 0.2378\n",
            "\n",
            "Test: Average loss: 0.1048, Accuracy: 8809/9096 (96.84%)\n",
            "\n",
            "3\n"
          ]
        },
        {
          "data": {
            "application/vnd.jupyter.widget-view+json": {
              "model_id": "5f704a4b269a4cbab9ed3019680b5085",
              "version_major": 2,
              "version_minor": 0
            },
            "text/plain": [
              "  0%|          | 0/4245 [00:00<?, ?it/s]"
            ]
          },
          "metadata": {},
          "output_type": "display_data"
        },
        {
          "name": "stdout",
          "output_type": "stream",
          "text": [
            "Train: Average loss: 0.1737\n",
            "\n",
            "Test: Average loss: 0.0814, Accuracy: 8863/9096 (97.44%)\n",
            "\n",
            "4\n"
          ]
        },
        {
          "data": {
            "application/vnd.jupyter.widget-view+json": {
              "model_id": "dc26e3614cbd4f5b8b3ee954c4b855f5",
              "version_major": 2,
              "version_minor": 0
            },
            "text/plain": [
              "  0%|          | 0/4245 [00:00<?, ?it/s]"
            ]
          },
          "metadata": {},
          "output_type": "display_data"
        },
        {
          "name": "stdout",
          "output_type": "stream",
          "text": [
            "Train: Average loss: 0.1306\n",
            "\n",
            "Test: Average loss: 0.0597, Accuracy: 8911/9096 (97.97%)\n",
            "\n",
            "5\n"
          ]
        },
        {
          "data": {
            "application/vnd.jupyter.widget-view+json": {
              "model_id": "85984bd890e2467eb4444a7d0539051d",
              "version_major": 2,
              "version_minor": 0
            },
            "text/plain": [
              "  0%|          | 0/4245 [00:00<?, ?it/s]"
            ]
          },
          "metadata": {},
          "output_type": "display_data"
        },
        {
          "name": "stdout",
          "output_type": "stream",
          "text": [
            "Train: Average loss: 0.1133\n",
            "\n",
            "Test: Average loss: 0.1015, Accuracy: 8778/9096 (96.50%)\n",
            "\n",
            "6\n"
          ]
        },
        {
          "data": {
            "application/vnd.jupyter.widget-view+json": {
              "model_id": "1743cb54f73b423abdb903da6a7e1039",
              "version_major": 2,
              "version_minor": 0
            },
            "text/plain": [
              "  0%|          | 0/4245 [00:00<?, ?it/s]"
            ]
          },
          "metadata": {},
          "output_type": "display_data"
        },
        {
          "name": "stdout",
          "output_type": "stream",
          "text": [
            "Train: Average loss: 0.0895\n",
            "\n",
            "Test: Average loss: 0.0513, Accuracy: 8949/9096 (98.38%)\n",
            "\n",
            "7\n"
          ]
        },
        {
          "data": {
            "application/vnd.jupyter.widget-view+json": {
              "model_id": "b540c7fcba9d4e4db8d911ed7d2dc11f",
              "version_major": 2,
              "version_minor": 0
            },
            "text/plain": [
              "  0%|          | 0/4245 [00:00<?, ?it/s]"
            ]
          },
          "metadata": {},
          "output_type": "display_data"
        },
        {
          "name": "stdout",
          "output_type": "stream",
          "text": [
            "Train: Average loss: 0.0891\n",
            "\n",
            "Test: Average loss: 0.0748, Accuracy: 8862/9096 (97.43%)\n",
            "\n",
            "8\n"
          ]
        },
        {
          "data": {
            "application/vnd.jupyter.widget-view+json": {
              "model_id": "d3c05aa867654cbd9299837be5cf8805",
              "version_major": 2,
              "version_minor": 0
            },
            "text/plain": [
              "  0%|          | 0/4245 [00:00<?, ?it/s]"
            ]
          },
          "metadata": {},
          "output_type": "display_data"
        },
        {
          "name": "stdout",
          "output_type": "stream",
          "text": [
            "Train: Average loss: 0.0767\n",
            "\n",
            "Test: Average loss: 0.0731, Accuracy: 8857/9096 (97.37%)\n",
            "\n",
            "9\n"
          ]
        },
        {
          "data": {
            "application/vnd.jupyter.widget-view+json": {
              "model_id": "0d7ed769327b478f9b23b826e7bd229d",
              "version_major": 2,
              "version_minor": 0
            },
            "text/plain": [
              "  0%|          | 0/4245 [00:00<?, ?it/s]"
            ]
          },
          "metadata": {},
          "output_type": "display_data"
        },
        {
          "name": "stdout",
          "output_type": "stream",
          "text": [
            "Train: Average loss: 0.0729\n",
            "\n",
            "Test: Average loss: 0.0672, Accuracy: 8907/9096 (97.92%)\n",
            "\n",
            "10\n"
          ]
        },
        {
          "data": {
            "application/vnd.jupyter.widget-view+json": {
              "model_id": "631a6a772c9a4d689272975615509c88",
              "version_major": 2,
              "version_minor": 0
            },
            "text/plain": [
              "  0%|          | 0/4245 [00:00<?, ?it/s]"
            ]
          },
          "metadata": {},
          "output_type": "display_data"
        },
        {
          "name": "stdout",
          "output_type": "stream",
          "text": [
            "Train: Average loss: 0.0611\n",
            "\n",
            "Test: Average loss: 0.1503, Accuracy: 8694/9096 (95.58%)\n",
            "\n",
            "11\n"
          ]
        },
        {
          "data": {
            "application/vnd.jupyter.widget-view+json": {
              "model_id": "0d82827a8e2649e0b22b4adcbf7515b4",
              "version_major": 2,
              "version_minor": 0
            },
            "text/plain": [
              "  0%|          | 0/4245 [00:00<?, ?it/s]"
            ]
          },
          "metadata": {},
          "output_type": "display_data"
        },
        {
          "name": "stdout",
          "output_type": "stream",
          "text": [
            "Train: Average loss: 0.0554\n",
            "\n",
            "Test: Average loss: 0.0463, Accuracy: 8970/9096 (98.61%)\n",
            "\n",
            "12\n"
          ]
        },
        {
          "data": {
            "application/vnd.jupyter.widget-view+json": {
              "model_id": "9f6057bd338a447b8011c3c4c303e5b1",
              "version_major": 2,
              "version_minor": 0
            },
            "text/plain": [
              "  0%|          | 0/4245 [00:00<?, ?it/s]"
            ]
          },
          "metadata": {},
          "output_type": "display_data"
        },
        {
          "name": "stdout",
          "output_type": "stream",
          "text": [
            "Train: Average loss: 0.0511\n",
            "\n",
            "Test: Average loss: 0.0528, Accuracy: 8945/9096 (98.34%)\n",
            "\n",
            "13\n"
          ]
        },
        {
          "data": {
            "application/vnd.jupyter.widget-view+json": {
              "model_id": "30692455af5b42a68c89cada8b9338e0",
              "version_major": 2,
              "version_minor": 0
            },
            "text/plain": [
              "  0%|          | 0/4245 [00:00<?, ?it/s]"
            ]
          },
          "metadata": {},
          "output_type": "display_data"
        },
        {
          "name": "stdout",
          "output_type": "stream",
          "text": [
            "Train: Average loss: 0.0421\n",
            "\n",
            "Test: Average loss: 0.0441, Accuracy: 8988/9096 (98.81%)\n",
            "\n",
            "14\n"
          ]
        },
        {
          "data": {
            "application/vnd.jupyter.widget-view+json": {
              "model_id": "60dffa41ddca40b9b943c33d4fb15474",
              "version_major": 2,
              "version_minor": 0
            },
            "text/plain": [
              "  0%|          | 0/4245 [00:00<?, ?it/s]"
            ]
          },
          "metadata": {},
          "output_type": "display_data"
        },
        {
          "name": "stdout",
          "output_type": "stream",
          "text": [
            "Train: Average loss: 0.0414\n",
            "\n",
            "Test: Average loss: 0.1336, Accuracy: 8669/9096 (95.31%)\n",
            "\n",
            "15\n"
          ]
        },
        {
          "data": {
            "application/vnd.jupyter.widget-view+json": {
              "model_id": "24c09ef8c05f4bc5bc32aefbdaaf6c9b",
              "version_major": 2,
              "version_minor": 0
            },
            "text/plain": [
              "  0%|          | 0/4245 [00:00<?, ?it/s]"
            ]
          },
          "metadata": {},
          "output_type": "display_data"
        },
        {
          "name": "stdout",
          "output_type": "stream",
          "text": [
            "Train: Average loss: 0.0393\n",
            "\n",
            "Test: Average loss: 0.0634, Accuracy: 8941/9096 (98.30%)\n",
            "\n",
            "16\n"
          ]
        },
        {
          "data": {
            "application/vnd.jupyter.widget-view+json": {
              "model_id": "ddd5e9e72e244263bfd3e51a8ba76840",
              "version_major": 2,
              "version_minor": 0
            },
            "text/plain": [
              "  0%|          | 0/4245 [00:00<?, ?it/s]"
            ]
          },
          "metadata": {},
          "output_type": "display_data"
        },
        {
          "name": "stdout",
          "output_type": "stream",
          "text": [
            "Train: Average loss: 0.0440\n",
            "\n",
            "Test: Average loss: 0.0382, Accuracy: 8979/9096 (98.71%)\n",
            "\n",
            "17\n"
          ]
        },
        {
          "data": {
            "application/vnd.jupyter.widget-view+json": {
              "model_id": "bc031db10d4a497182190bb52fb575fb",
              "version_major": 2,
              "version_minor": 0
            },
            "text/plain": [
              "  0%|          | 0/4245 [00:00<?, ?it/s]"
            ]
          },
          "metadata": {},
          "output_type": "display_data"
        },
        {
          "name": "stdout",
          "output_type": "stream",
          "text": [
            "Train: Average loss: 0.0361\n",
            "\n",
            "Test: Average loss: 0.0430, Accuracy: 8966/9096 (98.57%)\n",
            "\n",
            "18\n"
          ]
        },
        {
          "data": {
            "application/vnd.jupyter.widget-view+json": {
              "model_id": "59b6ca42ad4c4ce7a1ac9568e2e165be",
              "version_major": 2,
              "version_minor": 0
            },
            "text/plain": [
              "  0%|          | 0/4245 [00:00<?, ?it/s]"
            ]
          },
          "metadata": {},
          "output_type": "display_data"
        },
        {
          "name": "stdout",
          "output_type": "stream",
          "text": [
            "Train: Average loss: 0.0302\n",
            "\n",
            "Test: Average loss: 0.0489, Accuracy: 8963/9096 (98.54%)\n",
            "\n",
            "19\n"
          ]
        },
        {
          "data": {
            "application/vnd.jupyter.widget-view+json": {
              "model_id": "56d511d189204cd892e0f111b8e97e2a",
              "version_major": 2,
              "version_minor": 0
            },
            "text/plain": [
              "  0%|          | 0/4245 [00:00<?, ?it/s]"
            ]
          },
          "metadata": {},
          "output_type": "display_data"
        },
        {
          "name": "stdout",
          "output_type": "stream",
          "text": [
            "Train: Average loss: 0.0282\n",
            "\n",
            "Test: Average loss: 0.0378, Accuracy: 8987/9096 (98.80%)\n",
            "\n",
            "20\n"
          ]
        },
        {
          "data": {
            "application/vnd.jupyter.widget-view+json": {
              "model_id": "e0087c089fed4c93b597bc86baee415e",
              "version_major": 2,
              "version_minor": 0
            },
            "text/plain": [
              "  0%|          | 0/4245 [00:00<?, ?it/s]"
            ]
          },
          "metadata": {},
          "output_type": "display_data"
        },
        {
          "name": "stdout",
          "output_type": "stream",
          "text": [
            "Train: Average loss: 0.0255\n",
            "\n",
            "Test: Average loss: 0.0627, Accuracy: 8900/9096 (97.85%)\n",
            "\n",
            "21\n"
          ]
        },
        {
          "data": {
            "application/vnd.jupyter.widget-view+json": {
              "model_id": "2d77199c8baa4824acc5cf1584162cbd",
              "version_major": 2,
              "version_minor": 0
            },
            "text/plain": [
              "  0%|          | 0/4245 [00:00<?, ?it/s]"
            ]
          },
          "metadata": {},
          "output_type": "display_data"
        },
        {
          "name": "stdout",
          "output_type": "stream",
          "text": [
            "Train: Average loss: 0.0242\n",
            "\n",
            "Test: Average loss: 0.0427, Accuracy: 8974/9096 (98.66%)\n",
            "\n",
            "22\n"
          ]
        },
        {
          "data": {
            "application/vnd.jupyter.widget-view+json": {
              "model_id": "78fbf5a311134fc897e2af64272e1a5d",
              "version_major": 2,
              "version_minor": 0
            },
            "text/plain": [
              "  0%|          | 0/4245 [00:00<?, ?it/s]"
            ]
          },
          "metadata": {},
          "output_type": "display_data"
        },
        {
          "name": "stdout",
          "output_type": "stream",
          "text": [
            "Train: Average loss: 0.0202\n",
            "\n",
            "Test: Average loss: 0.0712, Accuracy: 8855/9096 (97.35%)\n",
            "\n",
            "23\n"
          ]
        },
        {
          "data": {
            "application/vnd.jupyter.widget-view+json": {
              "model_id": "59f265057b1248c792cd2c93e0ceaab7",
              "version_major": 2,
              "version_minor": 0
            },
            "text/plain": [
              "  0%|          | 0/4245 [00:00<?, ?it/s]"
            ]
          },
          "metadata": {},
          "output_type": "display_data"
        },
        {
          "name": "stdout",
          "output_type": "stream",
          "text": [
            "Train: Average loss: 0.0158\n",
            "\n",
            "Test: Average loss: 0.0464, Accuracy: 8978/9096 (98.70%)\n",
            "\n",
            "24\n"
          ]
        },
        {
          "data": {
            "application/vnd.jupyter.widget-view+json": {
              "model_id": "560fa592dc6442b586f4c92af371366a",
              "version_major": 2,
              "version_minor": 0
            },
            "text/plain": [
              "  0%|          | 0/4245 [00:00<?, ?it/s]"
            ]
          },
          "metadata": {},
          "output_type": "display_data"
        },
        {
          "name": "stdout",
          "output_type": "stream",
          "text": [
            "Train: Average loss: 0.0226\n",
            "\n",
            "Test: Average loss: 0.0528, Accuracy: 8926/9096 (98.13%)\n",
            "\n",
            "25\n"
          ]
        },
        {
          "data": {
            "application/vnd.jupyter.widget-view+json": {
              "model_id": "31b25a32de104416a3af6f2774565b69",
              "version_major": 2,
              "version_minor": 0
            },
            "text/plain": [
              "  0%|          | 0/4245 [00:00<?, ?it/s]"
            ]
          },
          "metadata": {},
          "output_type": "display_data"
        },
        {
          "name": "stdout",
          "output_type": "stream",
          "text": [
            "Train: Average loss: 0.0160\n",
            "\n",
            "Test: Average loss: 0.0521, Accuracy: 8950/9096 (98.39%)\n",
            "\n",
            "26\n"
          ]
        },
        {
          "data": {
            "application/vnd.jupyter.widget-view+json": {
              "model_id": "8db45100fcb54454a5a56ca78a4e73fb",
              "version_major": 2,
              "version_minor": 0
            },
            "text/plain": [
              "  0%|          | 0/4245 [00:00<?, ?it/s]"
            ]
          },
          "metadata": {},
          "output_type": "display_data"
        },
        {
          "name": "stdout",
          "output_type": "stream",
          "text": [
            "Train: Average loss: 0.0208\n",
            "\n",
            "Test: Average loss: 0.0605, Accuracy: 8923/9096 (98.10%)\n",
            "\n",
            "27\n"
          ]
        },
        {
          "data": {
            "application/vnd.jupyter.widget-view+json": {
              "model_id": "3cef7e0c17db4330af3efe410ec72e3c",
              "version_major": 2,
              "version_minor": 0
            },
            "text/plain": [
              "  0%|          | 0/4245 [00:00<?, ?it/s]"
            ]
          },
          "metadata": {},
          "output_type": "display_data"
        },
        {
          "name": "stdout",
          "output_type": "stream",
          "text": [
            "Train: Average loss: 0.0213\n",
            "\n",
            "Test: Average loss: 0.0517, Accuracy: 8965/9096 (98.56%)\n",
            "\n",
            "28\n"
          ]
        },
        {
          "data": {
            "application/vnd.jupyter.widget-view+json": {
              "model_id": "36cae769952a432dac9c1ef38634cea1",
              "version_major": 2,
              "version_minor": 0
            },
            "text/plain": [
              "  0%|          | 0/4245 [00:00<?, ?it/s]"
            ]
          },
          "metadata": {},
          "output_type": "display_data"
        },
        {
          "name": "stdout",
          "output_type": "stream",
          "text": [
            "Train: Average loss: 0.0125\n",
            "\n",
            "Test: Average loss: 0.0560, Accuracy: 8937/9096 (98.25%)\n",
            "\n",
            "29\n"
          ]
        },
        {
          "data": {
            "application/vnd.jupyter.widget-view+json": {
              "model_id": "984ead3c4af34b3390c155c6348758ec",
              "version_major": 2,
              "version_minor": 0
            },
            "text/plain": [
              "  0%|          | 0/4245 [00:00<?, ?it/s]"
            ]
          },
          "metadata": {},
          "output_type": "display_data"
        },
        {
          "name": "stdout",
          "output_type": "stream",
          "text": [
            "Train: Average loss: 0.0585\n",
            "\n",
            "Test: Average loss: 0.0502, Accuracy: 8953/9096 (98.43%)\n",
            "\n",
            "30\n"
          ]
        },
        {
          "data": {
            "application/vnd.jupyter.widget-view+json": {
              "model_id": "5b716db4f3af49af92977e755b8eafc8",
              "version_major": 2,
              "version_minor": 0
            },
            "text/plain": [
              "  0%|          | 0/4245 [00:00<?, ?it/s]"
            ]
          },
          "metadata": {},
          "output_type": "display_data"
        },
        {
          "name": "stdout",
          "output_type": "stream",
          "text": [
            "Train: Average loss: 0.0277\n",
            "\n",
            "Test: Average loss: 0.0762, Accuracy: 8856/9096 (97.36%)\n",
            "\n",
            "Test: Average loss: 0.0327, Accuracy: 7140/7200 (99.17%)\n",
            "\n",
            "[99.40277777777777, 99.27777777777777, 99.11111111111111, 99.30555555555556, 99.16666666666667]\n"
          ]
        }
      ],
      "source": [
        "import os.path\n",
        "from os import path\n",
        "import torch.nn.functional as F\n",
        "import torch.optim as optim\n",
        "\n",
        "num_epoch = 30\n",
        "accuracy_test=[]\n",
        "\n",
        "for i in range(5):\n",
        "  print('Experiment: ', i+1)\n",
        "  device = torch.device('cuda' if torch.cuda.is_available() else 'cpu')\n",
        "  model = Xception(input_channel=3, n_classes=2).to(device)\n",
        "  learning_rate = 0.0005\n",
        "  weight_decay = 0.001\n",
        "  for param in model.parameters():\n",
        "    param.requires_grad = True\n",
        "  parameters = filter(lambda p: p.requires_grad, model.parameters())\n",
        "  optimizer = optim.SGD(parameters, lr=learning_rate, momentum=0.9)\n",
        "\n",
        "  acc=0\n",
        "  for epoch in range(1, num_epoch + 1):\n",
        "    print(epoch)\n",
        "    tl=train(model, device, train_loader, optimizer)\n",
        "    stl,acct=validate(model, device, val_loader)\n",
        "    if acc<acct:\n",
        "      if path.exists(\"Xception2SGD.pth\"):\n",
        "        os.remove(\"Xception2SGD.pth\")\n",
        "      torch.save(model.state_dict(), 'Xception2SGD.pth')\n",
        "      acc=acct\n",
        "\n",
        "  device = torch.device('cuda' if torch.cuda.is_available() else 'cpu')\n",
        "  model = Xception(input_channel=3, n_classes=2).to(device)\n",
        "  model.load_state_dict(torch.load('Xception2SGD.pth', map_location=device))\n",
        "  model=model.to(device)\n",
        "  \n",
        "  l,a=test(model, device, test_loader)\n",
        "  accuracy_test.append(a)\n",
        "print(accuracy_test)"
      ]
    },
    {
      "cell_type": "code",
      "execution_count": 1,
      "metadata": {
        "colab": {
          "base_uri": "https://localhost:8080/"
        },
        "id": "vjn-EEiOTUJW",
        "outputId": "56cf62ba-56d3-4215-8acf-9613cda86308"
      },
      "outputs": [
        {
          "output_type": "stream",
          "name": "stdout",
          "text": [
            "99.25277777777777\n",
            "0.10333930687632012\n"
          ]
        }
      ],
      "source": [
        "import numpy as np\n",
        "acc=np.array([99.40277777777777, 99.27777777777777, 99.11111111111111, 99.30555555555556, 99.16666666666667])\n",
        "print(np.mean(acc))\n",
        "print(np.std(acc))"
      ]
    },
    {
      "cell_type": "code",
      "execution_count": null,
      "metadata": {
        "colab": {
          "base_uri": "https://localhost:8080/",
          "height": 295
        },
        "id": "xP8df2ksT43S",
        "outputId": "52710194-5bc0-4052-9a4c-114008e55931"
      },
      "outputs": [
        {
          "data": {
            "image/png": "[encoded data removed]",
            "text/plain": [
              "<Figure size 432x288 with 1 Axes>"
            ]
          },
          "metadata": {},
          "output_type": "display_data"
        }
      ],
      "source": [
        "X=[i+1 for i in range(30)]\n",
        "plt.plot(X,test_loss)\n",
        "plt.title('Test loss')\n",
        "plt.xlabel('Epochs')\n",
        "plt.ylabel('Loss')\n",
        "plt.show()"
      ]
    },
    {
      "cell_type": "code",
      "execution_count": null,
      "metadata": {
        "colab": {
          "base_uri": "https://localhost:8080/",
          "height": 295
        },
        "id": "jLoCwQ2nT8GB",
        "outputId": "761deaa7-b338-4a9f-eb84-771241939b61"
      },
      "outputs": [
        {
          "data": {
            "image/png": "[encoded data removed]",
            "text/plain": [
              "<Figure size 432x288 with 1 Axes>"
            ]
          },
          "metadata": {},
          "output_type": "display_data"
        }
      ],
      "source": [
        "X=[i+1 for i in range(30)]\n",
        "plt.plot(X,accuracy_test)\n",
        "plt.title('Test Accuracy')\n",
        "plt.xlabel('Epochs')\n",
        "plt.ylabel('Accuracy')\n",
        "plt.show()"
      ]
    }
  ],
  "metadata": {
    "accelerator": "GPU",
    "colab": {
      "provenance": []
    },
    "gpuClass": "standard",
    "kernelspec": {
      "display_name": "Python 3",
      "name": "python3"
    },
    "language_info": {
      "name": "python"
    },
    "widgets": {
      "application/vnd.jupyter.widget-state+json": {
        "03a3dfbdc9c84021b830e27eab7068e2": {
          "model_module": "@jupyter-widgets/base",
          "model_module_version": "1.2.0",
          "model_name": "LayoutModel",
          "state": {
            "_model_module": "@jupyter-widgets/base",
            "_model_module_version": "1.2.0",
            "_model_name": "LayoutModel",
            "_view_count": null,
            "_view_module": "@jupyter-widgets/base",
            "_view_module_version": "1.2.0",
            "_view_name": "LayoutView",
            "align_content": null,
            "align_items": null,
            "align_self": null,
            "border": null,
            "bottom": null,
            "display": null,
            "flex": null,
            "flex_flow": null,
            "grid_area": null,
            "grid_auto_columns": null,
            "grid_auto_flow": null,
            "grid_auto_rows": null,
            "grid_column": null,
            "grid_gap": null,
            "grid_row": null,
            "grid_template_areas": null,
            "grid_template_columns": null,
            "grid_template_rows": null,
            "height": null,
            "justify_content": null,
            "justify_items": null,
            "left": null,
            "margin": null,
            "max_height": null,
            "max_width": null,
            "min_height": null,
            "min_width": null,
            "object_fit": null,
            "object_position": null,
            "order": null,
            "overflow": null,
            "overflow_x": null,
            "overflow_y": null,
            "padding": null,
            "right": null,
            "top": null,
            "visibility": null,
            "width": null
          }
        },
        "06f7934341d64c4bb0cb9ce6b8427bbe": {
          "model_module": "@jupyter-widgets/controls",
          "model_module_version": "1.5.0",
          "model_name": "HTMLModel",
          "state": {
            "_dom_classes": [],
            "_model_module": "@jupyter-widgets/controls",
            "_model_module_version": "1.5.0",
            "_model_name": "HTMLModel",
            "_view_count": null,
            "_view_module": "@jupyter-widgets/controls",
            "_view_module_version": "1.5.0",
            "_view_name": "HTMLView",
            "description": "",
            "description_tooltip": null,
            "layout": "IPY_MODEL_41b9e9a0e5524328a342010bd844e1ef",
            "placeholder": "​",
            "style": "IPY_MODEL_fc1e9b76cac0430598351d2a6fdae89f",
            "value": "100%"
          }
        },
        "10398e1b50ac43f09c0319cad9f1edc6": {
          "model_module": "@jupyter-widgets/base",
          "model_module_version": "1.2.0",
          "model_name": "LayoutModel",
          "state": {
            "_model_module": "@jupyter-widgets/base",
            "_model_module_version": "1.2.0",
            "_model_name": "LayoutModel",
            "_view_count": null,
            "_view_module": "@jupyter-widgets/base",
            "_view_module_version": "1.2.0",
            "_view_name": "LayoutView",
            "align_content": null,
            "align_items": null,
            "align_self": null,
            "border": null,
            "bottom": null,
            "display": null,
            "flex": null,
            "flex_flow": null,
            "grid_area": null,
            "grid_auto_columns": null,
            "grid_auto_flow": null,
            "grid_auto_rows": null,
            "grid_column": null,
            "grid_gap": null,
            "grid_row": null,
            "grid_template_areas": null,
            "grid_template_columns": null,
            "grid_template_rows": null,
            "height": null,
            "justify_content": null,
            "justify_items": null,
            "left": null,
            "margin": null,
            "max_height": null,
            "max_width": null,
            "min_height": null,
            "min_width": null,
            "object_fit": null,
            "object_position": null,
            "order": null,
            "overflow": null,
            "overflow_x": null,
            "overflow_y": null,
            "padding": null,
            "right": null,
            "top": null,
            "visibility": null,
            "width": null
          }
        },
        "11162e0794be40859841140ad8410785": {
          "model_module": "@jupyter-widgets/controls",
          "model_module_version": "1.5.0",
          "model_name": "HTMLModel",
          "state": {
            "_dom_classes": [],
            "_model_module": "@jupyter-widgets/controls",
            "_model_module_version": "1.5.0",
            "_model_name": "HTMLModel",
            "_view_count": null,
            "_view_module": "@jupyter-widgets/controls",
            "_view_module_version": "1.5.0",
            "_view_name": "HTMLView",
            "description": "",
            "description_tooltip": null,
            "layout": "IPY_MODEL_b4c5446b1beb47ad86e82019afb173e7",
            "placeholder": "​",
            "style": "IPY_MODEL_3a834827a5944845b7065bbdb24bd449",
            "value": "100%"
          }
        },
        "188e673351ba4787b5cf7a239f3d8609": {
          "model_module": "@jupyter-widgets/base",
          "model_module_version": "1.2.0",
          "model_name": "LayoutModel",
          "state": {
            "_model_module": "@jupyter-widgets/base",
            "_model_module_version": "1.2.0",
            "_model_name": "LayoutModel",
            "_view_count": null,
            "_view_module": "@jupyter-widgets/base",
            "_view_module_version": "1.2.0",
            "_view_name": "LayoutView",
            "align_content": null,
            "align_items": null,
            "align_self": null,
            "border": null,
            "bottom": null,
            "display": null,
            "flex": null,
            "flex_flow": null,
            "grid_area": null,
            "grid_auto_columns": null,
            "grid_auto_flow": null,
            "grid_auto_rows": null,
            "grid_column": null,
            "grid_gap": null,
            "grid_row": null,
            "grid_template_areas": null,
            "grid_template_columns": null,
            "grid_template_rows": null,
            "height": null,
            "justify_content": null,
            "justify_items": null,
            "left": null,
            "margin": null,
            "max_height": null,
            "max_width": null,
            "min_height": null,
            "min_width": null,
            "object_fit": null,
            "object_position": null,
            "order": null,
            "overflow": null,
            "overflow_x": null,
            "overflow_y": null,
            "padding": null,
            "right": null,
            "top": null,
            "visibility": null,
            "width": null
          }
        },
        "1960807558e5429ba7334a27288fa408": {
          "model_module": "@jupyter-widgets/controls",
          "model_module_version": "1.5.0",
          "model_name": "DescriptionStyleModel",
          "state": {
            "_model_module": "@jupyter-widgets/controls",
            "_model_module_version": "1.5.0",
            "_model_name": "DescriptionStyleModel",
            "_view_count": null,
            "_view_module": "@jupyter-widgets/base",
            "_view_module_version": "1.2.0",
            "_view_name": "StyleView",
            "description_width": ""
          }
        },
        "253bcb4c213943c69cdc2d7c47087411": {
          "model_module": "@jupyter-widgets/controls",
          "model_module_version": "1.5.0",
          "model_name": "HBoxModel",
          "state": {
            "_dom_classes": [],
            "_model_module": "@jupyter-widgets/controls",
            "_model_module_version": "1.5.0",
            "_model_name": "HBoxModel",
            "_view_count": null,
            "_view_module": "@jupyter-widgets/controls",
            "_view_module_version": "1.5.0",
            "_view_name": "HBoxView",
            "box_style": "",
            "children": [
              "IPY_MODEL_2b420fe7caf445fcbe8c3542abbcc85d",
              "IPY_MODEL_baa4aa4a82354a1f8b6cce6988b8d7cf",
              "IPY_MODEL_f53875bc82d74b64b129b8be7e97513f"
            ],
            "layout": "IPY_MODEL_78295e87bda64873907877c2cb82cab0"
          }
        },
        "26ec3bffef234112af553c614ded6384": {
          "model_module": "@jupyter-widgets/controls",
          "model_module_version": "1.5.0",
          "model_name": "HTMLModel",
          "state": {
            "_dom_classes": [],
            "_model_module": "@jupyter-widgets/controls",
            "_model_module_version": "1.5.0",
            "_model_name": "HTMLModel",
            "_view_count": null,
            "_view_module": "@jupyter-widgets/controls",
            "_view_module_version": "1.5.0",
            "_view_name": "HTMLView",
            "description": "",
            "description_tooltip": null,
            "layout": "IPY_MODEL_03a3dfbdc9c84021b830e27eab7068e2",
            "placeholder": "​",
            "style": "IPY_MODEL_1960807558e5429ba7334a27288fa408",
            "value": "100%"
          }
        },
        "2b420fe7caf445fcbe8c3542abbcc85d": {
          "model_module": "@jupyter-widgets/controls",
          "model_module_version": "1.5.0",
          "model_name": "HTMLModel",
          "state": {
            "_dom_classes": [],
            "_model_module": "@jupyter-widgets/controls",
            "_model_module_version": "1.5.0",
            "_model_name": "HTMLModel",
            "_view_count": null,
            "_view_module": "@jupyter-widgets/controls",
            "_view_module_version": "1.5.0",
            "_view_name": "HTMLView",
            "description": "",
            "description_tooltip": null,
            "layout": "IPY_MODEL_cf782714669f489697cb6fe17c2036fb",
            "placeholder": "​",
            "style": "IPY_MODEL_365c3086ca05422784c1a9becdcef8d1",
            "value": "  1%"
          }
        },
        "2c5ccbd1286f4829ba54776b601fa921": {
          "model_module": "@jupyter-widgets/base",
          "model_module_version": "1.2.0",
          "model_name": "LayoutModel",
          "state": {
            "_model_module": "@jupyter-widgets/base",
            "_model_module_version": "1.2.0",
            "_model_name": "LayoutModel",
            "_view_count": null,
            "_view_module": "@jupyter-widgets/base",
            "_view_module_version": "1.2.0",
            "_view_name": "LayoutView",
            "align_content": null,
            "align_items": null,
            "align_self": null,
            "border": null,
            "bottom": null,
            "display": null,
            "flex": null,
            "flex_flow": null,
            "grid_area": null,
            "grid_auto_columns": null,
            "grid_auto_flow": null,
            "grid_auto_rows": null,
            "grid_column": null,
            "grid_gap": null,
            "grid_row": null,
            "grid_template_areas": null,
            "grid_template_columns": null,
            "grid_template_rows": null,
            "height": null,
            "justify_content": null,
            "justify_items": null,
            "left": null,
            "margin": null,
            "max_height": null,
            "max_width": null,
            "min_height": null,
            "min_width": null,
            "object_fit": null,
            "object_position": null,
            "order": null,
            "overflow": null,
            "overflow_x": null,
            "overflow_y": null,
            "padding": null,
            "right": null,
            "top": null,
            "visibility": null,
            "width": null
          }
        },
        "2ce56e6a52a842cab5c288f65673aecc": {
          "model_module": "@jupyter-widgets/base",
          "model_module_version": "1.2.0",
          "model_name": "LayoutModel",
          "state": {
            "_model_module": "@jupyter-widgets/base",
            "_model_module_version": "1.2.0",
            "_model_name": "LayoutModel",
            "_view_count": null,
            "_view_module": "@jupyter-widgets/base",
            "_view_module_version": "1.2.0",
            "_view_name": "LayoutView",
            "align_content": null,
            "align_items": null,
            "align_self": null,
            "border": null,
            "bottom": null,
            "display": null,
            "flex": null,
            "flex_flow": null,
            "grid_area": null,
            "grid_auto_columns": null,
            "grid_auto_flow": null,
            "grid_auto_rows": null,
            "grid_column": null,
            "grid_gap": null,
            "grid_row": null,
            "grid_template_areas": null,
            "grid_template_columns": null,
            "grid_template_rows": null,
            "height": null,
            "justify_content": null,
            "justify_items": null,
            "left": null,
            "margin": null,
            "max_height": null,
            "max_width": null,
            "min_height": null,
            "min_width": null,
            "object_fit": null,
            "object_position": null,
            "order": null,
            "overflow": null,
            "overflow_x": null,
            "overflow_y": null,
            "padding": null,
            "right": null,
            "top": null,
            "visibility": null,
            "width": null
          }
        },
        "2f7baa8e936649fbb03ab4e6bf81ec0c": {
          "model_module": "@jupyter-widgets/base",
          "model_module_version": "1.2.0",
          "model_name": "LayoutModel",
          "state": {
            "_model_module": "@jupyter-widgets/base",
            "_model_module_version": "1.2.0",
            "_model_name": "LayoutModel",
            "_view_count": null,
            "_view_module": "@jupyter-widgets/base",
            "_view_module_version": "1.2.0",
            "_view_name": "LayoutView",
            "align_content": null,
            "align_items": null,
            "align_self": null,
            "border": null,
            "bottom": null,
            "display": null,
            "flex": null,
            "flex_flow": null,
            "grid_area": null,
            "grid_auto_columns": null,
            "grid_auto_flow": null,
            "grid_auto_rows": null,
            "grid_column": null,
            "grid_gap": null,
            "grid_row": null,
            "grid_template_areas": null,
            "grid_template_columns": null,
            "grid_template_rows": null,
            "height": null,
            "justify_content": null,
            "justify_items": null,
            "left": null,
            "margin": null,
            "max_height": null,
            "max_width": null,
            "min_height": null,
            "min_width": null,
            "object_fit": null,
            "object_position": null,
            "order": null,
            "overflow": null,
            "overflow_x": null,
            "overflow_y": null,
            "padding": null,
            "right": null,
            "top": null,
            "visibility": null,
            "width": null
          }
        },
        "365c3086ca05422784c1a9becdcef8d1": {
          "model_module": "@jupyter-widgets/controls",
          "model_module_version": "1.5.0",
          "model_name": "DescriptionStyleModel",
          "state": {
            "_model_module": "@jupyter-widgets/controls",
            "_model_module_version": "1.5.0",
            "_model_name": "DescriptionStyleModel",
            "_view_count": null,
            "_view_module": "@jupyter-widgets/base",
            "_view_module_version": "1.2.0",
            "_view_name": "StyleView",
            "description_width": ""
          }
        },
        "3a834827a5944845b7065bbdb24bd449": {
          "model_module": "@jupyter-widgets/controls",
          "model_module_version": "1.5.0",
          "model_name": "DescriptionStyleModel",
          "state": {
            "_model_module": "@jupyter-widgets/controls",
            "_model_module_version": "1.5.0",
            "_model_name": "DescriptionStyleModel",
            "_view_count": null,
            "_view_module": "@jupyter-widgets/base",
            "_view_module_version": "1.2.0",
            "_view_name": "StyleView",
            "description_width": ""
          }
        },
        "3b8e41a22e5c4627a4c36905517d5003": {
          "model_module": "@jupyter-widgets/base",
          "model_module_version": "1.2.0",
          "model_name": "LayoutModel",
          "state": {
            "_model_module": "@jupyter-widgets/base",
            "_model_module_version": "1.2.0",
            "_model_name": "LayoutModel",
            "_view_count": null,
            "_view_module": "@jupyter-widgets/base",
            "_view_module_version": "1.2.0",
            "_view_name": "LayoutView",
            "align_content": null,
            "align_items": null,
            "align_self": null,
            "border": null,
            "bottom": null,
            "display": null,
            "flex": null,
            "flex_flow": null,
            "grid_area": null,
            "grid_auto_columns": null,
            "grid_auto_flow": null,
            "grid_auto_rows": null,
            "grid_column": null,
            "grid_gap": null,
            "grid_row": null,
            "grid_template_areas": null,
            "grid_template_columns": null,
            "grid_template_rows": null,
            "height": null,
            "justify_content": null,
            "justify_items": null,
            "left": null,
            "margin": null,
            "max_height": null,
            "max_width": null,
            "min_height": null,
            "min_width": null,
            "object_fit": null,
            "object_position": null,
            "order": null,
            "overflow": null,
            "overflow_x": null,
            "overflow_y": null,
            "padding": null,
            "right": null,
            "top": null,
            "visibility": null,
            "width": null
          }
        },
        "3d35024a2e43433da65e27f2009b8bc6": {
          "model_module": "@jupyter-widgets/controls",
          "model_module_version": "1.5.0",
          "model_name": "HTMLModel",
          "state": {
            "_dom_classes": [],
            "_model_module": "@jupyter-widgets/controls",
            "_model_module_version": "1.5.0",
            "_model_name": "HTMLModel",
            "_view_count": null,
            "_view_module": "@jupyter-widgets/controls",
            "_view_module_version": "1.5.0",
            "_view_name": "HTMLView",
            "description": "",
            "description_tooltip": null,
            "layout": "IPY_MODEL_188e673351ba4787b5cf7a239f3d8609",
            "placeholder": "​",
            "style": "IPY_MODEL_bfb7c3bea98a4212be6699a5f5a51cdb",
            "value": " 4245/4245 [06:03&lt;00:00, 13.01it/s]"
          }
        },
        "41b9e9a0e5524328a342010bd844e1ef": {
          "model_module": "@jupyter-widgets/base",
          "model_module_version": "1.2.0",
          "model_name": "LayoutModel",
          "state": {
            "_model_module": "@jupyter-widgets/base",
            "_model_module_version": "1.2.0",
            "_model_name": "LayoutModel",
            "_view_count": null,
            "_view_module": "@jupyter-widgets/base",
            "_view_module_version": "1.2.0",
            "_view_name": "LayoutView",
            "align_content": null,
            "align_items": null,
            "align_self": null,
            "border": null,
            "bottom": null,
            "display": null,
            "flex": null,
            "flex_flow": null,
            "grid_area": null,
            "grid_auto_columns": null,
            "grid_auto_flow": null,
            "grid_auto_rows": null,
            "grid_column": null,
            "grid_gap": null,
            "grid_row": null,
            "grid_template_areas": null,
            "grid_template_columns": null,
            "grid_template_rows": null,
            "height": null,
            "justify_content": null,
            "justify_items": null,
            "left": null,
            "margin": null,
            "max_height": null,
            "max_width": null,
            "min_height": null,
            "min_width": null,
            "object_fit": null,
            "object_position": null,
            "order": null,
            "overflow": null,
            "overflow_x": null,
            "overflow_y": null,
            "padding": null,
            "right": null,
            "top": null,
            "visibility": null,
            "width": null
          }
        },
        "46080adb412f4751b98d7dab76555a94": {
          "model_module": "@jupyter-widgets/base",
          "model_module_version": "1.2.0",
          "model_name": "LayoutModel",
          "state": {
            "_model_module": "@jupyter-widgets/base",
            "_model_module_version": "1.2.0",
            "_model_name": "LayoutModel",
            "_view_count": null,
            "_view_module": "@jupyter-widgets/base",
            "_view_module_version": "1.2.0",
            "_view_name": "LayoutView",
            "align_content": null,
            "align_items": null,
            "align_self": null,
            "border": null,
            "bottom": null,
            "display": null,
            "flex": null,
            "flex_flow": null,
            "grid_area": null,
            "grid_auto_columns": null,
            "grid_auto_flow": null,
            "grid_auto_rows": null,
            "grid_column": null,
            "grid_gap": null,
            "grid_row": null,
            "grid_template_areas": null,
            "grid_template_columns": null,
            "grid_template_rows": null,
            "height": null,
            "justify_content": null,
            "justify_items": null,
            "left": null,
            "margin": null,
            "max_height": null,
            "max_width": null,
            "min_height": null,
            "min_width": null,
            "object_fit": null,
            "object_position": null,
            "order": null,
            "overflow": null,
            "overflow_x": null,
            "overflow_y": null,
            "padding": null,
            "right": null,
            "top": null,
            "visibility": null,
            "width": null
          }
        },
        "47f25ee2f0854c0e954f221acbf260b9": {
          "model_module": "@jupyter-widgets/controls",
          "model_module_version": "1.5.0",
          "model_name": "HTMLModel",
          "state": {
            "_dom_classes": [],
            "_model_module": "@jupyter-widgets/controls",
            "_model_module_version": "1.5.0",
            "_model_name": "HTMLModel",
            "_view_count": null,
            "_view_module": "@jupyter-widgets/controls",
            "_view_module_version": "1.5.0",
            "_view_name": "HTMLView",
            "description": "",
            "description_tooltip": null,
            "layout": "IPY_MODEL_716562ac3ce94354a639b1403618f757",
            "placeholder": "​",
            "style": "IPY_MODEL_4d454b532e494c0ba694daf7e2052d90",
            "value": " 4245/4245 [06:03&lt;00:00, 12.94it/s]"
          }
        },
        "4b2ea08001d04353b23d25975c6e3faf": {
          "model_module": "@jupyter-widgets/controls",
          "model_module_version": "1.5.0",
          "model_name": "FloatProgressModel",
          "state": {
            "_dom_classes": [],
            "_model_module": "@jupyter-widgets/controls",
            "_model_module_version": "1.5.0",
            "_model_name": "FloatProgressModel",
            "_view_count": null,
            "_view_module": "@jupyter-widgets/controls",
            "_view_module_version": "1.5.0",
            "_view_name": "ProgressView",
            "bar_style": "success",
            "description": "",
            "description_tooltip": null,
            "layout": "IPY_MODEL_598b64260fc54739a82da9ce86046400",
            "max": 4245,
            "min": 0,
            "orientation": "horizontal",
            "style": "IPY_MODEL_a6dab5498f7c4ff4832823bd9798d92f",
            "value": 4245
          }
        },
        "4d454b532e494c0ba694daf7e2052d90": {
          "model_module": "@jupyter-widgets/controls",
          "model_module_version": "1.5.0",
          "model_name": "DescriptionStyleModel",
          "state": {
            "_model_module": "@jupyter-widgets/controls",
            "_model_module_version": "1.5.0",
            "_model_name": "DescriptionStyleModel",
            "_view_count": null,
            "_view_module": "@jupyter-widgets/base",
            "_view_module_version": "1.2.0",
            "_view_name": "StyleView",
            "description_width": ""
          }
        },
        "549dea5935734a96b95b77f069ebaa29": {
          "model_module": "@jupyter-widgets/base",
          "model_module_version": "1.2.0",
          "model_name": "LayoutModel",
          "state": {
            "_model_module": "@jupyter-widgets/base",
            "_model_module_version": "1.2.0",
            "_model_name": "LayoutModel",
            "_view_count": null,
            "_view_module": "@jupyter-widgets/base",
            "_view_module_version": "1.2.0",
            "_view_name": "LayoutView",
            "align_content": null,
            "align_items": null,
            "align_self": null,
            "border": null,
            "bottom": null,
            "display": null,
            "flex": null,
            "flex_flow": null,
            "grid_area": null,
            "grid_auto_columns": null,
            "grid_auto_flow": null,
            "grid_auto_rows": null,
            "grid_column": null,
            "grid_gap": null,
            "grid_row": null,
            "grid_template_areas": null,
            "grid_template_columns": null,
            "grid_template_rows": null,
            "height": null,
            "justify_content": null,
            "justify_items": null,
            "left": null,
            "margin": null,
            "max_height": null,
            "max_width": null,
            "min_height": null,
            "min_width": null,
            "object_fit": null,
            "object_position": null,
            "order": null,
            "overflow": null,
            "overflow_x": null,
            "overflow_y": null,
            "padding": null,
            "right": null,
            "top": null,
            "visibility": null,
            "width": null
          }
        },
        "598b64260fc54739a82da9ce86046400": {
          "model_module": "@jupyter-widgets/base",
          "model_module_version": "1.2.0",
          "model_name": "LayoutModel",
          "state": {
            "_model_module": "@jupyter-widgets/base",
            "_model_module_version": "1.2.0",
            "_model_name": "LayoutModel",
            "_view_count": null,
            "_view_module": "@jupyter-widgets/base",
            "_view_module_version": "1.2.0",
            "_view_name": "LayoutView",
            "align_content": null,
            "align_items": null,
            "align_self": null,
            "border": null,
            "bottom": null,
            "display": null,
            "flex": null,
            "flex_flow": null,
            "grid_area": null,
            "grid_auto_columns": null,
            "grid_auto_flow": null,
            "grid_auto_rows": null,
            "grid_column": null,
            "grid_gap": null,
            "grid_row": null,
            "grid_template_areas": null,
            "grid_template_columns": null,
            "grid_template_rows": null,
            "height": null,
            "justify_content": null,
            "justify_items": null,
            "left": null,
            "margin": null,
            "max_height": null,
            "max_width": null,
            "min_height": null,
            "min_width": null,
            "object_fit": null,
            "object_position": null,
            "order": null,
            "overflow": null,
            "overflow_x": null,
            "overflow_y": null,
            "padding": null,
            "right": null,
            "top": null,
            "visibility": null,
            "width": null
          }
        },
        "5e086980593f4c9e99ec4f146837264a": {
          "model_module": "@jupyter-widgets/controls",
          "model_module_version": "1.5.0",
          "model_name": "DescriptionStyleModel",
          "state": {
            "_model_module": "@jupyter-widgets/controls",
            "_model_module_version": "1.5.0",
            "_model_name": "DescriptionStyleModel",
            "_view_count": null,
            "_view_module": "@jupyter-widgets/base",
            "_view_module_version": "1.2.0",
            "_view_name": "StyleView",
            "description_width": ""
          }
        },
        "67570aa0b51349bbbbc9155a40402812": {
          "model_module": "@jupyter-widgets/controls",
          "model_module_version": "1.5.0",
          "model_name": "DescriptionStyleModel",
          "state": {
            "_model_module": "@jupyter-widgets/controls",
            "_model_module_version": "1.5.0",
            "_model_name": "DescriptionStyleModel",
            "_view_count": null,
            "_view_module": "@jupyter-widgets/base",
            "_view_module_version": "1.2.0",
            "_view_name": "StyleView",
            "description_width": ""
          }
        },
        "6a2e81c1186f4e0c85e068102c5a8183": {
          "model_module": "@jupyter-widgets/base",
          "model_module_version": "1.2.0",
          "model_name": "LayoutModel",
          "state": {
            "_model_module": "@jupyter-widgets/base",
            "_model_module_version": "1.2.0",
            "_model_name": "LayoutModel",
            "_view_count": null,
            "_view_module": "@jupyter-widgets/base",
            "_view_module_version": "1.2.0",
            "_view_name": "LayoutView",
            "align_content": null,
            "align_items": null,
            "align_self": null,
            "border": null,
            "bottom": null,
            "display": null,
            "flex": null,
            "flex_flow": null,
            "grid_area": null,
            "grid_auto_columns": null,
            "grid_auto_flow": null,
            "grid_auto_rows": null,
            "grid_column": null,
            "grid_gap": null,
            "grid_row": null,
            "grid_template_areas": null,
            "grid_template_columns": null,
            "grid_template_rows": null,
            "height": null,
            "justify_content": null,
            "justify_items": null,
            "left": null,
            "margin": null,
            "max_height": null,
            "max_width": null,
            "min_height": null,
            "min_width": null,
            "object_fit": null,
            "object_position": null,
            "order": null,
            "overflow": null,
            "overflow_x": null,
            "overflow_y": null,
            "padding": null,
            "right": null,
            "top": null,
            "visibility": null,
            "width": null
          }
        },
        "6a3a94ab5b20454db9a60d037c66c9ca": {
          "model_module": "@jupyter-widgets/controls",
          "model_module_version": "1.5.0",
          "model_name": "HTMLModel",
          "state": {
            "_dom_classes": [],
            "_model_module": "@jupyter-widgets/controls",
            "_model_module_version": "1.5.0",
            "_model_name": "HTMLModel",
            "_view_count": null,
            "_view_module": "@jupyter-widgets/controls",
            "_view_module_version": "1.5.0",
            "_view_name": "HTMLView",
            "description": "",
            "description_tooltip": null,
            "layout": "IPY_MODEL_2f7baa8e936649fbb03ab4e6bf81ec0c",
            "placeholder": "​",
            "style": "IPY_MODEL_75325dd373c049d991ca4b76ac61a40b",
            "value": "100%"
          }
        },
        "6b174fb941994a77b697182cb437a740": {
          "model_module": "@jupyter-widgets/controls",
          "model_module_version": "1.5.0",
          "model_name": "DescriptionStyleModel",
          "state": {
            "_model_module": "@jupyter-widgets/controls",
            "_model_module_version": "1.5.0",
            "_model_name": "DescriptionStyleModel",
            "_view_count": null,
            "_view_module": "@jupyter-widgets/base",
            "_view_module_version": "1.2.0",
            "_view_name": "StyleView",
            "description_width": ""
          }
        },
        "6f65f5950cda4e93983d4bde8fac5140": {
          "model_module": "@jupyter-widgets/base",
          "model_module_version": "1.2.0",
          "model_name": "LayoutModel",
          "state": {
            "_model_module": "@jupyter-widgets/base",
            "_model_module_version": "1.2.0",
            "_model_name": "LayoutModel",
            "_view_count": null,
            "_view_module": "@jupyter-widgets/base",
            "_view_module_version": "1.2.0",
            "_view_name": "LayoutView",
            "align_content": null,
            "align_items": null,
            "align_self": null,
            "border": null,
            "bottom": null,
            "display": null,
            "flex": null,
            "flex_flow": null,
            "grid_area": null,
            "grid_auto_columns": null,
            "grid_auto_flow": null,
            "grid_auto_rows": null,
            "grid_column": null,
            "grid_gap": null,
            "grid_row": null,
            "grid_template_areas": null,
            "grid_template_columns": null,
            "grid_template_rows": null,
            "height": null,
            "justify_content": null,
            "justify_items": null,
            "left": null,
            "margin": null,
            "max_height": null,
            "max_width": null,
            "min_height": null,
            "min_width": null,
            "object_fit": null,
            "object_position": null,
            "order": null,
            "overflow": null,
            "overflow_x": null,
            "overflow_y": null,
            "padding": null,
            "right": null,
            "top": null,
            "visibility": null,
            "width": null
          }
        },
        "70496fe8c0b84974b213298b505dde3b": {
          "model_module": "@jupyter-widgets/controls",
          "model_module_version": "1.5.0",
          "model_name": "HTMLModel",
          "state": {
            "_dom_classes": [],
            "_model_module": "@jupyter-widgets/controls",
            "_model_module_version": "1.5.0",
            "_model_name": "HTMLModel",
            "_view_count": null,
            "_view_module": "@jupyter-widgets/controls",
            "_view_module_version": "1.5.0",
            "_view_name": "HTMLView",
            "description": "",
            "description_tooltip": null,
            "layout": "IPY_MODEL_784afb5a4d2a4bf68152aa9c294bd54b",
            "placeholder": "​",
            "style": "IPY_MODEL_5e086980593f4c9e99ec4f146837264a",
            "value": " 4245/4245 [06:03&lt;00:00, 12.90it/s]"
          }
        },
        "71458e224b2742e7a2d25d38e6a2a39c": {
          "model_module": "@jupyter-widgets/controls",
          "model_module_version": "1.5.0",
          "model_name": "ProgressStyleModel",
          "state": {
            "_model_module": "@jupyter-widgets/controls",
            "_model_module_version": "1.5.0",
            "_model_name": "ProgressStyleModel",
            "_view_count": null,
            "_view_module": "@jupyter-widgets/base",
            "_view_module_version": "1.2.0",
            "_view_name": "StyleView",
            "bar_color": null,
            "description_width": ""
          }
        },
        "716562ac3ce94354a639b1403618f757": {
          "model_module": "@jupyter-widgets/base",
          "model_module_version": "1.2.0",
          "model_name": "LayoutModel",
          "state": {
            "_model_module": "@jupyter-widgets/base",
            "_model_module_version": "1.2.0",
            "_model_name": "LayoutModel",
            "_view_count": null,
            "_view_module": "@jupyter-widgets/base",
            "_view_module_version": "1.2.0",
            "_view_name": "LayoutView",
            "align_content": null,
            "align_items": null,
            "align_self": null,
            "border": null,
            "bottom": null,
            "display": null,
            "flex": null,
            "flex_flow": null,
            "grid_area": null,
            "grid_auto_columns": null,
            "grid_auto_flow": null,
            "grid_auto_rows": null,
            "grid_column": null,
            "grid_gap": null,
            "grid_row": null,
            "grid_template_areas": null,
            "grid_template_columns": null,
            "grid_template_rows": null,
            "height": null,
            "justify_content": null,
            "justify_items": null,
            "left": null,
            "margin": null,
            "max_height": null,
            "max_width": null,
            "min_height": null,
            "min_width": null,
            "object_fit": null,
            "object_position": null,
            "order": null,
            "overflow": null,
            "overflow_x": null,
            "overflow_y": null,
            "padding": null,
            "right": null,
            "top": null,
            "visibility": null,
            "width": null
          }
        },
        "75325dd373c049d991ca4b76ac61a40b": {
          "model_module": "@jupyter-widgets/controls",
          "model_module_version": "1.5.0",
          "model_name": "DescriptionStyleModel",
          "state": {
            "_model_module": "@jupyter-widgets/controls",
            "_model_module_version": "1.5.0",
            "_model_name": "DescriptionStyleModel",
            "_view_count": null,
            "_view_module": "@jupyter-widgets/base",
            "_view_module_version": "1.2.0",
            "_view_name": "StyleView",
            "description_width": ""
          }
        },
        "78295e87bda64873907877c2cb82cab0": {
          "model_module": "@jupyter-widgets/base",
          "model_module_version": "1.2.0",
          "model_name": "LayoutModel",
          "state": {
            "_model_module": "@jupyter-widgets/base",
            "_model_module_version": "1.2.0",
            "_model_name": "LayoutModel",
            "_view_count": null,
            "_view_module": "@jupyter-widgets/base",
            "_view_module_version": "1.2.0",
            "_view_name": "LayoutView",
            "align_content": null,
            "align_items": null,
            "align_self": null,
            "border": null,
            "bottom": null,
            "display": null,
            "flex": null,
            "flex_flow": null,
            "grid_area": null,
            "grid_auto_columns": null,
            "grid_auto_flow": null,
            "grid_auto_rows": null,
            "grid_column": null,
            "grid_gap": null,
            "grid_row": null,
            "grid_template_areas": null,
            "grid_template_columns": null,
            "grid_template_rows": null,
            "height": null,
            "justify_content": null,
            "justify_items": null,
            "left": null,
            "margin": null,
            "max_height": null,
            "max_width": null,
            "min_height": null,
            "min_width": null,
            "object_fit": null,
            "object_position": null,
            "order": null,
            "overflow": null,
            "overflow_x": null,
            "overflow_y": null,
            "padding": null,
            "right": null,
            "top": null,
            "visibility": null,
            "width": null
          }
        },
        "784afb5a4d2a4bf68152aa9c294bd54b": {
          "model_module": "@jupyter-widgets/base",
          "model_module_version": "1.2.0",
          "model_name": "LayoutModel",
          "state": {
            "_model_module": "@jupyter-widgets/base",
            "_model_module_version": "1.2.0",
            "_model_name": "LayoutModel",
            "_view_count": null,
            "_view_module": "@jupyter-widgets/base",
            "_view_module_version": "1.2.0",
            "_view_name": "LayoutView",
            "align_content": null,
            "align_items": null,
            "align_self": null,
            "border": null,
            "bottom": null,
            "display": null,
            "flex": null,
            "flex_flow": null,
            "grid_area": null,
            "grid_auto_columns": null,
            "grid_auto_flow": null,
            "grid_auto_rows": null,
            "grid_column": null,
            "grid_gap": null,
            "grid_row": null,
            "grid_template_areas": null,
            "grid_template_columns": null,
            "grid_template_rows": null,
            "height": null,
            "justify_content": null,
            "justify_items": null,
            "left": null,
            "margin": null,
            "max_height": null,
            "max_width": null,
            "min_height": null,
            "min_width": null,
            "object_fit": null,
            "object_position": null,
            "order": null,
            "overflow": null,
            "overflow_x": null,
            "overflow_y": null,
            "padding": null,
            "right": null,
            "top": null,
            "visibility": null,
            "width": null
          }
        },
        "80b7ec738404487d8274aa16f17a64af": {
          "model_module": "@jupyter-widgets/base",
          "model_module_version": "1.2.0",
          "model_name": "LayoutModel",
          "state": {
            "_model_module": "@jupyter-widgets/base",
            "_model_module_version": "1.2.0",
            "_model_name": "LayoutModel",
            "_view_count": null,
            "_view_module": "@jupyter-widgets/base",
            "_view_module_version": "1.2.0",
            "_view_name": "LayoutView",
            "align_content": null,
            "align_items": null,
            "align_self": null,
            "border": null,
            "bottom": null,
            "display": null,
            "flex": null,
            "flex_flow": null,
            "grid_area": null,
            "grid_auto_columns": null,
            "grid_auto_flow": null,
            "grid_auto_rows": null,
            "grid_column": null,
            "grid_gap": null,
            "grid_row": null,
            "grid_template_areas": null,
            "grid_template_columns": null,
            "grid_template_rows": null,
            "height": null,
            "justify_content": null,
            "justify_items": null,
            "left": null,
            "margin": null,
            "max_height": null,
            "max_width": null,
            "min_height": null,
            "min_width": null,
            "object_fit": null,
            "object_position": null,
            "order": null,
            "overflow": null,
            "overflow_x": null,
            "overflow_y": null,
            "padding": null,
            "right": null,
            "top": null,
            "visibility": null,
            "width": null
          }
        },
        "82987290956741d3b575004b44c108c9": {
          "model_module": "@jupyter-widgets/controls",
          "model_module_version": "1.5.0",
          "model_name": "ProgressStyleModel",
          "state": {
            "_model_module": "@jupyter-widgets/controls",
            "_model_module_version": "1.5.0",
            "_model_name": "ProgressStyleModel",
            "_view_count": null,
            "_view_module": "@jupyter-widgets/base",
            "_view_module_version": "1.2.0",
            "_view_name": "StyleView",
            "bar_color": null,
            "description_width": ""
          }
        },
        "83544529ef8e43ed96e40e43fb07cdd7": {
          "model_module": "@jupyter-widgets/controls",
          "model_module_version": "1.5.0",
          "model_name": "HTMLModel",
          "state": {
            "_dom_classes": [],
            "_model_module": "@jupyter-widgets/controls",
            "_model_module_version": "1.5.0",
            "_model_name": "HTMLModel",
            "_view_count": null,
            "_view_module": "@jupyter-widgets/controls",
            "_view_module_version": "1.5.0",
            "_view_name": "HTMLView",
            "description": "",
            "description_tooltip": null,
            "layout": "IPY_MODEL_10398e1b50ac43f09c0319cad9f1edc6",
            "placeholder": "​",
            "style": "IPY_MODEL_6b174fb941994a77b697182cb437a740",
            "value": " 177/4245 [00:15&lt;05:48, 11.69it/s]"
          }
        },
        "8c6541ad56c547feb240ce23c2305612": {
          "model_module": "@jupyter-widgets/controls",
          "model_module_version": "1.5.0",
          "model_name": "DescriptionStyleModel",
          "state": {
            "_model_module": "@jupyter-widgets/controls",
            "_model_module_version": "1.5.0",
            "_model_name": "DescriptionStyleModel",
            "_view_count": null,
            "_view_module": "@jupyter-widgets/base",
            "_view_module_version": "1.2.0",
            "_view_name": "StyleView",
            "description_width": ""
          }
        },
        "94e52d3937724c2b98ddb4c42085eaa0": {
          "model_module": "@jupyter-widgets/base",
          "model_module_version": "1.2.0",
          "model_name": "LayoutModel",
          "state": {
            "_model_module": "@jupyter-widgets/base",
            "_model_module_version": "1.2.0",
            "_model_name": "LayoutModel",
            "_view_count": null,
            "_view_module": "@jupyter-widgets/base",
            "_view_module_version": "1.2.0",
            "_view_name": "LayoutView",
            "align_content": null,
            "align_items": null,
            "align_self": null,
            "border": null,
            "bottom": null,
            "display": null,
            "flex": null,
            "flex_flow": null,
            "grid_area": null,
            "grid_auto_columns": null,
            "grid_auto_flow": null,
            "grid_auto_rows": null,
            "grid_column": null,
            "grid_gap": null,
            "grid_row": null,
            "grid_template_areas": null,
            "grid_template_columns": null,
            "grid_template_rows": null,
            "height": null,
            "justify_content": null,
            "justify_items": null,
            "left": null,
            "margin": null,
            "max_height": null,
            "max_width": null,
            "min_height": null,
            "min_width": null,
            "object_fit": null,
            "object_position": null,
            "order": null,
            "overflow": null,
            "overflow_x": null,
            "overflow_y": null,
            "padding": null,
            "right": null,
            "top": null,
            "visibility": null,
            "width": null
          }
        },
        "9a42ee1c67a54795b11dbb8669093be1": {
          "model_module": "@jupyter-widgets/controls",
          "model_module_version": "1.5.0",
          "model_name": "ProgressStyleModel",
          "state": {
            "_model_module": "@jupyter-widgets/controls",
            "_model_module_version": "1.5.0",
            "_model_name": "ProgressStyleModel",
            "_view_count": null,
            "_view_module": "@jupyter-widgets/base",
            "_view_module_version": "1.2.0",
            "_view_name": "StyleView",
            "bar_color": null,
            "description_width": ""
          }
        },
        "9e14badfe1da489f9a9de841d46bcc94": {
          "model_module": "@jupyter-widgets/controls",
          "model_module_version": "1.5.0",
          "model_name": "HBoxModel",
          "state": {
            "_dom_classes": [],
            "_model_module": "@jupyter-widgets/controls",
            "_model_module_version": "1.5.0",
            "_model_name": "HBoxModel",
            "_view_count": null,
            "_view_module": "@jupyter-widgets/controls",
            "_view_module_version": "1.5.0",
            "_view_name": "HBoxView",
            "box_style": "",
            "children": [
              "IPY_MODEL_11162e0794be40859841140ad8410785",
              "IPY_MODEL_f9b75983357e48ebab2747f2b4de5111",
              "IPY_MODEL_3d35024a2e43433da65e27f2009b8bc6"
            ],
            "layout": "IPY_MODEL_6f65f5950cda4e93983d4bde8fac5140"
          }
        },
        "9ed57a393fd74515b3bbeb550578d082": {
          "model_module": "@jupyter-widgets/controls",
          "model_module_version": "1.5.0",
          "model_name": "HBoxModel",
          "state": {
            "_dom_classes": [],
            "_model_module": "@jupyter-widgets/controls",
            "_model_module_version": "1.5.0",
            "_model_name": "HBoxModel",
            "_view_count": null,
            "_view_module": "@jupyter-widgets/controls",
            "_view_module_version": "1.5.0",
            "_view_name": "HBoxView",
            "box_style": "",
            "children": [
              "IPY_MODEL_26ec3bffef234112af553c614ded6384",
              "IPY_MODEL_a3b955ff39304fabbd453e73504cd8d7",
              "IPY_MODEL_70496fe8c0b84974b213298b505dde3b"
            ],
            "layout": "IPY_MODEL_549dea5935734a96b95b77f069ebaa29"
          }
        },
        "9fe1a53183b8468a8386350896a8679b": {
          "model_module": "@jupyter-widgets/controls",
          "model_module_version": "1.5.0",
          "model_name": "HTMLModel",
          "state": {
            "_dom_classes": [],
            "_model_module": "@jupyter-widgets/controls",
            "_model_module_version": "1.5.0",
            "_model_name": "HTMLModel",
            "_view_count": null,
            "_view_module": "@jupyter-widgets/controls",
            "_view_module_version": "1.5.0",
            "_view_name": "HTMLView",
            "description": "",
            "description_tooltip": null,
            "layout": "IPY_MODEL_94e52d3937724c2b98ddb4c42085eaa0",
            "placeholder": "​",
            "style": "IPY_MODEL_ce4e5da38b3f4e1abc2e4c98fb3f4907",
            "value": "  4%"
          }
        },
        "a31a037433954fd6ae248ff2d4173035": {
          "model_module": "@jupyter-widgets/controls",
          "model_module_version": "1.5.0",
          "model_name": "FloatProgressModel",
          "state": {
            "_dom_classes": [],
            "_model_module": "@jupyter-widgets/controls",
            "_model_module_version": "1.5.0",
            "_model_name": "FloatProgressModel",
            "_view_count": null,
            "_view_module": "@jupyter-widgets/controls",
            "_view_module_version": "1.5.0",
            "_view_name": "ProgressView",
            "bar_style": "",
            "description": "",
            "description_tooltip": null,
            "layout": "IPY_MODEL_2c5ccbd1286f4829ba54776b601fa921",
            "max": 4245,
            "min": 0,
            "orientation": "horizontal",
            "style": "IPY_MODEL_ac5222382e4d4c738f1bcc78a0771289",
            "value": 177
          }
        },
        "a357a19ab82a48e299bf32b225cce0ca": {
          "model_module": "@jupyter-widgets/base",
          "model_module_version": "1.2.0",
          "model_name": "LayoutModel",
          "state": {
            "_model_module": "@jupyter-widgets/base",
            "_model_module_version": "1.2.0",
            "_model_name": "LayoutModel",
            "_view_count": null,
            "_view_module": "@jupyter-widgets/base",
            "_view_module_version": "1.2.0",
            "_view_name": "LayoutView",
            "align_content": null,
            "align_items": null,
            "align_self": null,
            "border": null,
            "bottom": null,
            "display": null,
            "flex": null,
            "flex_flow": null,
            "grid_area": null,
            "grid_auto_columns": null,
            "grid_auto_flow": null,
            "grid_auto_rows": null,
            "grid_column": null,
            "grid_gap": null,
            "grid_row": null,
            "grid_template_areas": null,
            "grid_template_columns": null,
            "grid_template_rows": null,
            "height": null,
            "justify_content": null,
            "justify_items": null,
            "left": null,
            "margin": null,
            "max_height": null,
            "max_width": null,
            "min_height": null,
            "min_width": null,
            "object_fit": null,
            "object_position": null,
            "order": null,
            "overflow": null,
            "overflow_x": null,
            "overflow_y": null,
            "padding": null,
            "right": null,
            "top": null,
            "visibility": null,
            "width": null
          }
        },
        "a3b955ff39304fabbd453e73504cd8d7": {
          "model_module": "@jupyter-widgets/controls",
          "model_module_version": "1.5.0",
          "model_name": "FloatProgressModel",
          "state": {
            "_dom_classes": [],
            "_model_module": "@jupyter-widgets/controls",
            "_model_module_version": "1.5.0",
            "_model_name": "FloatProgressModel",
            "_view_count": null,
            "_view_module": "@jupyter-widgets/controls",
            "_view_module_version": "1.5.0",
            "_view_name": "ProgressView",
            "bar_style": "success",
            "description": "",
            "description_tooltip": null,
            "layout": "IPY_MODEL_af83c572e72a46648b58a3ca2b7692a3",
            "max": 4245,
            "min": 0,
            "orientation": "horizontal",
            "style": "IPY_MODEL_82987290956741d3b575004b44c108c9",
            "value": 4245
          }
        },
        "a425e4f379d44efe87130d7819a2c126": {
          "model_module": "@jupyter-widgets/base",
          "model_module_version": "1.2.0",
          "model_name": "LayoutModel",
          "state": {
            "_model_module": "@jupyter-widgets/base",
            "_model_module_version": "1.2.0",
            "_model_name": "LayoutModel",
            "_view_count": null,
            "_view_module": "@jupyter-widgets/base",
            "_view_module_version": "1.2.0",
            "_view_name": "LayoutView",
            "align_content": null,
            "align_items": null,
            "align_self": null,
            "border": null,
            "bottom": null,
            "display": null,
            "flex": null,
            "flex_flow": null,
            "grid_area": null,
            "grid_auto_columns": null,
            "grid_auto_flow": null,
            "grid_auto_rows": null,
            "grid_column": null,
            "grid_gap": null,
            "grid_row": null,
            "grid_template_areas": null,
            "grid_template_columns": null,
            "grid_template_rows": null,
            "height": null,
            "justify_content": null,
            "justify_items": null,
            "left": null,
            "margin": null,
            "max_height": null,
            "max_width": null,
            "min_height": null,
            "min_width": null,
            "object_fit": null,
            "object_position": null,
            "order": null,
            "overflow": null,
            "overflow_x": null,
            "overflow_y": null,
            "padding": null,
            "right": null,
            "top": null,
            "visibility": null,
            "width": null
          }
        },
        "a6dab5498f7c4ff4832823bd9798d92f": {
          "model_module": "@jupyter-widgets/controls",
          "model_module_version": "1.5.0",
          "model_name": "ProgressStyleModel",
          "state": {
            "_model_module": "@jupyter-widgets/controls",
            "_model_module_version": "1.5.0",
            "_model_name": "ProgressStyleModel",
            "_view_count": null,
            "_view_module": "@jupyter-widgets/base",
            "_view_module_version": "1.2.0",
            "_view_name": "StyleView",
            "bar_color": null,
            "description_width": ""
          }
        },
        "a9a6cc51207e4e9588d7e5605199bdf8": {
          "model_module": "@jupyter-widgets/controls",
          "model_module_version": "1.5.0",
          "model_name": "HBoxModel",
          "state": {
            "_dom_classes": [],
            "_model_module": "@jupyter-widgets/controls",
            "_model_module_version": "1.5.0",
            "_model_name": "HBoxModel",
            "_view_count": null,
            "_view_module": "@jupyter-widgets/controls",
            "_view_module_version": "1.5.0",
            "_view_name": "HBoxView",
            "box_style": "",
            "children": [
              "IPY_MODEL_6a3a94ab5b20454db9a60d037c66c9ca",
              "IPY_MODEL_bd67721485cc4443991add23fa25b936",
              "IPY_MODEL_aa98c59a35d04cccb1d26baeb4f1cdc8"
            ],
            "layout": "IPY_MODEL_46080adb412f4751b98d7dab76555a94"
          }
        },
        "aa98c59a35d04cccb1d26baeb4f1cdc8": {
          "model_module": "@jupyter-widgets/controls",
          "model_module_version": "1.5.0",
          "model_name": "HTMLModel",
          "state": {
            "_dom_classes": [],
            "_model_module": "@jupyter-widgets/controls",
            "_model_module_version": "1.5.0",
            "_model_name": "HTMLModel",
            "_view_count": null,
            "_view_module": "@jupyter-widgets/controls",
            "_view_module_version": "1.5.0",
            "_view_name": "HTMLView",
            "description": "",
            "description_tooltip": null,
            "layout": "IPY_MODEL_6a2e81c1186f4e0c85e068102c5a8183",
            "placeholder": "​",
            "style": "IPY_MODEL_67570aa0b51349bbbbc9155a40402812",
            "value": " 4245/4245 [06:13&lt;00:00, 12.34it/s]"
          }
        },
        "ac5222382e4d4c738f1bcc78a0771289": {
          "model_module": "@jupyter-widgets/controls",
          "model_module_version": "1.5.0",
          "model_name": "ProgressStyleModel",
          "state": {
            "_model_module": "@jupyter-widgets/controls",
            "_model_module_version": "1.5.0",
            "_model_name": "ProgressStyleModel",
            "_view_count": null,
            "_view_module": "@jupyter-widgets/base",
            "_view_module_version": "1.2.0",
            "_view_name": "StyleView",
            "bar_color": null,
            "description_width": ""
          }
        },
        "af83c572e72a46648b58a3ca2b7692a3": {
          "model_module": "@jupyter-widgets/base",
          "model_module_version": "1.2.0",
          "model_name": "LayoutModel",
          "state": {
            "_model_module": "@jupyter-widgets/base",
            "_model_module_version": "1.2.0",
            "_model_name": "LayoutModel",
            "_view_count": null,
            "_view_module": "@jupyter-widgets/base",
            "_view_module_version": "1.2.0",
            "_view_name": "LayoutView",
            "align_content": null,
            "align_items": null,
            "align_self": null,
            "border": null,
            "bottom": null,
            "display": null,
            "flex": null,
            "flex_flow": null,
            "grid_area": null,
            "grid_auto_columns": null,
            "grid_auto_flow": null,
            "grid_auto_rows": null,
            "grid_column": null,
            "grid_gap": null,
            "grid_row": null,
            "grid_template_areas": null,
            "grid_template_columns": null,
            "grid_template_rows": null,
            "height": null,
            "justify_content": null,
            "justify_items": null,
            "left": null,
            "margin": null,
            "max_height": null,
            "max_width": null,
            "min_height": null,
            "min_width": null,
            "object_fit": null,
            "object_position": null,
            "order": null,
            "overflow": null,
            "overflow_x": null,
            "overflow_y": null,
            "padding": null,
            "right": null,
            "top": null,
            "visibility": null,
            "width": null
          }
        },
        "b4c5446b1beb47ad86e82019afb173e7": {
          "model_module": "@jupyter-widgets/base",
          "model_module_version": "1.2.0",
          "model_name": "LayoutModel",
          "state": {
            "_model_module": "@jupyter-widgets/base",
            "_model_module_version": "1.2.0",
            "_model_name": "LayoutModel",
            "_view_count": null,
            "_view_module": "@jupyter-widgets/base",
            "_view_module_version": "1.2.0",
            "_view_name": "LayoutView",
            "align_content": null,
            "align_items": null,
            "align_self": null,
            "border": null,
            "bottom": null,
            "display": null,
            "flex": null,
            "flex_flow": null,
            "grid_area": null,
            "grid_auto_columns": null,
            "grid_auto_flow": null,
            "grid_auto_rows": null,
            "grid_column": null,
            "grid_gap": null,
            "grid_row": null,
            "grid_template_areas": null,
            "grid_template_columns": null,
            "grid_template_rows": null,
            "height": null,
            "justify_content": null,
            "justify_items": null,
            "left": null,
            "margin": null,
            "max_height": null,
            "max_width": null,
            "min_height": null,
            "min_width": null,
            "object_fit": null,
            "object_position": null,
            "order": null,
            "overflow": null,
            "overflow_x": null,
            "overflow_y": null,
            "padding": null,
            "right": null,
            "top": null,
            "visibility": null,
            "width": null
          }
        },
        "b70a37997b6b4bacb177a78d91636a1c": {
          "model_module": "@jupyter-widgets/controls",
          "model_module_version": "1.5.0",
          "model_name": "ProgressStyleModel",
          "state": {
            "_model_module": "@jupyter-widgets/controls",
            "_model_module_version": "1.5.0",
            "_model_name": "ProgressStyleModel",
            "_view_count": null,
            "_view_module": "@jupyter-widgets/base",
            "_view_module_version": "1.2.0",
            "_view_name": "StyleView",
            "bar_color": null,
            "description_width": ""
          }
        },
        "baa4aa4a82354a1f8b6cce6988b8d7cf": {
          "model_module": "@jupyter-widgets/controls",
          "model_module_version": "1.5.0",
          "model_name": "FloatProgressModel",
          "state": {
            "_dom_classes": [],
            "_model_module": "@jupyter-widgets/controls",
            "_model_module_version": "1.5.0",
            "_model_name": "FloatProgressModel",
            "_view_count": null,
            "_view_module": "@jupyter-widgets/controls",
            "_view_module_version": "1.5.0",
            "_view_name": "ProgressView",
            "bar_style": "",
            "description": "",
            "description_tooltip": null,
            "layout": "IPY_MODEL_2ce56e6a52a842cab5c288f65673aecc",
            "max": 4245,
            "min": 0,
            "orientation": "horizontal",
            "style": "IPY_MODEL_9a42ee1c67a54795b11dbb8669093be1",
            "value": 25
          }
        },
        "bcbbcc6defb045c6bc280960eb31c6c7": {
          "model_module": "@jupyter-widgets/controls",
          "model_module_version": "1.5.0",
          "model_name": "HBoxModel",
          "state": {
            "_dom_classes": [],
            "_model_module": "@jupyter-widgets/controls",
            "_model_module_version": "1.5.0",
            "_model_name": "HBoxModel",
            "_view_count": null,
            "_view_module": "@jupyter-widgets/controls",
            "_view_module_version": "1.5.0",
            "_view_name": "HBoxView",
            "box_style": "",
            "children": [
              "IPY_MODEL_06f7934341d64c4bb0cb9ce6b8427bbe",
              "IPY_MODEL_4b2ea08001d04353b23d25975c6e3faf",
              "IPY_MODEL_47f25ee2f0854c0e954f221acbf260b9"
            ],
            "layout": "IPY_MODEL_80b7ec738404487d8274aa16f17a64af"
          }
        },
        "bd67721485cc4443991add23fa25b936": {
          "model_module": "@jupyter-widgets/controls",
          "model_module_version": "1.5.0",
          "model_name": "FloatProgressModel",
          "state": {
            "_dom_classes": [],
            "_model_module": "@jupyter-widgets/controls",
            "_model_module_version": "1.5.0",
            "_model_name": "FloatProgressModel",
            "_view_count": null,
            "_view_module": "@jupyter-widgets/controls",
            "_view_module_version": "1.5.0",
            "_view_name": "ProgressView",
            "bar_style": "success",
            "description": "",
            "description_tooltip": null,
            "layout": "IPY_MODEL_a425e4f379d44efe87130d7819a2c126",
            "max": 4245,
            "min": 0,
            "orientation": "horizontal",
            "style": "IPY_MODEL_71458e224b2742e7a2d25d38e6a2a39c",
            "value": 4245
          }
        },
        "bfb7c3bea98a4212be6699a5f5a51cdb": {
          "model_module": "@jupyter-widgets/controls",
          "model_module_version": "1.5.0",
          "model_name": "DescriptionStyleModel",
          "state": {
            "_model_module": "@jupyter-widgets/controls",
            "_model_module_version": "1.5.0",
            "_model_name": "DescriptionStyleModel",
            "_view_count": null,
            "_view_module": "@jupyter-widgets/base",
            "_view_module_version": "1.2.0",
            "_view_name": "StyleView",
            "description_width": ""
          }
        },
        "ce4e5da38b3f4e1abc2e4c98fb3f4907": {
          "model_module": "@jupyter-widgets/controls",
          "model_module_version": "1.5.0",
          "model_name": "DescriptionStyleModel",
          "state": {
            "_model_module": "@jupyter-widgets/controls",
            "_model_module_version": "1.5.0",
            "_model_name": "DescriptionStyleModel",
            "_view_count": null,
            "_view_module": "@jupyter-widgets/base",
            "_view_module_version": "1.2.0",
            "_view_name": "StyleView",
            "description_width": ""
          }
        },
        "cf782714669f489697cb6fe17c2036fb": {
          "model_module": "@jupyter-widgets/base",
          "model_module_version": "1.2.0",
          "model_name": "LayoutModel",
          "state": {
            "_model_module": "@jupyter-widgets/base",
            "_model_module_version": "1.2.0",
            "_model_name": "LayoutModel",
            "_view_count": null,
            "_view_module": "@jupyter-widgets/base",
            "_view_module_version": "1.2.0",
            "_view_name": "LayoutView",
            "align_content": null,
            "align_items": null,
            "align_self": null,
            "border": null,
            "bottom": null,
            "display": null,
            "flex": null,
            "flex_flow": null,
            "grid_area": null,
            "grid_auto_columns": null,
            "grid_auto_flow": null,
            "grid_auto_rows": null,
            "grid_column": null,
            "grid_gap": null,
            "grid_row": null,
            "grid_template_areas": null,
            "grid_template_columns": null,
            "grid_template_rows": null,
            "height": null,
            "justify_content": null,
            "justify_items": null,
            "left": null,
            "margin": null,
            "max_height": null,
            "max_width": null,
            "min_height": null,
            "min_width": null,
            "object_fit": null,
            "object_position": null,
            "order": null,
            "overflow": null,
            "overflow_x": null,
            "overflow_y": null,
            "padding": null,
            "right": null,
            "top": null,
            "visibility": null,
            "width": null
          }
        },
        "e222fc7f03f146c086a73af45553104e": {
          "model_module": "@jupyter-widgets/controls",
          "model_module_version": "1.5.0",
          "model_name": "HBoxModel",
          "state": {
            "_dom_classes": [],
            "_model_module": "@jupyter-widgets/controls",
            "_model_module_version": "1.5.0",
            "_model_name": "HBoxModel",
            "_view_count": null,
            "_view_module": "@jupyter-widgets/controls",
            "_view_module_version": "1.5.0",
            "_view_name": "HBoxView",
            "box_style": "",
            "children": [
              "IPY_MODEL_9fe1a53183b8468a8386350896a8679b",
              "IPY_MODEL_a31a037433954fd6ae248ff2d4173035",
              "IPY_MODEL_83544529ef8e43ed96e40e43fb07cdd7"
            ],
            "layout": "IPY_MODEL_3b8e41a22e5c4627a4c36905517d5003"
          }
        },
        "f3e94ec9f37546338d612c06e444533b": {
          "model_module": "@jupyter-widgets/base",
          "model_module_version": "1.2.0",
          "model_name": "LayoutModel",
          "state": {
            "_model_module": "@jupyter-widgets/base",
            "_model_module_version": "1.2.0",
            "_model_name": "LayoutModel",
            "_view_count": null,
            "_view_module": "@jupyter-widgets/base",
            "_view_module_version": "1.2.0",
            "_view_name": "LayoutView",
            "align_content": null,
            "align_items": null,
            "align_self": null,
            "border": null,
            "bottom": null,
            "display": null,
            "flex": null,
            "flex_flow": null,
            "grid_area": null,
            "grid_auto_columns": null,
            "grid_auto_flow": null,
            "grid_auto_rows": null,
            "grid_column": null,
            "grid_gap": null,
            "grid_row": null,
            "grid_template_areas": null,
            "grid_template_columns": null,
            "grid_template_rows": null,
            "height": null,
            "justify_content": null,
            "justify_items": null,
            "left": null,
            "margin": null,
            "max_height": null,
            "max_width": null,
            "min_height": null,
            "min_width": null,
            "object_fit": null,
            "object_position": null,
            "order": null,
            "overflow": null,
            "overflow_x": null,
            "overflow_y": null,
            "padding": null,
            "right": null,
            "top": null,
            "visibility": null,
            "width": null
          }
        },
        "f53875bc82d74b64b129b8be7e97513f": {
          "model_module": "@jupyter-widgets/controls",
          "model_module_version": "1.5.0",
          "model_name": "HTMLModel",
          "state": {
            "_dom_classes": [],
            "_model_module": "@jupyter-widgets/controls",
            "_model_module_version": "1.5.0",
            "_model_name": "HTMLModel",
            "_view_count": null,
            "_view_module": "@jupyter-widgets/controls",
            "_view_module_version": "1.5.0",
            "_view_name": "HTMLView",
            "description": "",
            "description_tooltip": null,
            "layout": "IPY_MODEL_f3e94ec9f37546338d612c06e444533b",
            "placeholder": "​",
            "style": "IPY_MODEL_8c6541ad56c547feb240ce23c2305612",
            "value": " 25/4245 [00:02&lt;06:01, 11.69it/s]"
          }
        },
        "f9b75983357e48ebab2747f2b4de5111": {
          "model_module": "@jupyter-widgets/controls",
          "model_module_version": "1.5.0",
          "model_name": "FloatProgressModel",
          "state": {
            "_dom_classes": [],
            "_model_module": "@jupyter-widgets/controls",
            "_model_module_version": "1.5.0",
            "_model_name": "FloatProgressModel",
            "_view_count": null,
            "_view_module": "@jupyter-widgets/controls",
            "_view_module_version": "1.5.0",
            "_view_name": "ProgressView",
            "bar_style": "success",
            "description": "",
            "description_tooltip": null,
            "layout": "IPY_MODEL_a357a19ab82a48e299bf32b225cce0ca",
            "max": 4245,
            "min": 0,
            "orientation": "horizontal",
            "style": "IPY_MODEL_b70a37997b6b4bacb177a78d91636a1c",
            "value": 4245
          }
        },
        "fc1e9b76cac0430598351d2a6fdae89f": {
          "model_module": "@jupyter-widgets/controls",
          "model_module_version": "1.5.0",
          "model_name": "DescriptionStyleModel",
          "state": {
            "_model_module": "@jupyter-widgets/controls",
            "_model_module_version": "1.5.0",
            "_model_name": "DescriptionStyleModel",
            "_view_count": null,
            "_view_module": "@jupyter-widgets/base",
            "_view_module_version": "1.2.0",
            "_view_name": "StyleView",
            "description_width": ""
          }
        }
      }
    }
  },
  "nbformat": 4,
  "nbformat_minor": 0
}